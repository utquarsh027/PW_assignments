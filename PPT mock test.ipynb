{
 "cells": [
  {
   "cell_type": "markdown",
   "id": "477e60e8",
   "metadata": {},
   "source": [
    "#### Q. Given an integer array nums, move all 0's to the end of it while maintaining the relative order of the non-zero elements."
   ]
  },
  {
   "cell_type": "code",
   "execution_count": 3,
   "id": "caa4e059",
   "metadata": {},
   "outputs": [],
   "source": [
    "def moveZeroes(nums):\n",
    "        \"\"\"\n",
    "        Do not return anything, modify nums in-place instead.\n",
    "        \"\"\"\n",
    "        j=0\n",
    "        for i in range(len(nums)):\n",
    "            if nums[i]!=0:\n",
    "                nums[j],nums[i]=nums[i],nums[j]\n",
    "                j+=1\n",
    "        return nums"
   ]
  },
  {
   "cell_type": "code",
   "execution_count": 4,
   "id": "1d3b7462",
   "metadata": {},
   "outputs": [
    {
     "name": "stdout",
     "output_type": "stream",
     "text": [
      "[1, 3, 12, 0, 0]\n",
      "[0]\n"
     ]
    }
   ],
   "source": [
    "nums = [0,1,0,3,12]\n",
    "print(moveZeroes(nums))\n",
    "num1=[0]\n",
    "print(moveZeroes(num1))"
   ]
  },
  {
   "cell_type": "code",
   "execution_count": null,
   "id": "e4b1598a",
   "metadata": {},
   "outputs": [],
   "source": []
  }
 ],
 "metadata": {
  "kernelspec": {
   "display_name": "Python 3 (ipykernel)",
   "language": "python",
   "name": "python3"
  },
  "language_info": {
   "codemirror_mode": {
    "name": "ipython",
    "version": 3
   },
   "file_extension": ".py",
   "mimetype": "text/x-python",
   "name": "python",
   "nbconvert_exporter": "python",
   "pygments_lexer": "ipython3",
   "version": "3.10.5"
  }
 },
 "nbformat": 4,
 "nbformat_minor": 5
}
