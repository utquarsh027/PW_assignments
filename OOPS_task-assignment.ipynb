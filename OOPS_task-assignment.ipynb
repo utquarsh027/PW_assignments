{
 "cells": [
  {
   "cell_type": "markdown",
   "id": "908eb70d",
   "metadata": {},
   "source": [
    "#### Q1, Create a vehicle class with an init method having instance variables as name_of_vehicle, max_speed and average_of_vehicle."
   ]
  },
  {
   "cell_type": "code",
   "execution_count": 1,
   "id": "72b54651",
   "metadata": {},
   "outputs": [],
   "source": [
    "class vehicle:\n",
    "    def __init__(self,name_of_vehicle,max_speed,average_of_vehicle):\n",
    "        self.name_of_vehicle = name_of_vehicle\n",
    "        self.max_speed = max_speed\n",
    "        self.average_of_vehicle = average_of_vehicle "
   ]
  },
  {
   "cell_type": "markdown",
   "id": "b2591b9e",
   "metadata": {},
   "source": [
    "#### Q2. Create a child class car from the vehicle class created in Que 1, which will inherit the vehicle class.Create a method named seating_capacity which takes capacity as an argument and returns the name of the vehicle and its seating capacity."
   ]
  },
  {
   "cell_type": "code",
   "execution_count": 2,
   "id": "067140e5",
   "metadata": {},
   "outputs": [],
   "source": [
    "class car(vehicle):\n",
    "    def seating_capacity(self,capacity):\n",
    "        return f\"{self.name_of_vehicle} has a seating capacity of {capacity}.\""
   ]
  },
  {
   "cell_type": "code",
   "execution_count": 3,
   "id": "bd567e18",
   "metadata": {},
   "outputs": [],
   "source": [
    "c=car('Rolls Royce','40km/h',5)"
   ]
  },
  {
   "cell_type": "code",
   "execution_count": 4,
   "id": "056526ec",
   "metadata": {},
   "outputs": [
    {
     "data": {
      "text/plain": [
       "'Rolls Royce has a seating capacity of 2.'"
      ]
     },
     "execution_count": 4,
     "metadata": {},
     "output_type": "execute_result"
    }
   ],
   "source": [
    "c.seating_capacity(2)"
   ]
  },
  {
   "cell_type": "markdown",
   "id": "65f87469",
   "metadata": {},
   "source": [
    "#### Q3. What is multiple inheritance? Write a python code to demonstrate multiple inheritance."
   ]
  },
  {
   "cell_type": "markdown",
   "id": "d860ab21",
   "metadata": {},
   "source": [
    "Multiple inheritance is a type of inheritance in which a single class inherits the properties of more than one classes."
   ]
  },
  {
   "cell_type": "code",
   "execution_count": 5,
   "id": "43ac72bf",
   "metadata": {},
   "outputs": [],
   "source": [
    "class test:\n",
    "    def cla_meth(self):\n",
    "    \treturn 'this is from test class'\n",
    "class test1:\n",
    "    def cla_meth1(self):\n",
    "    \treturn 'this is from test class1'\n",
    "\n",
    "class test2(test,test1):\n",
    "    pass"
   ]
  },
  {
   "cell_type": "code",
   "execution_count": 6,
   "id": "c2e843d0",
   "metadata": {},
   "outputs": [],
   "source": [
    "tt=test2()"
   ]
  },
  {
   "cell_type": "code",
   "execution_count": 7,
   "id": "b9552160",
   "metadata": {},
   "outputs": [
    {
     "data": {
      "text/plain": [
       "'this is from test class'"
      ]
     },
     "execution_count": 7,
     "metadata": {},
     "output_type": "execute_result"
    }
   ],
   "source": [
    "tt.cla_meth()"
   ]
  },
  {
   "cell_type": "code",
   "execution_count": 8,
   "id": "c1a04e84",
   "metadata": {},
   "outputs": [
    {
     "data": {
      "text/plain": [
       "'this is from test class1'"
      ]
     },
     "execution_count": 8,
     "metadata": {},
     "output_type": "execute_result"
    }
   ],
   "source": [
    "tt.cla_meth1()"
   ]
  },
  {
   "cell_type": "markdown",
   "id": "3f4b2941",
   "metadata": {},
   "source": [
    "#### Q4. What are getter and setter in python? Create a class and create a getter and a setter method in this class."
   ]
  },
  {
   "cell_type": "markdown",
   "id": "84020614",
   "metadata": {},
   "source": [
    "Getter and setter are the methods used in oops to access and modify the private or protected variables of a class."
   ]
  },
  {
   "cell_type": "code",
   "execution_count": 9,
   "id": "3b5ad901",
   "metadata": {},
   "outputs": [],
   "source": [
    "class info:\n",
    "    def __init__(self,name,sex,salary):\n",
    "        self.__name=name\n",
    "        self.__sex=sex\n",
    "        self.__salary=salary\n",
    "        \n",
    "    @property\n",
    "    def get_salary(self):\n",
    "        return self.__salary\n",
    "    \n",
    "    @get_salary.setter\n",
    "    def set_salary(self,salary):\n",
    "        self.__salary=salary"
   ]
  },
  {
   "cell_type": "code",
   "execution_count": 10,
   "id": "b0c551c8",
   "metadata": {},
   "outputs": [],
   "source": [
    "pw=info('Utkarsh','M',45000)"
   ]
  },
  {
   "cell_type": "code",
   "execution_count": 11,
   "id": "0421e3ec",
   "metadata": {},
   "outputs": [
    {
     "data": {
      "text/plain": [
       "45000"
      ]
     },
     "execution_count": 11,
     "metadata": {},
     "output_type": "execute_result"
    }
   ],
   "source": [
    "pw.get_salary"
   ]
  },
  {
   "cell_type": "code",
   "execution_count": 12,
   "id": "93b1e5a5",
   "metadata": {},
   "outputs": [],
   "source": [
    "pw.set_salary=40000"
   ]
  },
  {
   "cell_type": "code",
   "execution_count": 13,
   "id": "1e68aced",
   "metadata": {},
   "outputs": [
    {
     "data": {
      "text/plain": [
       "40000"
      ]
     },
     "execution_count": 13,
     "metadata": {},
     "output_type": "execute_result"
    }
   ],
   "source": [
    "pw.get_salary"
   ]
  },
  {
   "cell_type": "markdown",
   "id": "482f633d",
   "metadata": {},
   "source": [
    "#### Q5.What is method overriding in python? Write a python code to demonstrate method overriding."
   ]
  },
  {
   "cell_type": "raw",
   "id": "a5c6a01d",
   "metadata": {},
   "source": [
    "Method overriding is a concept in object-oriented programming where a subclass defines a method with the same name as a method in its superclass. "
   ]
  },
  {
   "cell_type": "code",
   "execution_count": 14,
   "id": "d8811114",
   "metadata": {},
   "outputs": [],
   "source": [
    "class parent:\n",
    "    def greet(self):\n",
    "        print(\"Hi I'm from parent class\")\n",
    "class child(parent):\n",
    "        def greet(self):\n",
    "            print(\"Hi I'm from child class\")"
   ]
  },
  {
   "cell_type": "code",
   "execution_count": 15,
   "id": "3f99f6c1",
   "metadata": {},
   "outputs": [],
   "source": [
    "p=parent()\n",
    "c=child()"
   ]
  },
  {
   "cell_type": "code",
   "execution_count": 16,
   "id": "725903b0",
   "metadata": {},
   "outputs": [
    {
     "name": "stdout",
     "output_type": "stream",
     "text": [
      "Hi I'm from parent class\n"
     ]
    }
   ],
   "source": [
    "p.greet()"
   ]
  },
  {
   "cell_type": "code",
   "execution_count": 17,
   "id": "14ca1a9c",
   "metadata": {},
   "outputs": [
    {
     "name": "stdout",
     "output_type": "stream",
     "text": [
      "Hi I'm from child class\n"
     ]
    }
   ],
   "source": [
    "c.greet()"
   ]
  }
 ],
 "metadata": {
  "kernelspec": {
   "display_name": "Python 3 (ipykernel)",
   "language": "python",
   "name": "python3"
  },
  "language_info": {
   "codemirror_mode": {
    "name": "ipython",
    "version": 3
   },
   "file_extension": ".py",
   "mimetype": "text/x-python",
   "name": "python",
   "nbconvert_exporter": "python",
   "pygments_lexer": "ipython3",
   "version": "3.10.5"
  }
 },
 "nbformat": 4,
 "nbformat_minor": 5
}
