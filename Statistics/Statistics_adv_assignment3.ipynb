{
 "cells": [
  {
   "cell_type": "markdown",
   "id": "14e85bd6",
   "metadata": {},
   "source": [
    "#### Q1: What is Estimation Statistics? Explain point estimate and interval estimate."
   ]
  },
  {
   "cell_type": "markdown",
   "id": "0425908b",
   "metadata": {},
   "source": [
    "It is an obeserved numerical value to estimate an unknown population parameter.\n",
    "1. Point Estimate:\n",
    "Single observed numerical value \n",
    "2. Interval Estimate:\n",
    "Range of values used to estimate the unknown popultion parameter."
   ]
  },
  {
   "cell_type": "markdown",
   "id": "2f5ffc02",
   "metadata": {},
   "source": [
    "#### Q2. Write a Python function to estimate the population mean using a sample mean and standard deviation."
   ]
  },
  {
   "cell_type": "code",
   "execution_count": 1,
   "id": "c97ba54f",
   "metadata": {},
   "outputs": [
    {
     "name": "stdout",
     "output_type": "stream",
     "text": [
      "Estimated Population Mean: 81.80808080808082\n"
     ]
    }
   ],
   "source": [
    "def estimate_population_mean(sample_mean, sample_size, sample_std_dev):\n",
    "    \"\"\"\n",
    "    Estimate the population mean using a sample mean and standard deviation.\n",
    "\n",
    "    Parameters:\n",
    "        sample_mean (float): The mean of the sample.\n",
    "        sample_size (int): The size of the sample.\n",
    "        sample_std_dev (float): The standard deviation of the sample.\n",
    "\n",
    "    Returns:\n",
    "        float: The estimated population mean.\n",
    "    \"\"\"\n",
    "    import math\n",
    "\n",
    "    standard_error = sample_std_dev / math.sqrt(sample_size)\n",
    "    estimated_population_mean = sample_mean * (sample_size / (sample_size - 1)) + standard_error\n",
    "    return estimated_population_mean\n",
    "\n",
    "# Example usage:\n",
    "sample_mean = 80\n",
    "sample_size = 100\n",
    "sample_std_dev = 10\n",
    "\n",
    "estimated_mean = estimate_population_mean(sample_mean, sample_size, sample_std_dev)\n",
    "print(f\"Estimated Population Mean: {estimated_mean}\")"
   ]
  },
  {
   "cell_type": "markdown",
   "id": "97191327",
   "metadata": {},
   "source": [
    "#### Q3: What is Hypothesis testing? Why is it used? State the importance of Hypothesis testing."
   ]
  },
  {
   "cell_type": "markdown",
   "id": "20fffcc1",
   "metadata": {},
   "source": [
    "Hypothesis testing is a statistical method used to make inferences about a population based on sample data. It involves formulating two competing hypotheses, the null hypothesis (H0) and the alternative hypothesis (Ha), and then using sample data to determine whether there is enough evidence to reject the null hypothesis in favor of the alternative hypothesis."
   ]
  },
  {
   "cell_type": "markdown",
   "id": "879a2d54",
   "metadata": {},
   "source": [
    "1. **Inference**: Hypothesis testing allows us to draw conclusions about population parameters based on sample data. It helps us make statements about the population when it is not feasible or practical to measure the entire population.\n",
    "2. **Decision Making**: Hypothesis testing provides a structured framework for making decisions in various fields, such as medicine, economics, social sciences, etc. Researchers and practitioners can use hypothesis testing to determine whether a new treatment or intervention has a significant effect or whether a business strategy is effective.\n",
    "3. **Predictive Models**: Hypothesis testing is used in building predictive models to assess the significance of predictor variables and their impact on the response variable."
   ]
  },
  {
   "cell_type": "markdown",
   "id": "255e8784",
   "metadata": {},
   "source": [
    "#### Q4. Create a hypothesis that states whether the average weight of male college students is greater than the average weight of female college students."
   ]
  },
  {
   "cell_type": "raw",
   "id": "89a3cf31",
   "metadata": {},
   "source": [
    "Hypothesis testing involves formulating two competing hypotheses: the null hypothesis (H0) and the alternative hypothesis (Ha). In this case, we want to test whether the average weight of male college students is greater than the average weight of female college students.\n",
    "\n",
    "Null Hypothesis (H0): The average weight of male college students is equal to or less than the average weight of female college students.\n",
    "\n",
    "Alternative Hypothesis (Ha): The average weight of male college students is greater than the average weight of female college students."
   ]
  },
  {
   "cell_type": "markdown",
   "id": "29958715",
   "metadata": {},
   "source": [
    "#### Q5. Write a Python script to conduct a hypothesis test on the difference between two population means, given a sample from each population."
   ]
  },
  {
   "cell_type": "code",
   "execution_count": 6,
   "id": "02d1b943",
   "metadata": {},
   "outputs": [
    {
     "name": "stdout",
     "output_type": "stream",
     "text": [
      "Test Statistic: 3.7017161834347467\n",
      "P-value: 0.006027709375668251\n",
      "Degrees of Freedom: 8\n",
      "Reject the null hypothesis. There is significant evidence that the population means are different.\n"
     ]
    }
   ],
   "source": [
    "import numpy as np\n",
    "from scipy.stats import ttest_ind\n",
    "\n",
    "def hypothesis_test_two_means(sample1, sample2, alpha=0.05, alternative='two-sided'):\n",
    "    \"\"\"\n",
    "    Conduct a hypothesis test on the difference between two population means using independent samples.\n",
    "\n",
    "    Parameters:\n",
    "        sample1 (array-like): Sample data from population 1.\n",
    "        sample2 (array-like): Sample data from population 2.\n",
    "        alpha (float, optional): Significance level (default is 0.05).\n",
    "        alternative (str, optional): The alternative hypothesis ('two-sided', 'less', or 'greater') (default is 'two-sided').\n",
    "\n",
    "    Returns:\n",
    "        tuple: t-test result tuple containing the test statistic, p-value, and degrees of freedom.\n",
    "    \"\"\"\n",
    "    # Convert samples to numpy arrays\n",
    "    sample1 = np.array(sample1)\n",
    "    sample2 = np.array(sample2)\n",
    "\n",
    "    # Perform t-test for independent samples\n",
    "    t_stat, p_value = ttest_ind(sample1, sample2, alternative=alternative)\n",
    "\n",
    "    return t_stat, p_value, len(sample1) + len(sample2) - 2\n",
    "\n",
    "# Example usage:\n",
    "sample1 = [25, 30, 28, 34, 32]\n",
    "sample2 = [20, 22, 24, 26, 18]\n",
    "\n",
    "# Conduct a two-sided hypothesis test\n",
    "t_statistic, p_value, degrees_of_freedom = hypothesis_test_two_means(sample1, sample2)\n",
    "\n",
    "# Print the results\n",
    "print(f\"Test Statistic: {t_statistic}\")\n",
    "print(f\"P-value: {p_value}\")\n",
    "print(f\"Degrees of Freedom: {degrees_of_freedom}\")\n",
    "\n",
    "# Check if the null hypothesis is rejected or not\n",
    "alpha = 0.05\n",
    "if p_value < alpha:\n",
    "    print(\"Reject the null hypothesis. There is significant evidence that the population means are different.\")\n",
    "else:\n",
    "    print(\"Fail to reject the null hypothesis. There is no significant evidence to suggest that the population means are different.\")\n"
   ]
  },
  {
   "cell_type": "markdown",
   "id": "61a118a5",
   "metadata": {},
   "source": [
    "#### Q6: What is a null and alternative hypothesis? Give some examples."
   ]
  },
  {
   "cell_type": "markdown",
   "id": "8c6e4b00",
   "metadata": {},
   "source": [
    "Null Hypothesis is a statement or assumption we're beginning with whereas alternative hypothesis is the opposite of null hypothesis. If we get enough evidence to support null hypothesis we accept it otherwise reject it."
   ]
  },
  {
   "cell_type": "markdown",
   "id": "ff0a432c",
   "metadata": {},
   "source": [
    "**Example 1**: Coin Tossing\n",
    "- Null Hypothesis (H0): The coin is fair, and the probability of getting heads (H) or tails (T) is 0.5 for each.\n",
    "- Alternative Hypothesis (Ha): The coin is biased, and the probability of getting heads or tails is different from 0.5.\n",
    "\n",
    "**Example 2**: Drug Effectiveness\n",
    "- Null Hypothesis (H0): The new drug has no effect on patients' recovery time.\n",
    "- Alternative Hypothesis (Ha): The new drug reduces patients' recovery time significantly.\n",
    "\n",
    "**Example 3**: Education and Income\n",
    "- Null Hypothesis (H0): There is no relationship between education level and income.\n",
    "- Alternative Hypothesis (Ha): Higher education levels are associated with higher income levels."
   ]
  },
  {
   "cell_type": "markdown",
   "id": "4f216bb0",
   "metadata": {},
   "source": [
    "#### Q7: Write down the steps involved in hypothesis testing."
   ]
  },
  {
   "cell_type": "markdown",
   "id": "41f2182d",
   "metadata": {},
   "source": [
    "The process of hypothesis testing involves the following steps:\n",
    "\n",
    "Formulating Hypotheses: The null hypothesis (H0) is a statement of no effect or no difference, while the alternative hypothesis (Ha) is a statement that contradicts the null hypothesis and represents the effect or difference we are trying to detect.\n",
    "\n",
    "Choosing a Significance Level: The significance level (often denoted as α) is the probability of rejecting the null hypothesis when it is true. Commonly used significance levels are 0.05 (5%) or 0.01 (1%).\n",
    "\n",
    "Collecting Data: Data is collected through sampling or experiments, and relevant statistics (e.g., sample mean, sample standard deviation) are calculated.\n",
    "\n",
    "Calculating Test Statistic: A test statistic is calculated from the sample data, which is used to determine the likelihood of observing such results if the null hypothesis were true.\n",
    "\n",
    "Making a Decision: The test statistic is compared to critical values from a reference distribution (e.g., t-distribution, Z-distribution) based on the chosen significance level. If the test statistic falls in the critical region (extreme tails of the distribution), the null hypothesis is rejected in favor of the alternative hypothesis. If it falls in the non-critical region, the null hypothesis is not rejected."
   ]
  },
  {
   "cell_type": "markdown",
   "id": "0e49d62a",
   "metadata": {},
   "source": [
    "#### Q8. Define p-value and explain its significance in hypothesis testing."
   ]
  },
  {
   "cell_type": "markdown",
   "id": "c02c03b6",
   "metadata": {},
   "source": [
    "The p-value is a number calculated from a statistical test,that describes how likely we're to have found a set of obesrvation if the null hypothesis were true."
   ]
  },
  {
   "cell_type": "markdown",
   "id": "a7c5734d",
   "metadata": {},
   "source": [
    "P-value are used in Hypothesis testing to help decide whether to reject the null hypothesis."
   ]
  },
  {
   "cell_type": "markdown",
   "id": "44f3a76e",
   "metadata": {},
   "source": [
    "#### Q9. Generate a Student's t-distribution plot using Python's matplotlib library, with the degrees of freedom parameter set to 10."
   ]
  },
  {
   "cell_type": "code",
   "execution_count": 7,
   "id": "d446c035",
   "metadata": {},
   "outputs": [
    {
     "data": {
      "image/png": "[encoded data removed]",
      "text/plain": [
       "<Figure size 432x288 with 1 Axes>"
      ]
     },
     "metadata": {
      "needs_background": "light"
     },
     "output_type": "display_data"
    }
   ],
   "source": [
    "import numpy as np\n",
    "import matplotlib.pyplot as plt\n",
    "from scipy.stats import t\n",
    "\n",
    "# Degrees of freedom\n",
    "df = 10\n",
    "\n",
    "# Generate x values for the t-distribution plot\n",
    "x = np.linspace(-4, 4, 500)\n",
    "\n",
    "# Calculate the probability density function (PDF) for the t-distribution\n",
    "pdf = t.pdf(x, df)\n",
    "\n",
    "# Plot the t-distribution\n",
    "plt.plot(x, pdf, label=f'Student\\'s t-distribution (df={df})')\n",
    "plt.xlabel('x')\n",
    "plt.ylabel('Probability Density')\n",
    "plt.title('Student\\'s t-distribution')\n",
    "plt.legend()\n",
    "plt.grid(True)\n",
    "plt.show()\n"
   ]
  },
  {
   "cell_type": "markdown",
   "id": "ee3c64ac",
   "metadata": {},
   "source": [
    "#### Q10. Write a Python program to calculate the two-sample t-test for independent samples, given two random samples of equal size and a null hypothesis that the population means are equal."
   ]
  },
  {
   "cell_type": "code",
   "execution_count": 8,
   "id": "d1cb8f49",
   "metadata": {},
   "outputs": [
    {
     "name": "stdout",
     "output_type": "stream",
     "text": [
      "T-statistic: 3.7017161834347467\n",
      "P-value: 0.006027709375668251\n"
     ]
    }
   ],
   "source": [
    "import numpy as np\n",
    "from scipy.stats import ttest_ind\n",
    "\n",
    "def two_sample_t_test(sample1, sample2):\n",
    "    \"\"\"\n",
    "    Calculate the two-sample t-test for independent samples.\n",
    "\n",
    "    Parameters:\n",
    "        sample1 (array-like): First sample data.\n",
    "        sample2 (array-like): Second sample data.\n",
    "\n",
    "    Returns:\n",
    "        float: The t-statistic.\n",
    "        float: The two-tailed p-value.\n",
    "    \"\"\"\n",
    "    # Convert samples to numpy arrays\n",
    "    sample1 = np.array(sample1)\n",
    "    sample2 = np.array(sample2)\n",
    "\n",
    "    # Perform two-sample t-test for independent samples\n",
    "    t_stat, p_value = ttest_ind(sample1, sample2)\n",
    "\n",
    "    return t_stat, p_value\n",
    "\n",
    "# Example usage:\n",
    "sample1 = [25, 30, 28, 34, 32]\n",
    "sample2 = [20, 22, 24, 26, 18]\n",
    "\n",
    "# Calculate the two-sample t-test\n",
    "t_statistic, p_value = two_sample_t_test(sample1, sample2)\n",
    "\n",
    "# Print the results\n",
    "print(f\"T-statistic: {t_statistic}\")\n",
    "print(f\"P-value: {p_value}\")"
   ]
  },
  {
   "cell_type": "markdown",
   "id": "2cd70388",
   "metadata": {},
   "source": [
    "#### Q11: What is Student’s t distribution? When to use the t-Distribution."
   ]
  },
  {
   "cell_type": "markdown",
   "id": "6af447f0",
   "metadata": {},
   "source": [
    "Student's t-distribution, commonly known as the t-distribution, is a probability distribution that is used in statistics for making inferences about the population mean when the sample size is small and the population standard deviation is unknown."
   ]
  },
  {
   "cell_type": "markdown",
   "id": "8d8d1239",
   "metadata": {},
   "source": [
    "The t-distribution is used when:\n",
    "\n",
    "Small Sample Size: When the sample size is small (typically n < 30), the t-distribution is more appropriate for making inferences about the population mean. In such cases, using the standard normal distribution (Z-distribution) is not valid because the sample size is not large enough for the Central Limit Theorem to fully apply.\n",
    "\n",
    "Unknown Population Standard Deviation: The t-distribution is used when the population standard deviation is unknown, and we have to rely on the sample standard deviation to estimate it."
   ]
  },
  {
   "cell_type": "markdown",
   "id": "846c900d",
   "metadata": {},
   "source": [
    "#### Q12: What is t-statistic? State the formula for t-statistic."
   ]
  },
  {
   "cell_type": "markdown",
   "id": "08330acf",
   "metadata": {},
   "source": [
    "The t-statistic is a measure used in hypothesis testing to assess whether there is a significant difference between the sample mean and the hypothesized population mean. It is used in situations where the population standard deviation is unknown, and the sample size is small (typically n < 30). The t-statistic measures how many standard errors the sample mean is away from the hypothesized population mean.\n",
    "\n",
    "The formula for calculating the t-statistic for a one-sample t-test is:\n",
    "\n",
    "t = (x̄ - μ) / (s / √n)\n",
    "\n",
    "Where:\n",
    "\n",
    "- t is the t-statistic.\n",
    "- x̄ is the sample mean.\n",
    "- μ is the hypothesized population mean (the mean stated in the null hypothesis).\n",
    "- s is the sample standard deviation.\n",
    "- n is the sample size."
   ]
  },
  {
   "cell_type": "markdown",
   "id": "d2e1e0aa",
   "metadata": {},
   "source": [
    "#### Q13. A coffee shop owner wants to estimate the average daily revenue for their shop. They take a random sample of 50 days and find the sample mean revenue to be $ $ 500 with a standard deviation of $50. Estimate the population mean revenue with a 95% confidence interval."
   ]
  },
  {
   "cell_type": "code",
   "execution_count": 10,
   "id": "4b7d311e",
   "metadata": {},
   "outputs": [
    {
     "name": "stdout",
     "output_type": "stream",
     "text": [
      "2.009575234489209\n",
      "95% Confidence Interval for the Population Mean:\n",
      "Lower Bound: 485.79\n",
      "Upper Bound: 514.21\n"
     ]
    }
   ],
   "source": [
    "import numpy as np\n",
    "from scipy.stats import t\n",
    "\n",
    "# Given data\n",
    "sample_mean = 500\n",
    "sample_std_dev = 50\n",
    "sample_size = 50\n",
    "\n",
    "# Calculate the critical value for a 95% confidence interval\n",
    "confidence_level = 0.95\n",
    "degrees_of_freedom = sample_size - 1\n",
    "critical_value = t.ppf((1 + confidence_level) / 2, df=degrees_of_freedom)\n",
    "\n",
    "# Calculate the standard error\n",
    "standard_error = sample_std_dev / np.sqrt(sample_size)\n",
    "\n",
    "# Calculate the lower and upper bounds of the confidence interval\n",
    "lower_bound = sample_mean - (critical_value * standard_error)\n",
    "upper_bound = sample_mean + (critical_value * standard_error)\n",
    "\n",
    "# Print the results\n",
    "print(f\"95% Confidence Interval for the Population Mean:\")\n",
    "print(f\"Lower Bound: {lower_bound:.2f}\")\n",
    "print(f\"Upper Bound: {upper_bound:.2f}\")\n"
   ]
  },
  {
   "cell_type": "markdown",
   "id": "8cdac0fe",
   "metadata": {},
   "source": [
    "#### Q14. A researcher hypothesizes that a new drug will decrease blood pressure by 10 mmHg. They conduct aclinical trial with 100 patients and find that the sample mean decrease in blood pressure is 8 mmHg with a standard deviation of 3 mmHg. Test the hypothesis with a significance level of 0.05."
   ]
  },
  {
   "cell_type": "code",
   "execution_count": 11,
   "id": "5973364f",
   "metadata": {},
   "outputs": [
    {
     "name": "stdout",
     "output_type": "stream",
     "text": [
      "Reject the null hypothesis.\n",
      "The new drug decreases blood pressure significantly.\n"
     ]
    }
   ],
   "source": [
    "sample_mean=8\n",
    "sample_std=3\n",
    "population_mean=10\n",
    "significance_level=0.05\n",
    "sample_siz=100\n",
    "df=99\n",
    "t_statistics=(sample_mean-population_mean)/(sample_std/np.sqrt(sample_size))\n",
    "critical_value=t.ppf(1-significance_level,df=df)\n",
    "if t_statistic < -critical_value or t_statistic > critical_value:\n",
    "    print(\"Reject the null hypothesis.\")\n",
    "    print(\"The new drug decreases blood pressure significantly.\")\n",
    "else:\n",
    "    print(\"Fail to reject the null hypothesis.\")\n",
    "    print(\"There is no significant evidence to suggest that the new drug decreases blood pressure by 10 mmHg.\")"
   ]
  },
  {
   "cell_type": "markdown",
   "id": "330ec472",
   "metadata": {},
   "source": [
    "#### Q15. An electronics company produces a certain type of product with a mean weight of 5 pounds and a standard deviation of 0.5 pounds. A random sample of 25 products is taken, and the sample mean weight is found to be 4.8 pounds. Test the hypothesis that the true mean weight of the products is less than 5 pounds with a significance level of 0.01."
   ]
  },
  {
   "cell_type": "code",
   "execution_count": 19,
   "id": "277d9b9e",
   "metadata": {},
   "outputs": [
    {
     "name": "stdout",
     "output_type": "stream",
     "text": [
      "Fail to reject the null hypothesis.\n",
      "There is no significant evidence to suggest that the true mean weight of the products is less than 5 pounds.\n"
     ]
    }
   ],
   "source": [
    "p_mean=5\n",
    "p_std=0.5\n",
    "s_size=25\n",
    "s_mean=4.8\n",
    "significance=0.01\n",
    "\n",
    "t_stats=(s_mean-p_mean)/(p_std/np.sqrt(s_size))\n",
    "critical_value = t.ppf(1-0.01, df=df)\n",
    "if t_statistic < -critical_value:\n",
    "    print(\"Reject the null hypothesis.\")\n",
    "    print(\"There is sufficient evidence to suggest that the true mean weight of the products is less than 5 pounds.\")\n",
    "else:\n",
    "    print(\"Fail to reject the null hypothesis.\")\n",
    "    print(\"There is no significant evidence to suggest that the true mean weight of the products is less than 5 pounds.\")"
   ]
  },
  {
   "cell_type": "markdown",
   "id": "a6c24aec",
   "metadata": {},
   "source": [
    "#### Q16. Two groups of students are given different study materials to prepare for a test. The first group (n1 =30) has a mean score of 80 with a standard deviation of 10, and the second group (n2 = 40) has a mean score of 75 with a standard deviation of 8. Test the hypothesis that the population means for the two groups are equal with a significance level of 0.01."
   ]
  },
  {
   "cell_type": "code",
   "execution_count": 17,
   "id": "90e92be8",
   "metadata": {},
   "outputs": [
    {
     "name": "stdout",
     "output_type": "stream",
     "text": [
      "Fail to reject the null hypothesis.\n",
      "There is no significant evidence to suggest that the population means for the two groups are different.\n"
     ]
    }
   ],
   "source": [
    "n1=30\n",
    "m1=80\n",
    "std1=10\n",
    "n2=40\n",
    "m2=75\n",
    "std2=8\n",
    "df=n1+n2-2\n",
    "pooled_std_dev = np.sqrt(((n1 - 1) * std1**2 + (n2 - 1) * std2**2) / df)\n",
    "standard_error = pooled_std_dev * np.sqrt(1 / n1 + 1 / n2)\n",
    "\n",
    "t_stats=(m1-m2)/standard_error\n",
    "critical_value=t.ppf(1-0.01/2,df=df)\n",
    "if abs(t_stats) > critical_value:\n",
    "    print(\"Reject the null hypothesis.\")\n",
    "    print(\"There is sufficient evidence to suggest that the population means for the two groups are not equal.\")\n",
    "else:\n",
    "    print(\"Fail to reject the null hypothesis.\")\n",
    "    print(\"There is no significant evidence to suggest that the population means for the two groups are different.\")"
   ]
  },
  {
   "cell_type": "markdown",
   "id": "72f25baa",
   "metadata": {},
   "source": [
    "#### Q17. A marketing company wants to estimate the average number of ads watched by viewers during a TV program. They take a random sample of 50 viewers and find that the sample mean is 4 with a standard deviation of 1.5. Estimate the population mean with a 99% confidence interval."
   ]
  },
  {
   "cell_type": "code",
   "execution_count": 21,
   "id": "02e16c0c",
   "metadata": {},
   "outputs": [
    {
     "name": "stdout",
     "output_type": "stream",
     "text": [
      "99% Confidence Interval for the Population Mean:\n",
      "Lower Bound: 3.43\n",
      "Upper Bound: 4.57\n"
     ]
    }
   ],
   "source": [
    "# Given data\n",
    "sample_mean = 4\n",
    "sample_std_dev = 1.5\n",
    "sample_size = 50\n",
    "\n",
    "# Calculate the critical value for a 95% confidence interval\n",
    "confidence_level = 0.99\n",
    "degrees_of_freedom = sample_size - 1\n",
    "critical_value = t.ppf((1 + confidence_level) / 2, df=degrees_of_freedom)\n",
    "\n",
    "# Calculate the standard error\n",
    "standard_error = sample_std_dev / np.sqrt(sample_size)\n",
    "\n",
    "# Calculate the lower and upper bounds of the confidence interval\n",
    "lower_bound = sample_mean - (critical_value * standard_error)\n",
    "upper_bound = sample_mean + (critical_value * standard_error)\n",
    "\n",
    "# Print the results\n",
    "print(f\"99% Confidence Interval for the Population Mean:\")\n",
    "print(f\"Lower Bound: {lower_bound:.2f}\")\n",
    "print(f\"Upper Bound: {upper_bound:.2f}\")\n"
   ]
  },
  {
   "cell_type": "code",
   "execution_count": null,
   "id": "5be0fead",
   "metadata": {},
   "outputs": [],
   "source": []
  }
 ],
 "metadata": {
  "kernelspec": {
   "display_name": "Python 3 (ipykernel)",
   "language": "python",
   "name": "python3"
  },
  "language_info": {
   "codemirror_mode": {
    "name": "ipython",
    "version": 3
   },
   "file_extension": ".py",
   "mimetype": "text/x-python",
   "name": "python",
   "nbconvert_exporter": "python",
   "pygments_lexer": "ipython3",
   "version": "3.10.5"
  }
 },
 "nbformat": 4,
 "nbformat_minor": 5
}
