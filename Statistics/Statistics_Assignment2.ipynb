{
 "cells": [
  {
   "cell_type": "markdown",
   "id": "c19ea198",
   "metadata": {},
   "source": [
    "#### Q1. What are the three measures of central tendency?"
   ]
  },
  {
   "cell_type": "markdown",
   "id": "25cd4c51",
   "metadata": {},
   "source": [
    "The measures of central tendency are:\n",
    "1. Mean\n",
    "2. Median\n",
    "3. Mode "
   ]
  },
  {
   "cell_type": "markdown",
   "id": "b4f1a6bf",
   "metadata": {},
   "source": [
    "#### Q2. What is the difference between the mean, median, and mode? How are they used to measure the central tendency of a dataset?"
   ]
  },
  {
   "cell_type": "markdown",
   "id": "2e3ecbd4",
   "metadata": {},
   "source": [
    "Mean: The mean, also known as the average, is calculated by summing up all the values in the dataset and dividing the sum by the total number of values.\n",
    "\n",
    "Median: The median is the middle value of a dataset when it is sorted in ascending or descending order. If there is an even number of data points, the median is calculated as the average of the two middle values.\n",
    "\n",
    "Mode: The mode is the most frequently occurring value in a dataset."
   ]
  },
  {
   "cell_type": "markdown",
   "id": "cd3a82b1",
   "metadata": {},
   "source": [
    "#### Q3. Measure the three measures of central tendency for the given height data:\n",
    "#### [178,177,176,177,178.2,178,175,179,180,175,178.9,176.2,177,172.5,178,176.5]"
   ]
  },
  {
   "cell_type": "code",
   "execution_count": 4,
   "id": "afe5e0ed",
   "metadata": {},
   "outputs": [],
   "source": [
    "import pandas as pd"
   ]
  },
  {
   "cell_type": "code",
   "execution_count": 1,
   "id": "3a80dd6b",
   "metadata": {},
   "outputs": [],
   "source": [
    "data=[178,177,176,177,178.2,178,175,179,180,175,178.9,176.2,177,172.5,178,176.5]"
   ]
  },
  {
   "cell_type": "code",
   "execution_count": 5,
   "id": "eb5585cf",
   "metadata": {},
   "outputs": [],
   "source": [
    "df=pd.DataFrame({'data':data})"
   ]
  },
  {
   "cell_type": "code",
   "execution_count": 6,
   "id": "f1e0f6ce",
   "metadata": {},
   "outputs": [
    {
     "data": {
      "text/html": [
       "<div>\n",
       "<style scoped>\n",
       "    .dataframe tbody tr th:only-of-type {\n",
       "        vertical-align: middle;\n",
       "    }\n",
       "\n",
       "    .dataframe tbody tr th {\n",
       "        vertical-align: top;\n",
       "    }\n",
       "\n",
       "    .dataframe thead th {\n",
       "        text-align: right;\n",
       "    }\n",
       "</style>\n",
       "<table border=\"1\" class=\"dataframe\">\n",
       "  <thead>\n",
       "    <tr style=\"text-align: right;\">\n",
       "      <th></th>\n",
       "      <th>data</th>\n",
       "    </tr>\n",
       "  </thead>\n",
       "  <tbody>\n",
       "    <tr>\n",
       "      <th>0</th>\n",
       "      <td>178.0</td>\n",
       "    </tr>\n",
       "    <tr>\n",
       "      <th>1</th>\n",
       "      <td>177.0</td>\n",
       "    </tr>\n",
       "    <tr>\n",
       "      <th>2</th>\n",
       "      <td>176.0</td>\n",
       "    </tr>\n",
       "    <tr>\n",
       "      <th>3</th>\n",
       "      <td>177.0</td>\n",
       "    </tr>\n",
       "    <tr>\n",
       "      <th>4</th>\n",
       "      <td>178.2</td>\n",
       "    </tr>\n",
       "    <tr>\n",
       "      <th>5</th>\n",
       "      <td>178.0</td>\n",
       "    </tr>\n",
       "    <tr>\n",
       "      <th>6</th>\n",
       "      <td>175.0</td>\n",
       "    </tr>\n",
       "    <tr>\n",
       "      <th>7</th>\n",
       "      <td>179.0</td>\n",
       "    </tr>\n",
       "    <tr>\n",
       "      <th>8</th>\n",
       "      <td>180.0</td>\n",
       "    </tr>\n",
       "    <tr>\n",
       "      <th>9</th>\n",
       "      <td>175.0</td>\n",
       "    </tr>\n",
       "    <tr>\n",
       "      <th>10</th>\n",
       "      <td>178.9</td>\n",
       "    </tr>\n",
       "    <tr>\n",
       "      <th>11</th>\n",
       "      <td>176.2</td>\n",
       "    </tr>\n",
       "    <tr>\n",
       "      <th>12</th>\n",
       "      <td>177.0</td>\n",
       "    </tr>\n",
       "    <tr>\n",
       "      <th>13</th>\n",
       "      <td>172.5</td>\n",
       "    </tr>\n",
       "    <tr>\n",
       "      <th>14</th>\n",
       "      <td>178.0</td>\n",
       "    </tr>\n",
       "    <tr>\n",
       "      <th>15</th>\n",
       "      <td>176.5</td>\n",
       "    </tr>\n",
       "  </tbody>\n",
       "</table>\n",
       "</div>"
      ],
      "text/plain": [
       "     data\n",
       "0   178.0\n",
       "1   177.0\n",
       "2   176.0\n",
       "3   177.0\n",
       "4   178.2\n",
       "5   178.0\n",
       "6   175.0\n",
       "7   179.0\n",
       "8   180.0\n",
       "9   175.0\n",
       "10  178.9\n",
       "11  176.2\n",
       "12  177.0\n",
       "13  172.5\n",
       "14  178.0\n",
       "15  176.5"
      ]
     },
     "execution_count": 6,
     "metadata": {},
     "output_type": "execute_result"
    }
   ],
   "source": [
    "df"
   ]
  },
  {
   "cell_type": "code",
   "execution_count": 8,
   "id": "3789769c",
   "metadata": {},
   "outputs": [
    {
     "data": {
      "text/plain": [
       "data    177.01875\n",
       "dtype: float64"
      ]
     },
     "execution_count": 8,
     "metadata": {},
     "output_type": "execute_result"
    }
   ],
   "source": [
    "df.mean()"
   ]
  },
  {
   "cell_type": "code",
   "execution_count": 9,
   "id": "7beeb797",
   "metadata": {},
   "outputs": [
    {
     "data": {
      "text/plain": [
       "data    177.0\n",
       "dtype: float64"
      ]
     },
     "execution_count": 9,
     "metadata": {},
     "output_type": "execute_result"
    }
   ],
   "source": [
    "df.median()"
   ]
  },
  {
   "cell_type": "code",
   "execution_count": 10,
   "id": "52ba11cd",
   "metadata": {},
   "outputs": [],
   "source": [
    "from scipy import stats"
   ]
  },
  {
   "cell_type": "code",
   "execution_count": 11,
   "id": "75525fc4",
   "metadata": {},
   "outputs": [
    {
     "data": {
      "text/plain": [
       "ModeResult(mode=array([[177.]]), count=array([[3]]))"
      ]
     },
     "execution_count": 11,
     "metadata": {},
     "output_type": "execute_result"
    }
   ],
   "source": [
    "stats.mode(df)"
   ]
  },
  {
   "cell_type": "markdown",
   "id": "0a7d3c0b",
   "metadata": {},
   "source": [
    "#### Q4. Find the standard deviation for the given data:\n",
    "[178,177,176,177,178.2,178,175,179,180,175,178.9,176.2,177,172.5,178,176.5]"
   ]
  },
  {
   "cell_type": "code",
   "execution_count": 13,
   "id": "23c7041b",
   "metadata": {},
   "outputs": [
    {
     "data": {
      "text/plain": [
       "data    1.847239\n",
       "dtype: float64"
      ]
     },
     "execution_count": 13,
     "metadata": {},
     "output_type": "execute_result"
    }
   ],
   "source": [
    "df.std()"
   ]
  },
  {
   "cell_type": "markdown",
   "id": "8ce8e1ad",
   "metadata": {},
   "source": [
    "#### Q5. How are measures of dispersion such as range, variance, and standard deviation used to describe the spread of a dataset? Provide an example."
   ]
  },
  {
   "cell_type": "markdown",
   "id": "c8803454",
   "metadata": {},
   "source": [
    "Range: The range is the simplest measure of dispersion and is calculated by subtracting the minimum value from the maximum value in the dataset. It represents the extent between the smallest and largest values in the dataset."
   ]
  },
  {
   "cell_type": "markdown",
   "id": "d193426d",
   "metadata": {},
   "source": [
    "Variance: Variance measures the average squared deviation from the mean of the dataset. It provides an estimate of the overall variability of the data."
   ]
  },
  {
   "cell_type": "markdown",
   "id": "8854185e",
   "metadata": {},
   "source": [
    "Standard Deviation: The standard deviation is the square root of the variance and provides a measure of dispersion in the original unit of the data."
   ]
  },
  {
   "cell_type": "markdown",
   "id": "8628ad31",
   "metadata": {},
   "source": [
    "#### Q6. What is a Venn diagram?"
   ]
  },
  {
   "cell_type": "markdown",
   "id": "a83e99ef",
   "metadata": {},
   "source": [
    "A Venn diagram is a graphical representation used to visualize the relationships and similarities between different sets or groups of objects"
   ]
  },
  {
   "cell_type": "markdown",
   "id": "4014093c",
   "metadata": {},
   "source": [
    "#### Q7. For the two given sets A = (2,3,4,5,6,7) & B = (0,2,6,8,10). Find:\n",
    "(i) A interaction B\n",
    "(ii) A ⋃ B"
   ]
  },
  {
   "cell_type": "markdown",
   "id": "f7622edf",
   "metadata": {},
   "source": [
    "i. {2,6}"
   ]
  },
  {
   "cell_type": "markdown",
   "id": "ebdebe6c",
   "metadata": {},
   "source": [
    "ii. {0,2,3,4,5,6,7,8,10}"
   ]
  },
  {
   "cell_type": "markdown",
   "id": "21b9948c",
   "metadata": {},
   "source": [
    "#### Q8. What do you understand about skewness in data?"
   ]
  },
  {
   "cell_type": "markdown",
   "id": "fdc6baf9",
   "metadata": {},
   "source": [
    "Skewness is a statistical measure that describes the asymmetry or lack of symmetry in a probability distribution or dataset"
   ]
  },
  {
   "cell_type": "markdown",
   "id": "67359b7a",
   "metadata": {},
   "source": [
    "#### Q9. If a data is right skewed then what will be the position of median with respect to mean?"
   ]
  },
  {
   "cell_type": "markdown",
   "id": "8ec8f3b2",
   "metadata": {},
   "source": [
    "If a dataset is right-skewed (positively skewed), the mean will be greater than the median.  "
   ]
  },
  {
   "cell_type": "markdown",
   "id": "3a9560c4",
   "metadata": {},
   "source": [
    "#### Q10. Explain the difference between covariance and correlation. How are these measures used in statistical analysis?"
   ]
  },
  {
   "cell_type": "raw",
   "id": "bf40ebca",
   "metadata": {},
   "source": [
    "Covariance is used to find the relationship between two variablesi.e whether a variable increases or decreases with respect to change in another variable. But it does not provide a standarized scale to measure the strength of the relationship between two variables.\n",
    "Therefore we use correlation to find the relation between two variables.Unlike covariance it ranges between -1 and +1. The closer the correlation coefficient is to +1 or -1, the stronger the linear relationship between the variables.\n",
    "\n",
    "Both of them are used in identifying relationship and feature selection process."
   ]
  },
  {
   "cell_type": "markdown",
   "id": "fec8064b",
   "metadata": {},
   "source": [
    "#### Q11. What is the formula for calculating the sample mean? Provide an example calculation for a dataset."
   ]
  },
  {
   "cell_type": "markdown",
   "id": "6d5bb0c8",
   "metadata": {},
   "source": [
    "The formula for calculating sample mean is x̄ =∑xi /n"
   ]
  },
  {
   "cell_type": "markdown",
   "id": "885235c5",
   "metadata": {},
   "source": [
    "#### Q12. For a normal distribution data what is the relationship between its measure of central tendency?"
   ]
  },
  {
   "cell_type": "raw",
   "id": "bc511afb",
   "metadata": {},
   "source": [
    " For a normal distribution data all the measures of central tendency are perfectly at the center i.e. mean=median=mode."
   ]
  },
  {
   "cell_type": "markdown",
   "id": "5621b60a",
   "metadata": {},
   "source": [
    "#### Q14. How do outliers affect measures of central tendency and dispersion? Provide an example."
   ]
  },
  {
   "cell_type": "raw",
   "id": "e56933db",
   "metadata": {},
   "source": [
    "Outliers can significantly affect both measures of central tendency and measures of dispersion in a dataset. An outlier is an extreme value that lies far away from the bulk of the other data points in the dataset. These extreme values can distort the calculations of central tendency and spread, leading to misleading or inaccurate results. Here's how outliers impact these measures with an example:\n",
    "\n",
    "Example:\n",
    "Consider the following dataset of exam scores:\n",
    "\n",
    "{78, 82, 85, 90, 95, 98, 100, 102, 105, 55}\n",
    "\n",
    "Measures of Central Tendency:\n",
    "Mean: The mean is calculated by summing up all the values and dividing by the number of data points. In this case, the mean would be (78 + 82 + 85 + 90 + 95 + 98 + 100 + 102 + 105 + 55) / 10 = 90.\n",
    "Median: The median represents the middle value when the data is sorted in ascending order. In this case, the median would be 95, as there are 5 values below and 5 values above it.\n",
    "Now, let's introduce an outlier in the dataset:\n",
    "\n",
    "{78, 82, 85, 90, 95, 98, 100, 102, 105, 55, 200}\n",
    "\n",
    "Impact of Outliers on Measures of Central Tendency:\n",
    "\n",
    "Mean: The mean is now (78 + 82 + 85 + 90 + 95 + 98 + 100 + 102 + 105 + 55 + 200) / 11 ≈ 107. The presence of the outlier significantly increases the mean, shifting it away from the center of the data.\n",
    "Median: The median remains the same, as it is not influenced by the value of the outlier. The median is still 95.\n",
    "Measures of Dispersion:\n",
    "\n",
    "Range: The range is the difference between the maximum and minimum values in the dataset. Without the outlier, the range would be 105 - 55 = 50. However, with the outlier, the range becomes 200 - 55 = 145. The presence of the outlier significantly increases the spread of the data.\n",
    "Variance and Standard Deviation: These measures are affected by extreme values. The outlier increases the variability in the data and consequently increases both the variance and standard deviation.\n",
    "In this example, the outlier (200) has a notable impact on both the mean and range. The mean is pulled towards the extreme value, and the range is considerably increased. The median, however, remains unaffected by the outlier. When dealing with outliers, it's essential to carefully consider their impact on the measures of central tendency and dispersion to ensure a more accurate representation of the dataset. Depending on the context and the nature of the data, handling outliers can involve different approaches, such as removing them, transforming the data, or using robust statistical measures that are less influenced by extreme values."
   ]
  },
  {
   "cell_type": "code",
   "execution_count": null,
   "id": "f3ddc800",
   "metadata": {},
   "outputs": [],
   "source": []
  }
 ],
 "metadata": {
  "kernelspec": {
   "display_name": "Python 3 (ipykernel)",
   "language": "python",
   "name": "python3"
  },
  "language_info": {
   "codemirror_mode": {
    "name": "ipython",
    "version": 3
   },
   "file_extension": ".py",
   "mimetype": "text/x-python",
   "name": "python",
   "nbconvert_exporter": "python",
   "pygments_lexer": "ipython3",
   "version": "3.10.5"
  }
 },
 "nbformat": 4,
 "nbformat_minor": 5
}
