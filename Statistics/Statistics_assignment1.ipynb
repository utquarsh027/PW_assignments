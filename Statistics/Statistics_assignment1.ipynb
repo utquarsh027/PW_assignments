{
 "cells": [
  {
   "cell_type": "markdown",
   "id": "95521339",
   "metadata": {},
   "source": [
    "#### Q1. What is Statistics?"
   ]
  },
  {
   "cell_type": "markdown",
   "id": "b97d0202",
   "metadata": {},
   "source": [
    "Statistics is the science of collecting , organizing and analyzing data."
   ]
  },
  {
   "cell_type": "markdown",
   "id": "71685f34",
   "metadata": {},
   "source": [
    "#### Q2. Define the different types of statistics and give an example of when each type might be used."
   ]
  },
  {
   "cell_type": "markdown",
   "id": "1561cea5",
   "metadata": {},
   "source": [
    "1. Descriptive: It consists of organizing and summarizing data.Example : Calculating mean weight of students in a class.\n",
    "2. Inferential: It consists of using data we have measured to form conclusion. Example: Is the weight of the students is same as we expect of students of same school."
   ]
  },
  {
   "cell_type": "markdown",
   "id": "e12a7a73",
   "metadata": {},
   "source": [
    "#### Q4. Categorise the following datasets with respect to quantitative and qualitative data types:\n",
    "#### (i) Grading in exam: A+, A, B+, B, C+, C, D, E\n",
    "#### (ii) Colour of mangoes: yellow, green, orange, red\n",
    "#### (iii) Height data of a class: [178.9, 179, 179.5, 176, 177.2, 178.3, 175.8,...]\n",
    "#### (iv) Number of mangoes exported by a farm: [500, 600, 478, 672, ...]"
   ]
  },
  {
   "cell_type": "markdown",
   "id": "7f22db75",
   "metadata": {},
   "source": [
    "i. Grading exam- Qualitative data type\n",
    "\n",
    "ii. Color of mangoes- Qualitative data type\n",
    "\n",
    "iii. Height data of a class- Quantitative data type\n",
    "\n",
    "iv. Number of mangoes exported by a farm- Quantitative data type"
   ]
  },
  {
   "cell_type": "markdown",
   "id": "3bdcf4cc",
   "metadata": {},
   "source": [
    "#### Q5. Explain the concept of levels of measurement and give an example of a variable for each level."
   ]
  },
  {
   "cell_type": "markdown",
   "id": "d1c05824",
   "metadata": {},
   "source": [
    "Levels of measurement, also known as scales of measurement or types of data, refer to the different ways in which variables can be categorized and measured. There are four commonly recognized levels of measurement: nominal, ordinal, interval, and ratio. Each level has distinct properties that determine the types of statistical analysis that can be applied. Here's an explanation of each level along with an example variable:\n",
    "\n",
    "1. Nominal Level: At the nominal level, variables are categorical and can only be classified into distinct categories or groups. They have no inherent order or numerical value associated with them. Examples of variables at the nominal level include:\n",
    "\n",
    "   - Eye color (categories: blue, brown, green)\n",
    "   - Gender (categories: male, female, non-binary)\n",
    "   - Marital status (categories: married, single, divorced)\n",
    "\n",
    "2. Ordinal Level: Variables at the ordinal level possess the properties of the nominal level but also have an inherent order or ranking among the categories. The difference between categories, however, is not necessarily equal or quantifiable. Examples of variables at the ordinal level include:\n",
    "\n",
    "   - Educational attainment (categories: high school, associate's degree, bachelor's degree, master's degree, Ph.D.)\n",
    "   - Likert scale ratings (categories: strongly disagree, disagree, neutral, agree, strongly agree)\n",
    "   - Socioeconomic status (categories: low, middle, high)\n",
    "\n",
    "3. Interval Level: Variables at the interval level possess the properties of the ordinal level and have equal intervals between categories. They also allow for meaningful comparisons of the differences between values. However, the absence of a true zero point restricts the interpretation of ratios or meaningful multiplication. Examples of variables at the interval level include:\n",
    "\n",
    "   - Temperature measured in Celsius or Fahrenheit\n",
    "   - Years (e.g., 1990, 2000, 2010)\n",
    "   - IQ scores\n",
    "\n",
    "4. Ratio Level: Variables at the ratio level possess all the properties of the interval level but additionally have a meaningful zero point, allowing for ratios and meaningful multiplication. Examples of variables at the ratio level include:\n",
    "\n",
    "   - Height (measured in centimeters or inches)\n",
    "   - Weight (measured in kilograms or pounds)\n",
    "   - Income (measured in dollars)\n",
    "\n"
   ]
  },
  {
   "cell_type": "markdown",
   "id": "5e2c91c1",
   "metadata": {},
   "source": [
    "#### Q6. Why is it important to understand the level of measurement when analyzing data? Provide an example to illustrate your answer."
   ]
  },
  {
   "cell_type": "markdown",
   "id": "0234f74d",
   "metadata": {},
   "source": [
    "Understanding the level of measurement is crucial as it determines the types of statistical analysis that can be applied to a variable and influences the appropriate interpretation of the data.\n",
    "\n",
    "Suppose a research study aims to examine the satisfaction levels of customers in a hotel. The study collects data from customers by asking them to rate their satisfaction on a scale of 1 to 5, with 1 being \"Very dissatisfied\" and 5 being \"Very satisfied.In this example, the data collected can be considered as ordinal, as the scale represents ordered categories. The scores assigned to customers' satisfaction levels have a meaningful order, but the differences between the scores may not be equal. For instance, the difference between \"Very dissatisfied\" (1) and \"Dissatisfied\" (2) might not be the same as the difference between \"Satisfied\" (4) and \"Very satisfied\" (5).If someone incorrectly treats this data as interval or ratio level, they might attempt to calculate the mean satisfaction score or perform operations such as addition and subtraction. However, these calculations would be inappropriate because the scale is not truly quantitative and does not possess equal intervals.\n",
    "\n"
   ]
  },
  {
   "cell_type": "markdown",
   "id": "f8445a01",
   "metadata": {},
   "source": [
    "#### Q7. How nominal data type is different from ordinal data type."
   ]
  },
  {
   "cell_type": "markdown",
   "id": "9dd6b4b2",
   "metadata": {},
   "source": [
    "Nominal data type consist of categorical data that can be divided into distinct groups. Example : Gender,Blood grp\n",
    "\n",
    "Variables at the ordinal level possess the properties of the nominal level but also have an inherent order or ranking among the categories.Example: customer satisfaction."
   ]
  },
  {
   "cell_type": "markdown",
   "id": "22d4f4b8",
   "metadata": {},
   "source": [
    "#### Q8. Which type of plot can be used to display data in terms of range?"
   ]
  },
  {
   "cell_type": "markdown",
   "id": "d8db1203",
   "metadata": {},
   "source": [
    "A box plot, also known as a box-and-whisker plot, is commonly used to display data in terms of range."
   ]
  },
  {
   "cell_type": "markdown",
   "id": "dc194223",
   "metadata": {},
   "source": [
    "#### Q9. Describe the difference between descriptive and inferential statistics. Give an example of each type of statistics and explain how they are used."
   ]
  },
  {
   "cell_type": "markdown",
   "id": "d8930269",
   "metadata": {},
   "source": [
    "Descriptive Statistics:\n",
    "Descriptive statistics involve summarizing and describing the main features of a dataset. They provide a concise summary of the data, allowing for a better understanding of its characteristics. Descriptive statistics focus on organizing, displaying, and analyzing data to provide insights into its central tendency, variability, and distribution. These statistics do not involve drawing conclusions beyond the data itself but aim to provide a clear and meaningful representation of the dataset.\n",
    "- Example: Mean and Standard Deviation\n",
    "Let's consider a dataset of the heights of students in a classroom. Descriptive statistics can be used to calculate the mean height, which represents the average height of the students. Additionally, the standard deviation can be calculated to measure the variability or spread of the heights in the dataset. These descriptive statistics provide a summary of the central tendency and dispersion of the heights, allowing us to understand the overall pattern of the data without making inferences beyond the given dataset.\n",
    "\n",
    "Inferential Statistics:\n",
    "Inferential statistics involve drawing conclusions and making inferences about a population based on a sample. It utilizes probability theory to estimate population parameters and test hypotheses. Inferential statistics allow researchers to make generalizations or predictions about a larger population based on a smaller sample. This branch of statistics involves hypothesis testing, confidence intervals, and regression analysis, among other techniques.\n",
    "- Example: Hypothesis Testing\n",
    "Suppose a pharmaceutical company develops a new drug and wants to determine if it is more effective than an existing drug for treating a specific condition. They conduct a randomized controlled trial where participants are randomly assigned to either the new drug group or the existing drug group. After the trial, inferential statistics can be used to analyze the data and draw conclusions about the effectiveness of the new drug."
   ]
  },
  {
   "cell_type": "markdown",
   "id": "7d3f6e46",
   "metadata": {},
   "source": [
    "#### Q10. What are some common measures of central tendency and variability used in statistics? Explain how each measure can be used to describe a dataset."
   ]
  },
  {
   "cell_type": "markdown",
   "id": "19f4d44c",
   "metadata": {},
   "source": [
    "Common measures of central tendancy and variability are :\n",
    "1. Mean\n",
    "2. Median\n",
    "3. Mode\n",
    "4. Variance\n",
    "5. Standard deviation"
   ]
  },
  {
   "cell_type": "markdown",
   "id": "2e373184",
   "metadata": {},
   "source": [
    "1. Mean: The mean is the most commonly used measure of central tendency. It is calculated by summing all the values in a dataset and dividing by the total number of observations.\n",
    "\n",
    "2. Median: The median is the middle value in an ordered dataset. It is determined by arranging the values in ascending or descending order and finding the value that divides the dataset into two equal halves. The median is less sensitive to extreme values compared to the mean and is often used when the dataset contains outliers or is skewed.\n",
    "\n",
    "3. Mode: The mode is the value that appears most frequently in a dataset. It represents the value or values with the highest occurrence. The mode is useful for describing the most common or popular observation in a dataset, especially when dealing with categorical or discrete data."
   ]
  },
  {
   "cell_type": "markdown",
   "id": "34b89f52",
   "metadata": {},
   "source": [
    "4. Variance: Variance measures the average squared deviation from the mean in a dataset. It quantifies the dispersion of the data points around the mean. A higher variance indicates a greater spread of the data, while a lower variance suggests that the data points are closer to the mean\n",
    "\n",
    "5. Standard Deviation: The standard deviation is the square root of the variance. It provides a measure of dispersion similar to variance but in the original units of the dataset. The standard deviation is often preferred over variance because it is easier to interpret and compare across different datasets"
   ]
  },
  {
   "cell_type": "code",
   "execution_count": null,
   "id": "8651721c",
   "metadata": {},
   "outputs": [],
   "source": []
  }
 ],
 "metadata": {
  "kernelspec": {
   "display_name": "Python 3 (ipykernel)",
   "language": "python",
   "name": "python3"
  },
  "language_info": {
   "codemirror_mode": {
    "name": "ipython",
    "version": 3
   },
   "file_extension": ".py",
   "mimetype": "text/x-python",
   "name": "python",
   "nbconvert_exporter": "python",
   "pygments_lexer": "ipython3",
   "version": "3.10.5"
  }
 },
 "nbformat": 4,
 "nbformat_minor": 5
}
