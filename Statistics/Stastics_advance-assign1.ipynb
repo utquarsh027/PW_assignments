{
 "cells": [
  {
   "cell_type": "markdown",
   "id": "cfc60e83",
   "metadata": {},
   "source": [
    "#### Q1. What is the Probability density function?"
   ]
  },
  {
   "cell_type": "markdown",
   "id": "60f88d29",
   "metadata": {},
   "source": [
    "Probability density function is a concept in statistics that is used to describe the probability distribution of continous random varible.\n",
    "For a continuous random variable X, the probability density function is denoted as f(x) and satisfies the following properties:\n",
    "\n",
    "1. f(x) is non-negative for all x in its domain.\n",
    "2. The total area under the curve of f(x) over its entire domain is equal to 1."
   ]
  },
  {
   "cell_type": "markdown",
   "id": "9f00b7a4",
   "metadata": {},
   "source": [
    "#### Q2. What are the types of Probability distribution?"
   ]
  },
  {
   "cell_type": "markdown",
   "id": "1fc71e85",
   "metadata": {},
   "source": [
    "The different type of probability distribution functions are as follows:\n",
    "1. Normal (Gaussian) Distribution: Describes continuous random variables with a bell-shaped curve, characterized by its mean (μ) and standard deviation (σ).\n",
    "\n",
    "2. Uniform Distribution: All outcomes within a specified range are equally likely.\n",
    "\n",
    "3. Binomial Distribution: Describes the number of successes in a fixed number of independent Bernoulli trials.\n",
    "\n",
    "4. Poisson Distribution: Models the number of events occurring in a fixed interval of time or space.\n",
    "\n",
    "5. Bernoulli Distribution: A simple discrete distribution that models a single binary event with two possible outcomes."
   ]
  },
  {
   "cell_type": "markdown",
   "id": "06a6b266",
   "metadata": {},
   "source": [
    "#### Q3. Write a Python function to calculate the probability density function of a normal distribution with given mean and standard deviation at a given point."
   ]
  },
  {
   "cell_type": "code",
   "execution_count": 1,
   "id": "d6202a57",
   "metadata": {},
   "outputs": [
    {
     "name": "stdout",
     "output_type": "stream",
     "text": [
      "The PDF value at x = 1.5 is: 0.12951759566589174\n"
     ]
    }
   ],
   "source": [
    "from scipy.stats import norm\n",
    "\n",
    "def normal_pdf(mean, std_dev, x):\n",
    "    \"\"\"\n",
    "    Calculate the probability density function (PDF) of a normal distribution at a given point.\n",
    "\n",
    "    Parameters:\n",
    "        mean (float): The mean (μ) of the normal distribution.\n",
    "        std_dev (float): The standard deviation (σ) of the normal distribution.\n",
    "        x (float): The point at which to evaluate the PDF.\n",
    "\n",
    "    Returns:\n",
    "        float: The PDF value at the given point.\n",
    "    \"\"\"\n",
    "    pdf_value = norm.pdf(x, loc=mean, scale=std_dev)\n",
    "    return pdf_value\n",
    "\n",
    "# Example usage:\n",
    "mean = 0\n",
    "std_dev = 1\n",
    "x_value = 1.5\n",
    "pdf_at_x = normal_pdf(mean, std_dev, x_value)\n",
    "print(f\"The PDF value at x = {x_value} is: {pdf_at_x}\")\n"
   ]
  },
  {
   "cell_type": "markdown",
   "id": "01145fb7",
   "metadata": {},
   "source": [
    "#### Q4. What are the properties of Binomial distribution? Give two examples of events where binomial distribution can be applied."
   ]
  },
  {
   "cell_type": "markdown",
   "id": "a829fa7a",
   "metadata": {},
   "source": [
    "1. Used for discrete random variables i.e PMF\n",
    "2. Outcome is always binary.\n",
    "3. It has two parameters (p,q) where p is the success of a an event and q is the failure of the same event.\n",
    "4. Fixed number of trials.\n",
    "5. Independent trials."
   ]
  },
  {
   "cell_type": "markdown",
   "id": "3b2f2f38",
   "metadata": {},
   "source": [
    "Two examples of events where the Binomial distribution can be applied are:\n",
    "\n",
    "1. Coin Tossing: Consider flipping a fair coin multiple times and counting the number of heads obtained. Each coin flip can be seen as a Bernoulli trial, with a success being a head and a failure being a tail. The probability of getting a head (success) is 0.5 (assuming a fair coin), and the probability of getting a tail (failure) is also 0.5. If we want to find the probability of getting a specific number of heads in a fixed number of coin flips (e.g., 3 heads in 5 tosses), we can use the Binomial distribution.\n",
    "\n",
    "2. Product Defects: Suppose a manufacturing company produces a large number of items, and each item has a certain probability of being defective. The company is interested in knowing the probability of getting a specific number of defective items in a batch of fixed size. This situation can be modeled using the Binomial distribution, where each item's quality is a Bernoulli trial, and the probability of success (defective item) is the probability of a product being defective, while the probability of failure (non-defective item) is the complement of that. The Binomial distribution can help calculate the likelihood of obtaining a particular number of defective items in the batch."
   ]
  },
  {
   "cell_type": "markdown",
   "id": "b41f4026",
   "metadata": {},
   "source": [
    "#### Q5. Generate a random sample of size 1000 from a binomial distribution with probability of success 0.4 and plot a histogram of the results using matplotlib."
   ]
  },
  {
   "cell_type": "code",
   "execution_count": 2,
   "id": "56a42644",
   "metadata": {},
   "outputs": [],
   "source": [
    "import numpy as np\n",
    "import matplotlib.pyplot as plt"
   ]
  },
  {
   "cell_type": "code",
   "execution_count": 20,
   "id": "45421c35",
   "metadata": {},
   "outputs": [],
   "source": [
    "def generate_random(size,probability):\n",
    "    return np.random.binomial(1,probability,size=size)"
   ]
  },
  {
   "cell_type": "code",
   "execution_count": 22,
   "id": "d80bf06f",
   "metadata": {},
   "outputs": [
    {
     "data": {
      "image/png": "[encoded data removed]",
      "text/plain": [
       "<Figure size 432x288 with 1 Axes>"
      ]
     },
     "metadata": {
      "needs_background": "light"
     },
     "output_type": "display_data"
    }
   ],
   "source": [
    "size=1000\n",
    "p=0.4\n",
    "sample=generate_random(size,p)\n",
    "plt.hist(sample, bins=2, rwidth=0.8, align='left', range=[0, 2])\n",
    "plt.xticks([0, 1], ['Failure (0)', 'Success (1)'])\n",
    "plt.xlabel('Outcome')\n",
    "plt.ylabel('Frequency')\n",
    "plt.title(f'Binomial Distribution Sample\\nProbability of Success: {p}, Sample Size: {size}')\n",
    "plt.show()"
   ]
  },
  {
   "cell_type": "markdown",
   "id": "7c11dcf8",
   "metadata": {},
   "source": [
    "#### Q6. Write a Python function to calculate the cumulative distribution function of a Poisson distribution with given mean at a given point."
   ]
  },
  {
   "cell_type": "code",
   "execution_count": 10,
   "id": "850bab39",
   "metadata": {},
   "outputs": [],
   "source": [
    "from scipy.stats import poisson"
   ]
  },
  {
   "cell_type": "code",
   "execution_count": 14,
   "id": "ff41fba0",
   "metadata": {},
   "outputs": [],
   "source": [
    "def cdf_poisson(mean,x):\n",
    "    cdf_value=poisson.cdf(x,mu=mean)\n",
    "    return cdf_value"
   ]
  },
  {
   "cell_type": "code",
   "execution_count": 15,
   "id": "17e78a45",
   "metadata": {},
   "outputs": [
    {
     "name": "stdout",
     "output_type": "stream",
     "text": [
      "The CDF value at x = 5 is: 0.8576135530957782\n"
     ]
    }
   ],
   "source": [
    "mean = 3.5\n",
    "x_value = 5\n",
    "cdf_at_x = cdf_poisson(mean, x_value)\n",
    "print(f\"The CDF value at x = {x_value} is: {cdf_at_x}\")"
   ]
  },
  {
   "cell_type": "markdown",
   "id": "9a60cb9b",
   "metadata": {},
   "source": [
    "#### Q7. How Binomial distribution different from Poisson distribution?"
   ]
  },
  {
   "cell_type": "markdown",
   "id": "873ed714",
   "metadata": {},
   "source": [
    "Binomial distribution decribes no. of success in fixed number of trial whereas poisson distribution describes the number of events occuring in a fixed time interval."
   ]
  },
  {
   "cell_type": "markdown",
   "id": "771e8419",
   "metadata": {},
   "source": [
    "#### Q8. Generate a random sample of size 1000 from a Poisson distribution with mean 5 and calculate the sample mean and variance."
   ]
  },
  {
   "cell_type": "code",
   "execution_count": 35,
   "id": "fd03ae71",
   "metadata": {},
   "outputs": [],
   "source": [
    "def generate_random_Poisson(size,mean):\n",
    "    return np.random.poisson(mean,size=size)"
   ]
  },
  {
   "cell_type": "code",
   "execution_count": 40,
   "id": "952858d8",
   "metadata": {},
   "outputs": [],
   "source": [
    "sample=generate_random_Poisson(5,1000)"
   ]
  },
  {
   "cell_type": "code",
   "execution_count": 41,
   "id": "52c68afb",
   "metadata": {},
   "outputs": [
    {
     "data": {
      "text/plain": [
       "array([ 967,  961,  985,  971, 1012])"
      ]
     },
     "execution_count": 41,
     "metadata": {},
     "output_type": "execute_result"
    }
   ],
   "source": [
    "sample"
   ]
  },
  {
   "cell_type": "code",
   "execution_count": 42,
   "id": "24619d82",
   "metadata": {},
   "outputs": [
    {
     "data": {
      "text/plain": [
       "979.2"
      ]
     },
     "execution_count": 42,
     "metadata": {},
     "output_type": "execute_result"
    }
   ],
   "source": [
    "np.mean(sample)"
   ]
  },
  {
   "cell_type": "code",
   "execution_count": 44,
   "id": "e766caaf",
   "metadata": {},
   "outputs": [
    {
     "data": {
      "text/plain": [
       "414.2"
      ]
     },
     "execution_count": 44,
     "metadata": {},
     "output_type": "execute_result"
    }
   ],
   "source": [
    "np.var(sample,ddof=1)"
   ]
  },
  {
   "cell_type": "markdown",
   "id": "a61193f2",
   "metadata": {},
   "source": [
    "#### Q9. How mean and variance are related in Binomial distribution and Poisson distribution?"
   ]
  },
  {
   "cell_type": "markdown",
   "id": "e5fc49c0",
   "metadata": {},
   "source": [
    "In a normal distribution, the least frequent data points appear at the tails of the distribution, farthest away from the mean. The normal distribution is a symmetric bell-shaped curve, and its shape is determined by the mean (μ) and standard deviation (σ)."
   ]
  },
  {
   "cell_type": "markdown",
   "id": "a60cb151",
   "metadata": {},
   "source": [
    "#### Q10. In normal distribution with respect to mean position, where does the least frequent data appear?"
   ]
  },
  {
   "cell_type": "markdown",
   "id": "bd55d33a",
   "metadata": {},
   "source": [
    "As we move away from the mean towards the tails of the distribution, the data points become less frequent. This is because the probability density decreases as we move away from the mean. The tails of the normal distribution extend infinitely in both directions, but in practice, most of the data lies within a few standard deviations from the mean."
   ]
  },
  {
   "cell_type": "code",
   "execution_count": null,
   "id": "fd612c53",
   "metadata": {},
   "outputs": [],
   "source": []
  }
 ],
 "metadata": {
  "kernelspec": {
   "display_name": "Python 3 (ipykernel)",
   "language": "python",
   "name": "python3"
  },
  "language_info": {
   "codemirror_mode": {
    "name": "ipython",
    "version": 3
   },
   "file_extension": ".py",
   "mimetype": "text/x-python",
   "name": "python",
   "nbconvert_exporter": "python",
   "pygments_lexer": "ipython3",
   "version": "3.10.5"
  }
 },
 "nbformat": 4,
 "nbformat_minor": 5
}
