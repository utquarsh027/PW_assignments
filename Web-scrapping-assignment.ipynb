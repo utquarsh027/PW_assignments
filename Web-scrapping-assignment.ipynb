{
 "cells": [
  {
   "cell_type": "markdown",
   "id": "df7b1843",
   "metadata": {},
   "source": [
    "#### Q1. What is Web Scraping? Why is it Used? Give three areas where Web Scraping is used to get data."
   ]
  },
  {
   "cell_type": "markdown",
   "id": "d5d288db",
   "metadata": {},
   "source": [
    "Web scraping is a technique of extractin or getting data from any website with the of an algorithm or scripts.\n",
    "\n",
    "It is used to gather information from websites that do not provide an API or any other structured way to access their data. Web scraping allows us to retrieve specific data from websites, such as product details, pricing information, news articles, or any other data that is publicly available on the web.\n",
    "\n",
    "Uses\n",
    "1. Data Mining\n",
    "2. Market Research\n",
    "3. Price Comparison"
   ]
  },
  {
   "cell_type": "markdown",
   "id": "ea3c7a50",
   "metadata": {},
   "source": [
    "#### Q2. What are the different methods used for Web Scraping?"
   ]
  },
  {
   "cell_type": "markdown",
   "id": "cc3ad2e0",
   "metadata": {},
   "source": [
    "1. GET\n",
    "2. POST"
   ]
  },
  {
   "cell_type": "markdown",
   "id": "fdcd2ede",
   "metadata": {},
   "source": [
    "#### Q3. What is Beautiful Soup? Why is it used?"
   ]
  },
  {
   "cell_type": "markdown",
   "id": "a336424f",
   "metadata": {},
   "source": [
    "Beautiful Soup is a python library. It is used for formatting HTML code so that it can be understood by the programmer."
   ]
  },
  {
   "cell_type": "markdown",
   "id": "e4395fb6",
   "metadata": {},
   "source": [
    "#### Q4. Why is flask used in this Web Scraping project?"
   ]
  },
  {
   "cell_type": "markdown",
   "id": "83a1dde5",
   "metadata": {},
   "source": [
    "1. Flask is a open-source framework of python.\n",
    "2. For a beginner it is very easy to develop web apps using Flask framework\n",
    "3. We can asily develop a script for scraping data using python language in Flask."
   ]
  },
  {
   "cell_type": "markdown",
   "id": "58e186ba",
   "metadata": {},
   "source": [
    "#### Q5. Write the names of AWS services used in this project. Also, explain the use of each service."
   ]
  },
  {
   "cell_type": "markdown",
   "id": "aa304317",
   "metadata": {},
   "source": [
    "1. CodePipeline- CodePipeline allows you to define a series of stages, such as source code retrieval, build, and deployment.\n",
    "\n",
    "2. Elastic Beanstalk: EC2 provides virtual servers in the cloud. It is used to host the web scraping application, allowing it to run on scalable and customizable virtual machines."
   ]
  },
  {
   "cell_type": "code",
   "execution_count": null,
   "id": "11360c91",
   "metadata": {},
   "outputs": [],
   "source": []
  }
 ],
 "metadata": {
  "kernelspec": {
   "display_name": "Python 3 (ipykernel)",
   "language": "python",
   "name": "python3"
  },
  "language_info": {
   "codemirror_mode": {
    "name": "ipython",
    "version": 3
   },
   "file_extension": ".py",
   "mimetype": "text/x-python",
   "name": "python",
   "nbconvert_exporter": "python",
   "pygments_lexer": "ipython3",
   "version": "3.10.5"
  }
 },
 "nbformat": 4,
 "nbformat_minor": 5
}
