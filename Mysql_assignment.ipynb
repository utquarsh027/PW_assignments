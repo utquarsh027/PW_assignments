{
 "cells": [
  {
   "cell_type": "markdown",
   "id": "dceed8a9",
   "metadata": {},
   "source": [
    "#### Q1. What is a database? Differentiate between SQL and NoSQL databases."
   ]
  },
  {
   "cell_type": "markdown",
   "id": "8ad346ba",
   "metadata": {},
   "source": [
    "1. atabase is a system for storing the data in the organized form. It also includes managing and accessing it in various ways.\n",
    "2.  stands for structured query language.These are the relational databases that store data in tables with predefined schemas.They use SQL as the standard language for managing and querying data.\n",
    "3. NoSql (Not only sql) databases are the non-relational databases that store data in flexible ,schema-less formats like key-value,documents,graphs,or columnar structures."
   ]
  },
  {
   "cell_type": "markdown",
   "id": "8ab77364",
   "metadata": {},
   "source": [
    "#### Q2. What is DDL? Explain why CREATE, DROP, ALTER, and TRUNCATE are used with an example."
   ]
  },
  {
   "cell_type": "markdown",
   "id": "8161f053",
   "metadata": {},
   "source": [
    "DDL stands for Data Definition Language. It is a subset of SQL used to define and manage the structure of a database. DDL statements are used to create, modify, and delete database objects such as tables, indexes, and constraints."
   ]
  },
  {
   "cell_type": "raw",
   "id": "4de1c6ce",
   "metadata": {},
   "source": [
    "1.Create: The create statement is used to create a new database or table.for example ,to create a table named 'student' with columns for 'id','name',and 'email',we can use the following SQL statement.\n",
    "  CREATE TABLE student (\n",
    "    id INT,\n",
    "    name VARCHAR(50),\n",
    "    email VARCHAR(100)\n",
    ");"
   ]
  },
  {
   "cell_type": "raw",
   "id": "edc19dd7",
   "metadata": {},
   "source": [
    "2.Drop: The drop statement is used to delete database tables permanently.\n",
    "For example,to drop the \"student\" table we can use the following statement:\n",
    " DROP table students;"
   ]
  },
  {
   "cell_type": "raw",
   "id": "2a17c498",
   "metadata": {},
   "source": [
    "3.Alter: The ALTER statement is used to modify the structure of an existing database object.It allows you to add, modify, or delete columns.\n",
    "For example, to add a new column named \"age\" to the \"student\" table, you can use the following SQL statement:\n",
    " ALTER TABLE student\n",
    " ADD COLUMN age INT;"
   ]
  },
  {
   "cell_type": "raw",
   "id": "46f8cb7b",
   "metadata": {},
   "source": [
    "4.Truncate:The TRUNCATE statement is used to remove all data from a table while keeping its structure intact.For example, to remove all data from the \"student\" table, you can use the following SQL statement:\n",
    " TRUNCATE TABLE student;"
   ]
  },
  {
   "cell_type": "markdown",
   "id": "969d7a29",
   "metadata": {},
   "source": [
    "#### Q3. What is DML? Explain INSERT, UPDATE, and DELETE with an example."
   ]
  },
  {
   "cell_type": "markdown",
   "id": "1abf307a",
   "metadata": {},
   "source": [
    "DML stands for Data Manipulation Language. It is a subset of SQL used to manipulate and retrieve data from a database. DML statements are used to insert, update, and delete data within tables."
   ]
  },
  {
   "cell_type": "raw",
   "id": "9ccc7fe8",
   "metadata": {},
   "source": [
    "1. INSERT: The INSERT statement is used to add new rows of data into a table. For example, to insert a new record into the \"student\" table with values for the \"id\", \"name\", and \"email\" columns, you can use the following SQL statement:\n",
    "\n",
    "   ```sql\n",
    "   INSERT INTO student (id, name, email)\n",
    "   VALUES (1, 'John Doe', 'john@example.com');"
   ]
  },
  {
   "cell_type": "raw",
   "id": "78e35ec7",
   "metadata": {},
   "source": [
    "UPDATE: The UPDATE statement is used to modify existing data in a table. It allows you to change the values of specific columns for one or more rows. For example, to update the email of a student with the ID 1, you can use the following SQL statement:\n",
    " \n",
    "UPDATE student\n",
    "SET email = 'newemail@example.com'\n",
    "WHERE id = 1;"
   ]
  },
  {
   "cell_type": "raw",
   "id": "f2374e49",
   "metadata": {},
   "source": [
    "DELETE: The DELETE statement is used to remove one or more rows from a table. It allows you to specify conditions to identify the rows to be deleted. For example, to delete a student with the ID 1 from the \"student\" table, you can use the following SQL statement:\n",
    "\n",
    "DELETE FROM student\n",
    "WHERE id = 1;"
   ]
  },
  {
   "cell_type": "markdown",
   "id": "e9d76e6f",
   "metadata": {},
   "source": [
    "#### Q4. What is DQL? Explain SELECT with an example."
   ]
  },
  {
   "cell_type": "raw",
   "id": "37572f0a",
   "metadata": {},
   "source": [
    "DQL stands for Data Query Language. It is a subset of SQL used to query or filter data according to the specified condition.\n",
    "For example if we want to get just the email of the student where id=1 of table student, then we can write the following query:\n",
    "   SELECT email \n",
    "   from student\n",
    "   where id=1;"
   ]
  },
  {
   "cell_type": "markdown",
   "id": "14de1ddc",
   "metadata": {},
   "source": [
    "#### Q5. Explain Primary Key and Foreign Key."
   ]
  },
  {
   "cell_type": "markdown",
   "id": "7c810ca7",
   "metadata": {},
   "source": [
    "A Primary Key is a column or a set of columns in a table that uniquely identifies each row in the table. It ensures that the values in the primary key column(s) are unique and not null."
   ]
  },
  {
   "cell_type": "markdown",
   "id": "30ae987e",
   "metadata": {},
   "source": [
    "A Foreign Key is a column or a set of columns in a table that refers to the primary key of another table. It establishes a relationship between two tables by enforcing referential integrity. "
   ]
  },
  {
   "cell_type": "markdown",
   "id": "ea31dc1f",
   "metadata": {},
   "source": [
    "#### Q6. Write a python code to connect MySQL to python. Explain the cursor() and execute() method."
   ]
  },
  {
   "cell_type": "code",
   "execution_count": 2,
   "id": "6341c3ad",
   "metadata": {},
   "outputs": [],
   "source": [
    "import mysql.connector\n",
    "mydb=mysql.connector.connect(\n",
    "    host=\"localhost\",\n",
    "    user=\"root\",\n",
    "    password=\"7354\"\n",
    ")\n",
    "mycursor=mydb.cursor()\n",
    "mycursor.execute(\"CREATE TABLE if not exists test2.test_table(c1 INT, c2 VARCHAR(50),c3 FLOAT, c4 INT,c5 VARCHAR(30))\")\n",
    "mydb.close()\n"
   ]
  },
  {
   "cell_type": "markdown",
   "id": "41e8e7cf",
   "metadata": {},
   "source": [
    "The cursor() method creates a cursor object that allows you to execute SQL queries and fetch the results. The execute() method is used to execute SQL statements or queries. It takes the SQL statement as a parameter and executes it."
   ]
  },
  {
   "cell_type": "markdown",
   "id": "26ae3947",
   "metadata": {},
   "source": [
    "#### Q7. Give the order of execution of SQL clauses in an SQL query."
   ]
  },
  {
   "cell_type": "markdown",
   "id": "01ffe6ce",
   "metadata": {},
   "source": [
    "The order of execution of SQL clauses in an SQL query is as follows:\n",
    "\n",
    "1. FROM: This clause specifies the table or tables from which the data is retrieved.\n",
    "2. WHERE: This clause filters the data based on specified conditions.\n",
    "3. GROUP BY: This clause groups the data based on specified columns.\n",
    "4. HAVING: This clause filters the grouped data based on specified conditions.\n",
    "5. SELECT: This clause selects the desired columns from the resulting data.\n",
    "6. ORDER BY: This clause sorts the resulting data based on specified columns.\n",
    "7. LIMIT: This clause limits the number of rows returned by the query."
   ]
  },
  {
   "cell_type": "code",
   "execution_count": null,
   "id": "171024a3",
   "metadata": {},
   "outputs": [],
   "source": []
  }
 ],
 "metadata": {
  "kernelspec": {
   "display_name": "Python 3 (ipykernel)",
   "language": "python",
   "name": "python3"
  },
  "language_info": {
   "codemirror_mode": {
    "name": "ipython",
    "version": 3
   },
   "file_extension": ".py",
   "mimetype": "text/x-python",
   "name": "python",
   "nbconvert_exporter": "python",
   "pygments_lexer": "ipython3",
   "version": "3.10.5"
  }
 },
 "nbformat": 4,
 "nbformat_minor": 5
}
