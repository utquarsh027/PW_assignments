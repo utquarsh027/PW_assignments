{
 "cells": [
  {
   "cell_type": "markdown",
   "id": "0cdc3185",
   "metadata": {},
   "source": [
    "#### Q1. What is an API? Give an example, where an API is used in real life."
   ]
  },
  {
   "cell_type": "markdown",
   "id": "70ba849e",
   "metadata": {},
   "source": [
    "An API (Application Programming Interface) is a set of rules and protocols that allows different software applications to communicate with each other. It is used to connect two applications running on different langauges or different systems.\n",
    "\n",
    "One example of API usage in real life is the integration of Google Maps into a third-party website or application. Google Maps provides an API that allows developers to access its mapping and location data. By using the Google Maps API, developers can embed maps, search for locations, and obtain directions within their own applications."
   ]
  },
  {
   "cell_type": "markdown",
   "id": "663cd7f0",
   "metadata": {},
   "source": [
    "#### Q2. Give advantages and disadvantages of using API."
   ]
  },
  {
   "cell_type": "markdown",
   "id": "f9d12959",
   "metadata": {},
   "source": [
    "Advantages:\n",
    "\n",
    "1. Modularity and Reusability: APIs promote modularity and reusability by providing well-defined interfaces. This allows developers to focus on specific functionality without worrying about the internal implementation details.\n",
    "\n",
    "2. Interoperability: APIs enable interoperability between different software systems. They provide a standardized way for applications to communicate and exchange data, regardless of the programming languages or platforms they are built on.\n",
    "\n",
    "3. Rapid Development: APIs allow developers to leverage existing services and functionalities, reducing the time and effort required to develop new features. This accelerates the development process and enables faster time-to-market.\n"
   ]
  },
  {
   "cell_type": "markdown",
   "id": "6cc06b89",
   "metadata": {},
   "source": [
    "Disadvantages:\n",
    "1. Dependency on External Services: When relying on external APIs, applications become dependent on the availability and reliability of those services. Any downtime or changes to the API can impact the functionality of the application.\n",
    "\n",
    "2. Versioning and Compatibility: As APIs evolve and improve, new versions are released. This introduces the challenge of managing backward compatibility and ensuring that existing applications continue to function properly when integrating with newer API versions.\n",
    "\n",
    "3. Security Risks: APIs can be vulnerable to security threats such as unauthorized access, data breaches, or injection attacks. Proper security measures, such as authentication, encryption, and input validation, must be implemented to mitigate these risks."
   ]
  },
  {
   "cell_type": "markdown",
   "id": "12b45a5f",
   "metadata": {},
   "source": [
    "#### Q3. What is a Web API? Differentiate between API and Web API."
   ]
  },
  {
   "cell_type": "markdown",
   "id": "88a9208c",
   "metadata": {},
   "source": [
    "A web API is an subset of API designed to used over the web using HTTP protocol.Provides a standarized way for web application to communicate with each other or with external system."
   ]
  },
  {
   "cell_type": "markdown",
   "id": "29e5abc0",
   "metadata": {},
   "source": [
    "API vs. Web API:\n",
    "\n",
    "API: An API, in general, refers to a broader concept of providing a set of rules and protocols for communication between software components or systems. It can be implemented in various ways, such as libraries, frameworks, or protocols, and is not limited to web-based interactions.\n",
    "\n",
    "Web API: A Web API specifically refers to APIs that are designed to be used over the web using HTTP protocols. They are typically used to expose the functionalities of a web service or web application to other systems or developers."
   ]
  },
  {
   "cell_type": "markdown",
   "id": "046d1289",
   "metadata": {},
   "source": [
    "#### Q4. Explain REST and SOAP Architecture. Mention shortcomings of SOAP."
   ]
  },
  {
   "cell_type": "markdown",
   "id": "7f16cdeb",
   "metadata": {},
   "source": [
    "To create APIs two architectures are used :\n",
    "1. REST\n",
    "2. SOAP\n",
    "\n",
    "1. REST:\n",
    "It is based on web APIs that is it follows HTTP protocols to communicate between two softwares. It is simple in development and is easily scalable.Have properties such as stateless protocol,cacheable,uniform interface.Flexible in terms of communication.\n",
    "\n",
    "2. SOAP\n",
    "It is a XML based API. XML uses WSDL(Web service description language).\n",
    "It also supports HTTP,SMTP,TCP protocols.It is a lightweight protocol.\n",
    "Comparatively more secured than REST."
   ]
  },
  {
   "cell_type": "markdown",
   "id": "baec2b53",
   "metadata": {},
   "source": [
    "Shortcomings of SOAP:\n",
    "\n",
    "SOAP messages are typically larger in size compared to REST due to the XML-based format, which can result in increased bandwidth usage and slower performance.\n",
    "\n",
    "SOAP can be more complex to implement and understand compared to REST, requiring additional configuration and reliance on external tools such as WSDL for service description."
   ]
  },
  {
   "cell_type": "markdown",
   "id": "8f9a49cb",
   "metadata": {},
   "source": [
    "#### Q5. Differentiate between REST and SOAP."
   ]
  },
  {
   "cell_type": "markdown",
   "id": "6357e0b1",
   "metadata": {},
   "source": [
    "The main differences between REST and SOAP are as follows:\n",
    "\n",
    "1. Communication Protocol:\n",
    "REST (Representational State Transfer) is based on HTTP protocols and uses simple and lightweight communication over the web.\n",
    "\n",
    "  SOAP (Simple Object Access Protocol) can use various protocols such as HTTP, SMTP, or TCP for communication.\n",
    "\n",
    "2. Message Format:\n",
    "REST primarily uses JSON or XML as the message format, although JSON is more commonly used due to its simplicity and efficiency.\n",
    "\n",
    "  SOAP uses XML exclusively for message format, including the message envelope and data.\n",
    "\n",
    "3. Interface:\n",
    "REST provides a uniform interface using standard HTTP methods such as GET, POST, PUT, and DELETE to perform operations on resources.\n",
    "\n",
    "  SOAP defines its own interface using XML-based protocols and requires a Web Service Description Language (WSDL) for describing the operations.\n",
    "\n",
    "4. Statelessness:\n",
    "REST is stateless, meaning that each request from the client to the server contains all the necessary information to understand and process the request. The server does not store any client session information.\n",
    "\n",
    "  SOAP can be stateful or stateless, depending on how it is implemented. It can maintain session information between multiple requests.\n",
    "\n",
    "5. Scalability:\n",
    "REST is highly scalable because it follows a stateless protocol, allowing requests to be distributed and processed independently. It is commonly used in distributed systems and cloud-based architectures.\n",
    "\n",
    "  SOAP can be more complex to scale due to its stateful nature and additional overhead in message formatting."
   ]
  },
  {
   "cell_type": "code",
   "execution_count": null,
   "id": "96cbc3f7",
   "metadata": {},
   "outputs": [],
   "source": []
  }
 ],
 "metadata": {
  "kernelspec": {
   "display_name": "Python 3 (ipykernel)",
   "language": "python",
   "name": "python3"
  },
  "language_info": {
   "codemirror_mode": {
    "name": "ipython",
    "version": 3
   },
   "file_extension": ".py",
   "mimetype": "text/x-python",
   "name": "python",
   "nbconvert_exporter": "python",
   "pygments_lexer": "ipython3",
   "version": "3.10.5"
  }
 },
 "nbformat": 4,
 "nbformat_minor": 5
}
