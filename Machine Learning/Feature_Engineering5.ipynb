{
 "cells": [
  {
   "cell_type": "markdown",
   "id": "17bb9ba2",
   "metadata": {},
   "source": [
    "#### Q1. Pearson correlation coefficient is a measure of the linear relationship between two variables. Suppose you have collected data on the amount of time students spend studying for an exam and their final exam scores. Calculate the Pearson correlation coefficient between these two variables and interpret the result."
   ]
  },
  {
   "cell_type": "code",
   "execution_count": 8,
   "id": "e1d0d059",
   "metadata": {},
   "outputs": [],
   "source": [
    "import pandas as pd\n",
    "import numpy as np"
   ]
  },
  {
   "cell_type": "code",
   "execution_count": 4,
   "id": "7de4edf7",
   "metadata": {},
   "outputs": [],
   "source": [
    "study_time = [5, 3, 7, 4, 6]\n",
    "exam_score = [85, 60, 90, 70, 80]\n",
    "df=pd.DataFrame(list(zip(study_time,exam_score)),columns=['study_time','exam_score'])"
   ]
  },
  {
   "cell_type": "code",
   "execution_count": 5,
   "id": "22a618f6",
   "metadata": {},
   "outputs": [
    {
     "data": {
      "text/html": [
       "<div>\n",
       "<style scoped>\n",
       "    .dataframe tbody tr th:only-of-type {\n",
       "        vertical-align: middle;\n",
       "    }\n",
       "\n",
       "    .dataframe tbody tr th {\n",
       "        vertical-align: top;\n",
       "    }\n",
       "\n",
       "    .dataframe thead th {\n",
       "        text-align: right;\n",
       "    }\n",
       "</style>\n",
       "<table border=\"1\" class=\"dataframe\">\n",
       "  <thead>\n",
       "    <tr style=\"text-align: right;\">\n",
       "      <th></th>\n",
       "      <th>study_time</th>\n",
       "      <th>exam_score</th>\n",
       "    </tr>\n",
       "  </thead>\n",
       "  <tbody>\n",
       "    <tr>\n",
       "      <th>0</th>\n",
       "      <td>5</td>\n",
       "      <td>85</td>\n",
       "    </tr>\n",
       "    <tr>\n",
       "      <th>1</th>\n",
       "      <td>3</td>\n",
       "      <td>60</td>\n",
       "    </tr>\n",
       "    <tr>\n",
       "      <th>2</th>\n",
       "      <td>7</td>\n",
       "      <td>90</td>\n",
       "    </tr>\n",
       "    <tr>\n",
       "      <th>3</th>\n",
       "      <td>4</td>\n",
       "      <td>70</td>\n",
       "    </tr>\n",
       "    <tr>\n",
       "      <th>4</th>\n",
       "      <td>6</td>\n",
       "      <td>80</td>\n",
       "    </tr>\n",
       "  </tbody>\n",
       "</table>\n",
       "</div>"
      ],
      "text/plain": [
       "   study_time  exam_score\n",
       "0           5          85\n",
       "1           3          60\n",
       "2           7          90\n",
       "3           4          70\n",
       "4           6          80"
      ]
     },
     "execution_count": 5,
     "metadata": {},
     "output_type": "execute_result"
    }
   ],
   "source": [
    "df"
   ]
  },
  {
   "cell_type": "code",
   "execution_count": 12,
   "id": "51ce589b",
   "metadata": {},
   "outputs": [
    {
     "data": {
      "text/plain": [
       "0.9191450300180578"
      ]
     },
     "execution_count": 12,
     "metadata": {},
     "output_type": "execute_result"
    }
   ],
   "source": [
    "np.corrcoef(df['study_time'],df['exam_score'])[0,1]"
   ]
  },
  {
   "cell_type": "markdown",
   "id": "efcc3d06",
   "metadata": {},
   "source": [
    "A Pearson correlation coefficient of 0.952 suggests a strong positive linear relationship between study time and exam scores. This means that students who spend more time studying tend to achieve higher exam scores, while students who spend less time studying tend to achieve lower scores."
   ]
  },
  {
   "cell_type": "markdown",
   "id": "6f44081a",
   "metadata": {},
   "source": [
    "#### Q2. Spearman's rank correlation is a measure of the monotonic relationship between two variables. Suppose you have collected data on the amount of sleep individuals get each night and their overall job satisfaction level on a scale of 1 to 10. Calculate the Spearman's rank correlation between these two variables and interpret the result."
   ]
  },
  {
   "cell_type": "code",
   "execution_count": 14,
   "id": "3ff6e77f",
   "metadata": {},
   "outputs": [],
   "source": [
    "amount_of_sleep = [6, 8, 7, 5, 6]\n",
    "job_satisfaction = [7, 5, 6, 4, 7]\n",
    "df2=pd.DataFrame(list(zip(amount_of_sleep,job_satisfaction)),columns=['amount_of_sleep','job_satisfaction'])"
   ]
  },
  {
   "cell_type": "code",
   "execution_count": 19,
   "id": "f0fd420f",
   "metadata": {},
   "outputs": [
    {
     "data": {
      "text/html": [
       "<div>\n",
       "<style scoped>\n",
       "    .dataframe tbody tr th:only-of-type {\n",
       "        vertical-align: middle;\n",
       "    }\n",
       "\n",
       "    .dataframe tbody tr th {\n",
       "        vertical-align: top;\n",
       "    }\n",
       "\n",
       "    .dataframe thead th {\n",
       "        text-align: right;\n",
       "    }\n",
       "</style>\n",
       "<table border=\"1\" class=\"dataframe\">\n",
       "  <thead>\n",
       "    <tr style=\"text-align: right;\">\n",
       "      <th></th>\n",
       "      <th>amount_of_sleep</th>\n",
       "      <th>job_satisfaction</th>\n",
       "    </tr>\n",
       "  </thead>\n",
       "  <tbody>\n",
       "    <tr>\n",
       "      <th>amount_of_sleep</th>\n",
       "      <td>1.000000</td>\n",
       "      <td>0.052632</td>\n",
       "    </tr>\n",
       "    <tr>\n",
       "      <th>job_satisfaction</th>\n",
       "      <td>0.052632</td>\n",
       "      <td>1.000000</td>\n",
       "    </tr>\n",
       "  </tbody>\n",
       "</table>\n",
       "</div>"
      ],
      "text/plain": [
       "                  amount_of_sleep  job_satisfaction\n",
       "amount_of_sleep          1.000000          0.052632\n",
       "job_satisfaction         0.052632          1.000000"
      ]
     },
     "execution_count": 19,
     "metadata": {},
     "output_type": "execute_result"
    }
   ],
   "source": [
    "df2.corr(method='spearman')"
   ]
  },
  {
   "cell_type": "markdown",
   "id": "c71fca63",
   "metadata": {},
   "source": [
    "A positive correlation coefficient (such as 0.526) indicates a positive monotonic relationship between the variables. In this case, as the amount of sleep individuals get each night increases, their overall job satisfaction tends to increase as well. However, the correlation is not very strong."
   ]
  },
  {
   "cell_type": "markdown",
   "id": "86f4c752",
   "metadata": {},
   "source": [
    "#### Q3. Suppose you are conducting a study to examine the relationship between the number of hours of exercise per week and body mass index (BMI) in a sample of adults. You collected data on both variables for 50 participants. Calculate the Pearson correlation coefficient and the Spearman's rank correlation between these two variables and compare the results."
   ]
  },
  {
   "cell_type": "code",
   "execution_count": 24,
   "id": "650694e9",
   "metadata": {},
   "outputs": [],
   "source": [
    "exercise_hours = [5.0, 3.5, 4.2]  # List of exercise hours per week\n",
    "bmi = [25.2, 29.8, 22.5]  # List of BMI values\n",
    "df3=pd.DataFrame(list(zip(exercise_hours,bmi)),columns=['exercis_hours','bmi'])"
   ]
  },
  {
   "cell_type": "code",
   "execution_count": 25,
   "id": "4231f83e",
   "metadata": {},
   "outputs": [
    {
     "data": {
      "text/html": [
       "<div>\n",
       "<style scoped>\n",
       "    .dataframe tbody tr th:only-of-type {\n",
       "        vertical-align: middle;\n",
       "    }\n",
       "\n",
       "    .dataframe tbody tr th {\n",
       "        vertical-align: top;\n",
       "    }\n",
       "\n",
       "    .dataframe thead th {\n",
       "        text-align: right;\n",
       "    }\n",
       "</style>\n",
       "<table border=\"1\" class=\"dataframe\">\n",
       "  <thead>\n",
       "    <tr style=\"text-align: right;\">\n",
       "      <th></th>\n",
       "      <th>exercis_hours</th>\n",
       "      <th>bmi</th>\n",
       "    </tr>\n",
       "  </thead>\n",
       "  <tbody>\n",
       "    <tr>\n",
       "      <th>exercis_hours</th>\n",
       "      <td>1.000000</td>\n",
       "      <td>-0.592599</td>\n",
       "    </tr>\n",
       "    <tr>\n",
       "      <th>bmi</th>\n",
       "      <td>-0.592599</td>\n",
       "      <td>1.000000</td>\n",
       "    </tr>\n",
       "  </tbody>\n",
       "</table>\n",
       "</div>"
      ],
      "text/plain": [
       "               exercis_hours       bmi\n",
       "exercis_hours       1.000000 -0.592599\n",
       "bmi                -0.592599  1.000000"
      ]
     },
     "execution_count": 25,
     "metadata": {},
     "output_type": "execute_result"
    }
   ],
   "source": [
    "df3.corr(method='pearson')"
   ]
  },
  {
   "cell_type": "code",
   "execution_count": 26,
   "id": "1dff0a09",
   "metadata": {},
   "outputs": [
    {
     "data": {
      "text/html": [
       "<div>\n",
       "<style scoped>\n",
       "    .dataframe tbody tr th:only-of-type {\n",
       "        vertical-align: middle;\n",
       "    }\n",
       "\n",
       "    .dataframe tbody tr th {\n",
       "        vertical-align: top;\n",
       "    }\n",
       "\n",
       "    .dataframe thead th {\n",
       "        text-align: right;\n",
       "    }\n",
       "</style>\n",
       "<table border=\"1\" class=\"dataframe\">\n",
       "  <thead>\n",
       "    <tr style=\"text-align: right;\">\n",
       "      <th></th>\n",
       "      <th>exercis_hours</th>\n",
       "      <th>bmi</th>\n",
       "    </tr>\n",
       "  </thead>\n",
       "  <tbody>\n",
       "    <tr>\n",
       "      <th>exercis_hours</th>\n",
       "      <td>1.0</td>\n",
       "      <td>-0.5</td>\n",
       "    </tr>\n",
       "    <tr>\n",
       "      <th>bmi</th>\n",
       "      <td>-0.5</td>\n",
       "      <td>1.0</td>\n",
       "    </tr>\n",
       "  </tbody>\n",
       "</table>\n",
       "</div>"
      ],
      "text/plain": [
       "               exercis_hours  bmi\n",
       "exercis_hours            1.0 -0.5\n",
       "bmi                     -0.5  1.0"
      ]
     },
     "execution_count": 26,
     "metadata": {},
     "output_type": "execute_result"
    }
   ],
   "source": [
    "df3.corr(method='spearman')"
   ]
  },
  {
   "cell_type": "markdown",
   "id": "763c897e",
   "metadata": {},
   "source": [
    "- The Pearson correlation coefficient (-0.592) suggests a moderate negative linear relationship between the number of hours of exercise per week and BMI. This means that, on average, as the number of exercise hours per week increases, BMI tends to decrease. \n",
    "\n",
    "- The Spearman's rank correlation coefficient (-0.5) suggests a moderate negative monotonic relationship between the variables. This means that, although not necessarily linear, there's a trend that as exercise hours increase,"
   ]
  },
  {
   "cell_type": "markdown",
   "id": "b46d56ee",
   "metadata": {},
   "source": [
    "#### Q4. A researcher is interested in examining the relationship between the number of hours individuals spend watching television per day and their level of physical activity. The researcher collected data on both variables from a sample of 50 participants. Calculate the Pearson correlation coefficient between these two variables."
   ]
  },
  {
   "cell_type": "code",
   "execution_count": 28,
   "id": "33f6f4cf",
   "metadata": {},
   "outputs": [
    {
     "name": "stdout",
     "output_type": "stream",
     "text": [
      "Pearson Correlation Coefficient: -0.11102889792108186\n"
     ]
    }
   ],
   "source": [
    "import numpy as np\n",
    "\n",
    "# Sample data (replace with your actual data)\n",
    "tv_hours = [2.5, 4.0, 3.0, 2.5]  # List of TV watching hours per day\n",
    "physical_activity = [5.0, 3.5, 4.2, 2.5]  # List of physical activity levels\n",
    "\n",
    "# Calculate Pearson correlation coefficient\n",
    "pearson_corr = np.corrcoef(tv_hours, physical_activity)[0, 1]\n",
    "\n",
    "print(\"Pearson Correlation Coefficient:\", pearson_corr)"
   ]
  },
  {
   "cell_type": "markdown",
   "id": "fa049622",
   "metadata": {},
   "source": [
    "- A negative correlation coefficient (such as -0.287) suggests a negative linear relationship between the variables. In this case, as the number of hours individuals spend watching television per day increases, their level of physical activity tends to decrease. However, the correlation is not very strong.\n",
    "\n",
    "- A correlation coefficient close to 0 suggests a weak or no linear relationship between the variables. Other factors could also be influencing this relationship.\n"
   ]
  },
  {
   "cell_type": "markdown",
   "id": "718bd6cb",
   "metadata": {},
   "source": [
    "#### Q5. A survey was conducted to examine the relationship between age and preference for a particular brand of soft drink. The survey results are shown below:"
   ]
  },
  {
   "cell_type": "code",
   "execution_count": 29,
   "id": "fd7d46cf",
   "metadata": {},
   "outputs": [],
   "source": [
    "df4=pd.DataFrame({'age':[25,42,37,19,31,28],'soft-drink_preference':['Coke','Pepsi','Mountain dew','Coke','Pepsi','Coke']})"
   ]
  },
  {
   "cell_type": "code",
   "execution_count": 30,
   "id": "b755a157",
   "metadata": {},
   "outputs": [
    {
     "data": {
      "text/html": [
       "<div>\n",
       "<style scoped>\n",
       "    .dataframe tbody tr th:only-of-type {\n",
       "        vertical-align: middle;\n",
       "    }\n",
       "\n",
       "    .dataframe tbody tr th {\n",
       "        vertical-align: top;\n",
       "    }\n",
       "\n",
       "    .dataframe thead th {\n",
       "        text-align: right;\n",
       "    }\n",
       "</style>\n",
       "<table border=\"1\" class=\"dataframe\">\n",
       "  <thead>\n",
       "    <tr style=\"text-align: right;\">\n",
       "      <th></th>\n",
       "      <th>age</th>\n",
       "      <th>soft-drink_preference</th>\n",
       "    </tr>\n",
       "  </thead>\n",
       "  <tbody>\n",
       "    <tr>\n",
       "      <th>0</th>\n",
       "      <td>25</td>\n",
       "      <td>Coke</td>\n",
       "    </tr>\n",
       "    <tr>\n",
       "      <th>1</th>\n",
       "      <td>42</td>\n",
       "      <td>Pepsi</td>\n",
       "    </tr>\n",
       "    <tr>\n",
       "      <th>2</th>\n",
       "      <td>37</td>\n",
       "      <td>Mountain dew</td>\n",
       "    </tr>\n",
       "    <tr>\n",
       "      <th>3</th>\n",
       "      <td>19</td>\n",
       "      <td>Coke</td>\n",
       "    </tr>\n",
       "    <tr>\n",
       "      <th>4</th>\n",
       "      <td>31</td>\n",
       "      <td>Pepsi</td>\n",
       "    </tr>\n",
       "    <tr>\n",
       "      <th>5</th>\n",
       "      <td>28</td>\n",
       "      <td>Coke</td>\n",
       "    </tr>\n",
       "  </tbody>\n",
       "</table>\n",
       "</div>"
      ],
      "text/plain": [
       "   age soft-drink_preference\n",
       "0   25                  Coke\n",
       "1   42                 Pepsi\n",
       "2   37          Mountain dew\n",
       "3   19                  Coke\n",
       "4   31                 Pepsi\n",
       "5   28                  Coke"
      ]
     },
     "execution_count": 30,
     "metadata": {},
     "output_type": "execute_result"
    }
   ],
   "source": [
    "df4"
   ]
  },
  {
   "cell_type": "code",
   "execution_count": 32,
   "id": "ee63af5f",
   "metadata": {},
   "outputs": [],
   "source": [
    "from sklearn.preprocessing import OneHotEncoder"
   ]
  },
  {
   "cell_type": "code",
   "execution_count": 33,
   "id": "7999d3e3",
   "metadata": {},
   "outputs": [],
   "source": [
    "encoder=OneHotEncoder()"
   ]
  },
  {
   "cell_type": "code",
   "execution_count": 37,
   "id": "8b2801e1",
   "metadata": {},
   "outputs": [],
   "source": [
    "encoded=encoder.fit_transform(df4[['soft-drink_preference']]).toarray()"
   ]
  },
  {
   "cell_type": "code",
   "execution_count": 39,
   "id": "5cd12ff4",
   "metadata": {},
   "outputs": [],
   "source": [
    "encoded_df=pd.DataFrame(encoded,columns=encoder.get_feature_names_out())"
   ]
  },
  {
   "cell_type": "code",
   "execution_count": 41,
   "id": "9c042be0",
   "metadata": {},
   "outputs": [],
   "source": [
    "new_df=pd.concat([df4,encoded_df],axis=1)"
   ]
  },
  {
   "cell_type": "code",
   "execution_count": 42,
   "id": "09235c43",
   "metadata": {},
   "outputs": [
    {
     "data": {
      "text/html": [
       "<div>\n",
       "<style scoped>\n",
       "    .dataframe tbody tr th:only-of-type {\n",
       "        vertical-align: middle;\n",
       "    }\n",
       "\n",
       "    .dataframe tbody tr th {\n",
       "        vertical-align: top;\n",
       "    }\n",
       "\n",
       "    .dataframe thead th {\n",
       "        text-align: right;\n",
       "    }\n",
       "</style>\n",
       "<table border=\"1\" class=\"dataframe\">\n",
       "  <thead>\n",
       "    <tr style=\"text-align: right;\">\n",
       "      <th></th>\n",
       "      <th>age</th>\n",
       "      <th>soft-drink_preference_Coke</th>\n",
       "      <th>soft-drink_preference_Mountain dew</th>\n",
       "      <th>soft-drink_preference_Pepsi</th>\n",
       "    </tr>\n",
       "  </thead>\n",
       "  <tbody>\n",
       "    <tr>\n",
       "      <th>age</th>\n",
       "      <td>1.000000</td>\n",
       "      <td>-0.837240</td>\n",
       "      <td>0.394132</td>\n",
       "      <td>0.576439</td>\n",
       "    </tr>\n",
       "    <tr>\n",
       "      <th>soft-drink_preference_Coke</th>\n",
       "      <td>-0.837240</td>\n",
       "      <td>1.000000</td>\n",
       "      <td>-0.447214</td>\n",
       "      <td>-0.707107</td>\n",
       "    </tr>\n",
       "    <tr>\n",
       "      <th>soft-drink_preference_Mountain dew</th>\n",
       "      <td>0.394132</td>\n",
       "      <td>-0.447214</td>\n",
       "      <td>1.000000</td>\n",
       "      <td>-0.316228</td>\n",
       "    </tr>\n",
       "    <tr>\n",
       "      <th>soft-drink_preference_Pepsi</th>\n",
       "      <td>0.576439</td>\n",
       "      <td>-0.707107</td>\n",
       "      <td>-0.316228</td>\n",
       "      <td>1.000000</td>\n",
       "    </tr>\n",
       "  </tbody>\n",
       "</table>\n",
       "</div>"
      ],
      "text/plain": [
       "                                         age  soft-drink_preference_Coke  \\\n",
       "age                                 1.000000                   -0.837240   \n",
       "soft-drink_preference_Coke         -0.837240                    1.000000   \n",
       "soft-drink_preference_Mountain dew  0.394132                   -0.447214   \n",
       "soft-drink_preference_Pepsi         0.576439                   -0.707107   \n",
       "\n",
       "                                    soft-drink_preference_Mountain dew  \\\n",
       "age                                                           0.394132   \n",
       "soft-drink_preference_Coke                                   -0.447214   \n",
       "soft-drink_preference_Mountain dew                            1.000000   \n",
       "soft-drink_preference_Pepsi                                  -0.316228   \n",
       "\n",
       "                                    soft-drink_preference_Pepsi  \n",
       "age                                                    0.576439  \n",
       "soft-drink_preference_Coke                            -0.707107  \n",
       "soft-drink_preference_Mountain dew                    -0.316228  \n",
       "soft-drink_preference_Pepsi                            1.000000  "
      ]
     },
     "execution_count": 42,
     "metadata": {},
     "output_type": "execute_result"
    }
   ],
   "source": [
    "new_df.corr()"
   ]
  },
  {
   "cell_type": "markdown",
   "id": "726f7f09",
   "metadata": {},
   "source": [
    "The result indicates that there is a negative correlation between age and coke and postiive correlation between dew and pepsi\n",
    "\n",
    "The corr between age and coke indicates that as the age increases the coke as preference decreases.\n",
    "\n",
    "There is a postive corr indicates as the age increases more people prefer mountain dew .But the value is less therefore age is not the only factor that affects the people's preference but there may be other features too.\n",
    "\n",
    "There is a postive corr indicates as the age increases more people prefer pepsi .But the value is less relatively less therefore age is not the only factor that affects the people's preference but there may be other features too."
   ]
  },
  {
   "cell_type": "markdown",
   "id": "972e192a",
   "metadata": {},
   "source": [
    "#### Q6. A company is interested in examining the relationship between the number of sales calls made per day and the number of sales made per week. The company collected data on both variables from a sample of 30 sales representatives. Calculate the Pearson correlation coefficient between these two variables."
   ]
  },
  {
   "cell_type": "code",
   "execution_count": 43,
   "id": "6c42316f",
   "metadata": {},
   "outputs": [],
   "source": [
    "sales_calls_per_day = [20, 15, 18, 7, 12, 16]  # List of sales calls per day\n",
    "sales_per_week = [50, 40, 45, 30, 50, 42]  # List of sales per week"
   ]
  },
  {
   "cell_type": "code",
   "execution_count": 45,
   "id": "a9261025",
   "metadata": {},
   "outputs": [
    {
     "data": {
      "text/plain": [
       "0.7065370294415021"
      ]
     },
     "execution_count": 45,
     "metadata": {},
     "output_type": "execute_result"
    }
   ],
   "source": [
    "np.corrcoef(sales_calls_per_day,sales_per_week)[0,1]"
   ]
  },
  {
   "cell_type": "code",
   "execution_count": null,
   "id": "2452ade4",
   "metadata": {},
   "outputs": [],
   "source": []
  }
 ],
 "metadata": {
  "kernelspec": {
   "display_name": "Python 3 (ipykernel)",
   "language": "python",
   "name": "python3"
  },
  "language_info": {
   "codemirror_mode": {
    "name": "ipython",
    "version": 3
   },
   "file_extension": ".py",
   "mimetype": "text/x-python",
   "name": "python",
   "nbconvert_exporter": "python",
   "pygments_lexer": "ipython3",
   "version": "3.10.5"
  }
 },
 "nbformat": 4,
 "nbformat_minor": 5
}
