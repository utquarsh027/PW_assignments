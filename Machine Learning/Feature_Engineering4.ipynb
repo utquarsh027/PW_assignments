{
 "cells": [
  {
   "cell_type": "markdown",
   "id": "c004a57b",
   "metadata": {},
   "source": [
    "#### Q1. What is the difference between Ordinal Encoding and Label Encoding? Provide an example of when you might choose one over the other."
   ]
  },
  {
   "cell_type": "markdown",
   "id": "f2f516f9",
   "metadata": {},
   "source": [
    "Ordinal encoding is used when there is a rank or inherent order among the categories whereas Label Encoding is used when there is no order in the category feature column and therefore it preserves the independene and disntinctiveness of each category.\n",
    "1. **Example of Ordinal Encoding**: Consider an \"Education_Level\" variable with categories \"High School,\" \"Associate's Degree,\" \"Bachelor's Degree,\" \"Master's Degree,\" and \"Doctorate.\" These categories have a clear order based on the level of education. You could assign ordinal values like 1 for \"High School,\" 2 for \"Associate's Degree,\" and so on.\n",
    "\n",
    "1. **Example of label Encoding**: Example: Consider a \"Color\" variable with categories \"Red,\" \"Green,\" and \"Blue.\" These categories don't have a natural order. Label encoding might assign values like 1 for \"Red,\" 2 for \"Green,\" and 3 for \"Blue.\""
   ]
  },
  {
   "cell_type": "markdown",
   "id": "7cd6dcc3",
   "metadata": {},
   "source": [
    "#### Q2. Explain how Target Guided Ordinal Encoding works and provide an example of when you might use it in a machine learning project."
   ]
  },
  {
   "cell_type": "markdown",
   "id": "616e453a",
   "metadata": {},
   "source": [
    "Target-guided ordinal encoding is a specific technique used for encoding categorical variables, especially when dealing with the target variable in a regression or classification problem. This technique takes advantage of the relationship between the categorical variable and the target variable to assign ordinal values to the categories. It can be particularly useful when there is an evident order or trend in the target variable across different categories."
   ]
  },
  {
   "cell_type": "markdown",
   "id": "eee58243",
   "metadata": {},
   "source": [
    "Let's say we're working on a credit risk prediction project, and we have a categorical variable \"Credit_History\" with values \"Good,\" \"Average,\" and \"Poor,\" representing the credit history of customers. You want to predict whether a customer is likely to default on a loan.\n",
    "\n",
    "You observe that there's a clear relationship between \"Credit_History\" and the likelihood of default. Customers with a \"Good\" credit history have a lower default rate, while those with an \"Average\" credit history have a higher default rate, and those with a \"Poor\" credit history have the highest default rate.\n",
    "\n",
    "In this scenario, you can apply Target Guided Ordinal Encoding to \"Credit_History.\" You calculate the default rate (or any relevant metric) for each category and order the categories accordingly. Then, you assign ordinal values, such as 1 for \"Good,\" 2 for \"Average,\" and 3 for \"Poor.\" This encoding captures the ordinal relationship between credit history and default risk."
   ]
  },
  {
   "cell_type": "markdown",
   "id": "f6c4a10e",
   "metadata": {},
   "source": [
    "#### Q3. Define covariance and explain why it is important in statistical analysis. How is covariance calculated?"
   ]
  },
  {
   "cell_type": "markdown",
   "id": "96cf6231",
   "metadata": {},
   "source": [
    "Covariance is a used to establish or recognise or defines a relationship between two features say x and y.\n",
    "\n",
    " It helps us understand how changes in one variable correspond to changes in another, whether they move in the same direction (positive covariance) or in opposite directions (negative covariance)."
   ]
  },
  {
   "cell_type": "markdown",
   "id": "b1349aa9",
   "metadata": {},
   "source": [
    "Importance of Covariance in Statistical Analysis:\n",
    "\n",
    "Relationship Assessment: Covariance helps assess the relationship between two variables. If the covariance is positive, it suggests that as one variable increases, the other tends to increase as well. If the covariance is negative, it indicates that as one variable increases, the other tends to decrease.\n",
    "\n",
    "Dimension Reduction: Covariance plays a role in dimension reduction techniques such as Principal Component Analysis (PCA). In PCA, variables with high covariance indicate redundancy, allowing you to identify dominant patterns in the data.\n",
    "\n",
    "Risk and Portfolio Management: In finance, covariance is crucial for assessing the relationship between the returns of different assets. It's used to calculate portfolio risk and diversification benefits.\n",
    "\n",
    "Linear Regression: In linear regression, the covariance between the independent variable and the dependent variable is used to estimate the slope of the regression line."
   ]
  },
  {
   "attachments": {
    "image.png": {
     "image/png": "[encoded data removed]"
    }
   },
   "cell_type": "markdown",
   "id": "c60ebcea",
   "metadata": {},
   "source": [
    "![image.png](attachment:image.png)"
   ]
  },
  {
   "cell_type": "markdown",
   "id": "14f5d5f9",
   "metadata": {},
   "source": [
    "#### Q4. For a dataset with the following categorical variables: Color (red, green, blue), Size (small, medium, large), and Material (wood, metal, plastic), perform label encoding using Python's scikit-learn library. show your code and explain the output."
   ]
  },
  {
   "cell_type": "code",
   "execution_count": 3,
   "id": "82d57f7f",
   "metadata": {},
   "outputs": [],
   "source": [
    "import pandas as pd"
   ]
  },
  {
   "cell_type": "code",
   "execution_count": 4,
   "id": "b04abeed",
   "metadata": {},
   "outputs": [],
   "source": [
    "df2=pd.DataFrame({'color':['red','green','blue'],'size':['small','medium','large']\n",
    "                 ,'material':['wood','metal','plastic']})"
   ]
  },
  {
   "cell_type": "code",
   "execution_count": 5,
   "id": "cd9f251f",
   "metadata": {},
   "outputs": [
    {
     "data": {
      "text/html": [
       "<div>\n",
       "<style scoped>\n",
       "    .dataframe tbody tr th:only-of-type {\n",
       "        vertical-align: middle;\n",
       "    }\n",
       "\n",
       "    .dataframe tbody tr th {\n",
       "        vertical-align: top;\n",
       "    }\n",
       "\n",
       "    .dataframe thead th {\n",
       "        text-align: right;\n",
       "    }\n",
       "</style>\n",
       "<table border=\"1\" class=\"dataframe\">\n",
       "  <thead>\n",
       "    <tr style=\"text-align: right;\">\n",
       "      <th></th>\n",
       "      <th>color</th>\n",
       "      <th>size</th>\n",
       "      <th>material</th>\n",
       "    </tr>\n",
       "  </thead>\n",
       "  <tbody>\n",
       "    <tr>\n",
       "      <th>0</th>\n",
       "      <td>red</td>\n",
       "      <td>small</td>\n",
       "      <td>wood</td>\n",
       "    </tr>\n",
       "    <tr>\n",
       "      <th>1</th>\n",
       "      <td>green</td>\n",
       "      <td>medium</td>\n",
       "      <td>metal</td>\n",
       "    </tr>\n",
       "    <tr>\n",
       "      <th>2</th>\n",
       "      <td>blue</td>\n",
       "      <td>large</td>\n",
       "      <td>plastic</td>\n",
       "    </tr>\n",
       "  </tbody>\n",
       "</table>\n",
       "</div>"
      ],
      "text/plain": [
       "   color    size material\n",
       "0    red   small     wood\n",
       "1  green  medium    metal\n",
       "2   blue   large  plastic"
      ]
     },
     "execution_count": 5,
     "metadata": {},
     "output_type": "execute_result"
    }
   ],
   "source": [
    "df2"
   ]
  },
  {
   "cell_type": "code",
   "execution_count": 13,
   "id": "4e25095c",
   "metadata": {},
   "outputs": [],
   "source": [
    "from sklearn.preprocessing import LabelEncoder"
   ]
  },
  {
   "cell_type": "code",
   "execution_count": 15,
   "id": "a872d131",
   "metadata": {},
   "outputs": [],
   "source": [
    "encoder=LabelEncoder()"
   ]
  },
  {
   "cell_type": "code",
   "execution_count": 19,
   "id": "0d8db92a",
   "metadata": {},
   "outputs": [],
   "source": [
    "for column in df2.columns:\n",
    "    if df2[column].dtype=='object':\n",
    "        df2[column]=encoder.fit_transform(df2[column])"
   ]
  },
  {
   "cell_type": "code",
   "execution_count": 21,
   "id": "3542268f",
   "metadata": {},
   "outputs": [
    {
     "data": {
      "text/html": [
       "<div>\n",
       "<style scoped>\n",
       "    .dataframe tbody tr th:only-of-type {\n",
       "        vertical-align: middle;\n",
       "    }\n",
       "\n",
       "    .dataframe tbody tr th {\n",
       "        vertical-align: top;\n",
       "    }\n",
       "\n",
       "    .dataframe thead th {\n",
       "        text-align: right;\n",
       "    }\n",
       "</style>\n",
       "<table border=\"1\" class=\"dataframe\">\n",
       "  <thead>\n",
       "    <tr style=\"text-align: right;\">\n",
       "      <th></th>\n",
       "      <th>color</th>\n",
       "      <th>size</th>\n",
       "      <th>material</th>\n",
       "    </tr>\n",
       "  </thead>\n",
       "  <tbody>\n",
       "    <tr>\n",
       "      <th>0</th>\n",
       "      <td>2</td>\n",
       "      <td>2</td>\n",
       "      <td>2</td>\n",
       "    </tr>\n",
       "    <tr>\n",
       "      <th>1</th>\n",
       "      <td>1</td>\n",
       "      <td>1</td>\n",
       "      <td>0</td>\n",
       "    </tr>\n",
       "    <tr>\n",
       "      <th>2</th>\n",
       "      <td>0</td>\n",
       "      <td>0</td>\n",
       "      <td>1</td>\n",
       "    </tr>\n",
       "  </tbody>\n",
       "</table>\n",
       "</div>"
      ],
      "text/plain": [
       "   color  size  material\n",
       "0      2     2         2\n",
       "1      1     1         0\n",
       "2      0     0         1"
      ]
     },
     "execution_count": 21,
     "metadata": {},
     "output_type": "execute_result"
    }
   ],
   "source": [
    "df2"
   ]
  },
  {
   "cell_type": "markdown",
   "id": "a19072a0",
   "metadata": {},
   "source": [
    "In the output:\n",
    "\n",
    "For the \"Color\" column, the categories \"red,\" \"green,\" and \"blue\" are encoded as 2, 1, and 0, respectively.\n",
    "\n",
    "For the \"Size\" column, the categories \"small,\" \"medium,\" and \"large\" are encoded as 2, 0, and 1, respectively.\n",
    "\n",
    "For the \"Material\" column, the categories \"wood,\" \"metal,\" and \"plastic\" are encoded as 2, 1, and 0, respectively."
   ]
  },
  {
   "cell_type": "markdown",
   "id": "b9ad6e51",
   "metadata": {},
   "source": [
    "#### Q5. Calculate the covariance matrix for the following variables in a dataset: Age, Income, and Education level. Interpret the results."
   ]
  },
  {
   "cell_type": "code",
   "execution_count": 37,
   "id": "de05f72d",
   "metadata": {},
   "outputs": [],
   "source": [
    "import numpy as np\n",
    "\n",
    "# Sample data\n",
    "age = [25, 30, 28, 35, 22]\n",
    "income = [45000, 60000, 55000, 75000, 40000]\n",
    "education=['High','Associate','Bachelor','High','Associate']\n",
    "df3=pd.DataFrame(list(zip(age,income,education)),columns=['age','income','education'])\n",
    "\n",
    "##Encoding eduction feature\n",
    "from sklearn.preprocessing import OrdinalEncoder\n",
    "encoder=OrdinalEncoder(categories=[['High','Bachelor','Associate']])\n",
    "encoded=encoder.fit_transform(df3[['education']])\n",
    "new_df=pd.concat([df3,pd.DataFrame(encoded,columns=['Edu'])],axis=1).reset_index(drop=True)\n"
   ]
  },
  {
   "cell_type": "code",
   "execution_count": 38,
   "id": "f46ae411",
   "metadata": {
    "scrolled": true
   },
   "outputs": [
    {
     "data": {
      "text/html": [
       "<div>\n",
       "<style scoped>\n",
       "    .dataframe tbody tr th:only-of-type {\n",
       "        vertical-align: middle;\n",
       "    }\n",
       "\n",
       "    .dataframe tbody tr th {\n",
       "        vertical-align: top;\n",
       "    }\n",
       "\n",
       "    .dataframe thead th {\n",
       "        text-align: right;\n",
       "    }\n",
       "</style>\n",
       "<table border=\"1\" class=\"dataframe\">\n",
       "  <thead>\n",
       "    <tr style=\"text-align: right;\">\n",
       "      <th></th>\n",
       "      <th>age</th>\n",
       "      <th>income</th>\n",
       "      <th>education</th>\n",
       "      <th>Edu</th>\n",
       "    </tr>\n",
       "  </thead>\n",
       "  <tbody>\n",
       "    <tr>\n",
       "      <th>0</th>\n",
       "      <td>25</td>\n",
       "      <td>45000</td>\n",
       "      <td>High</td>\n",
       "      <td>0.0</td>\n",
       "    </tr>\n",
       "    <tr>\n",
       "      <th>1</th>\n",
       "      <td>30</td>\n",
       "      <td>60000</td>\n",
       "      <td>Associate</td>\n",
       "      <td>2.0</td>\n",
       "    </tr>\n",
       "    <tr>\n",
       "      <th>2</th>\n",
       "      <td>28</td>\n",
       "      <td>55000</td>\n",
       "      <td>Bachelor</td>\n",
       "      <td>1.0</td>\n",
       "    </tr>\n",
       "    <tr>\n",
       "      <th>3</th>\n",
       "      <td>35</td>\n",
       "      <td>75000</td>\n",
       "      <td>High</td>\n",
       "      <td>0.0</td>\n",
       "    </tr>\n",
       "    <tr>\n",
       "      <th>4</th>\n",
       "      <td>22</td>\n",
       "      <td>40000</td>\n",
       "      <td>Associate</td>\n",
       "      <td>2.0</td>\n",
       "    </tr>\n",
       "  </tbody>\n",
       "</table>\n",
       "</div>"
      ],
      "text/plain": [
       "   age  income  education  Edu\n",
       "0   25   45000       High  0.0\n",
       "1   30   60000  Associate  2.0\n",
       "2   28   55000   Bachelor  1.0\n",
       "3   35   75000       High  0.0\n",
       "4   22   40000  Associate  2.0"
      ]
     },
     "execution_count": 38,
     "metadata": {},
     "output_type": "execute_result"
    }
   ],
   "source": [
    "new_df"
   ]
  },
  {
   "cell_type": "code",
   "execution_count": 48,
   "id": "3dc9d62c",
   "metadata": {},
   "outputs": [
    {
     "data": {
      "text/html": [
       "<div>\n",
       "<style scoped>\n",
       "    .dataframe tbody tr th:only-of-type {\n",
       "        vertical-align: middle;\n",
       "    }\n",
       "\n",
       "    .dataframe tbody tr th {\n",
       "        vertical-align: top;\n",
       "    }\n",
       "\n",
       "    .dataframe thead th {\n",
       "        text-align: right;\n",
       "    }\n",
       "</style>\n",
       "<table border=\"1\" class=\"dataframe\">\n",
       "  <thead>\n",
       "    <tr style=\"text-align: right;\">\n",
       "      <th></th>\n",
       "      <th>age</th>\n",
       "      <th>income</th>\n",
       "      <th>Edu</th>\n",
       "    </tr>\n",
       "  </thead>\n",
       "  <tbody>\n",
       "    <tr>\n",
       "      <th>age</th>\n",
       "      <td>24.5</td>\n",
       "      <td>67500.0</td>\n",
       "      <td>-2.0</td>\n",
       "    </tr>\n",
       "    <tr>\n",
       "      <th>income</th>\n",
       "      <td>67500.0</td>\n",
       "      <td>187500000.0</td>\n",
       "      <td>-5000.0</td>\n",
       "    </tr>\n",
       "    <tr>\n",
       "      <th>Edu</th>\n",
       "      <td>-2.0</td>\n",
       "      <td>-5000.0</td>\n",
       "      <td>1.0</td>\n",
       "    </tr>\n",
       "  </tbody>\n",
       "</table>\n",
       "</div>"
      ],
      "text/plain": [
       "            age       income     Edu\n",
       "age        24.5      67500.0    -2.0\n",
       "income  67500.0  187500000.0 -5000.0\n",
       "Edu        -2.0      -5000.0     1.0"
      ]
     },
     "execution_count": 48,
     "metadata": {},
     "output_type": "execute_result"
    }
   ],
   "source": [
    "new_df.cov()"
   ]
  },
  {
   "cell_type": "markdown",
   "id": "42b32c22",
   "metadata": {},
   "source": [
    "#### Q6. You are working on a machine learning project with a dataset containing several categoricalvariables, including \"Gender\" (Male/Female), \"Education Level\" (High School/Bachelor's/Master's/PhD), and \"Employment Status\" (Unemployed/Part-Time/Full-Time). Which encoding method would you use for each variable, and why?"
   ]
  },
  {
   "cell_type": "markdown",
   "id": "a56e6860",
   "metadata": {},
   "source": [
    "For the binary categorical variable \"Gender,\" you can use either binary encoding or label encoding, depending on your preference.\n",
    "\n",
    "For the ordinal categorical variables \"Education Level\" and \"Employment Status,\" ordinal encoding is the appropriate choice to preserve the order among categories, which is meaningful for the analysis."
   ]
  },
  {
   "cell_type": "markdown",
   "id": "885db639",
   "metadata": {},
   "source": [
    "#### Q7. You are analyzing a dataset with two continuous variables, \"Temperature\" and \"Humidity\", and two categorical variables, \"Weather Condition\" (Sunny/Cloudy/Rainy) and \"Wind Direction\" (North/South/ East/West). Calculate the covariance between each pair of variables and interpret the results."
   ]
  },
  {
   "cell_type": "code",
   "execution_count": 49,
   "id": "6116594c",
   "metadata": {},
   "outputs": [
    {
     "name": "stdout",
     "output_type": "stream",
     "text": [
      "Covariance Matrix:\n",
      "[[ 17.825 -35.375]\n",
      " [-35.375  92.5  ]]\n"
     ]
    }
   ],
   "source": [
    "import numpy as np\n",
    "\n",
    "# Sample data\n",
    "temperature = [25.5, 20.0, 30.0, 28.5, 22.0]\n",
    "humidity = [60, 75, 50, 65, 70]\n",
    "\n",
    "# Calculate covariance matrix\n",
    "cov_matrix = np.cov(temperature, humidity)\n",
    "\n",
    "print(\"Covariance Matrix:\")\n",
    "print(cov_matrix)\n"
   ]
  },
  {
   "cell_type": "code",
   "execution_count": null,
   "id": "2fcf809b",
   "metadata": {},
   "outputs": [],
   "source": []
  }
 ],
 "metadata": {
  "kernelspec": {
   "display_name": "Python 3 (ipykernel)",
   "language": "python",
   "name": "python3"
  },
  "language_info": {
   "codemirror_mode": {
    "name": "ipython",
    "version": 3
   },
   "file_extension": ".py",
   "mimetype": "text/x-python",
   "name": "python",
   "nbconvert_exporter": "python",
   "pygments_lexer": "ipython3",
   "version": "3.10.5"
  }
 },
 "nbformat": 4,
 "nbformat_minor": 5
}
