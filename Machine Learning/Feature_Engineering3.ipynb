{
 "cells": [
  {
   "cell_type": "markdown",
   "id": "61ec77af",
   "metadata": {},
   "source": [
    "#### Q1. What is data encoding? How is it useful in data science?"
   ]
  },
  {
   "cell_type": "markdown",
   "id": "ba08fa9b",
   "metadata": {},
   "source": [
    "Data Encoding is a technique in ML to change a categorical feature into a numerical feature. It is useful method as ML algorithm only uses numerical features to train a model."
   ]
  },
  {
   "cell_type": "markdown",
   "id": "b84c6ffe",
   "metadata": {},
   "source": [
    "#### Q2. What is nominal encoding? Provide an example of how you would use it in a real-world scenario."
   ]
  },
  {
   "cell_type": "markdown",
   "id": "db10b871",
   "metadata": {},
   "source": [
    "Nominal Encoding is a type of data encoding technique which is used when there is a intrinsic ordering into numerical values that can be used in the ML model."
   ]
  },
  {
   "cell_type": "markdown",
   "id": "4508db9a",
   "metadata": {},
   "source": [
    "import seaborn as sns"
   ]
  },
  {
   "cell_type": "code",
   "execution_count": 11,
   "id": "79aa11b7",
   "metadata": {},
   "outputs": [],
   "source": [
    "import pandas as pd"
   ]
  },
  {
   "cell_type": "code",
   "execution_count": 3,
   "id": "f30496c5",
   "metadata": {},
   "outputs": [],
   "source": [
    "df=sns.load_dataset('tips')"
   ]
  },
  {
   "cell_type": "code",
   "execution_count": 4,
   "id": "2db9fa9c",
   "metadata": {},
   "outputs": [
    {
     "data": {
      "text/html": [
       "<div>\n",
       "<style scoped>\n",
       "    .dataframe tbody tr th:only-of-type {\n",
       "        vertical-align: middle;\n",
       "    }\n",
       "\n",
       "    .dataframe tbody tr th {\n",
       "        vertical-align: top;\n",
       "    }\n",
       "\n",
       "    .dataframe thead th {\n",
       "        text-align: right;\n",
       "    }\n",
       "</style>\n",
       "<table border=\"1\" class=\"dataframe\">\n",
       "  <thead>\n",
       "    <tr style=\"text-align: right;\">\n",
       "      <th></th>\n",
       "      <th>total_bill</th>\n",
       "      <th>tip</th>\n",
       "      <th>sex</th>\n",
       "      <th>smoker</th>\n",
       "      <th>day</th>\n",
       "      <th>time</th>\n",
       "      <th>size</th>\n",
       "    </tr>\n",
       "  </thead>\n",
       "  <tbody>\n",
       "    <tr>\n",
       "      <th>0</th>\n",
       "      <td>16.99</td>\n",
       "      <td>1.01</td>\n",
       "      <td>Female</td>\n",
       "      <td>No</td>\n",
       "      <td>Sun</td>\n",
       "      <td>Dinner</td>\n",
       "      <td>2</td>\n",
       "    </tr>\n",
       "    <tr>\n",
       "      <th>1</th>\n",
       "      <td>10.34</td>\n",
       "      <td>1.66</td>\n",
       "      <td>Male</td>\n",
       "      <td>No</td>\n",
       "      <td>Sun</td>\n",
       "      <td>Dinner</td>\n",
       "      <td>3</td>\n",
       "    </tr>\n",
       "    <tr>\n",
       "      <th>2</th>\n",
       "      <td>21.01</td>\n",
       "      <td>3.50</td>\n",
       "      <td>Male</td>\n",
       "      <td>No</td>\n",
       "      <td>Sun</td>\n",
       "      <td>Dinner</td>\n",
       "      <td>3</td>\n",
       "    </tr>\n",
       "    <tr>\n",
       "      <th>3</th>\n",
       "      <td>23.68</td>\n",
       "      <td>3.31</td>\n",
       "      <td>Male</td>\n",
       "      <td>No</td>\n",
       "      <td>Sun</td>\n",
       "      <td>Dinner</td>\n",
       "      <td>2</td>\n",
       "    </tr>\n",
       "    <tr>\n",
       "      <th>4</th>\n",
       "      <td>24.59</td>\n",
       "      <td>3.61</td>\n",
       "      <td>Female</td>\n",
       "      <td>No</td>\n",
       "      <td>Sun</td>\n",
       "      <td>Dinner</td>\n",
       "      <td>4</td>\n",
       "    </tr>\n",
       "  </tbody>\n",
       "</table>\n",
       "</div>"
      ],
      "text/plain": [
       "   total_bill   tip     sex smoker  day    time  size\n",
       "0       16.99  1.01  Female     No  Sun  Dinner     2\n",
       "1       10.34  1.66    Male     No  Sun  Dinner     3\n",
       "2       21.01  3.50    Male     No  Sun  Dinner     3\n",
       "3       23.68  3.31    Male     No  Sun  Dinner     2\n",
       "4       24.59  3.61  Female     No  Sun  Dinner     4"
      ]
     },
     "execution_count": 4,
     "metadata": {},
     "output_type": "execute_result"
    }
   ],
   "source": [
    "df.head()"
   ]
  },
  {
   "cell_type": "code",
   "execution_count": 5,
   "id": "f5a4b2d1",
   "metadata": {},
   "outputs": [],
   "source": [
    "from sklearn.preprocessing import OneHotEncoder"
   ]
  },
  {
   "cell_type": "code",
   "execution_count": 6,
   "id": "9d70b5fd",
   "metadata": {},
   "outputs": [],
   "source": [
    "encoder=OneHotEncoder()"
   ]
  },
  {
   "cell_type": "code",
   "execution_count": 9,
   "id": "a565c5c8",
   "metadata": {},
   "outputs": [],
   "source": [
    "encoded=encoder.fit_transform(df[['sex','smoker']]).toarray()"
   ]
  },
  {
   "cell_type": "code",
   "execution_count": 12,
   "id": "75367537",
   "metadata": {},
   "outputs": [],
   "source": [
    "encoded_df=pd.DataFrame(encoded,columns=encoder.get_feature_names_out())"
   ]
  },
  {
   "cell_type": "code",
   "execution_count": 13,
   "id": "fcc0e9a7",
   "metadata": {},
   "outputs": [
    {
     "data": {
      "text/html": [
       "<div>\n",
       "<style scoped>\n",
       "    .dataframe tbody tr th:only-of-type {\n",
       "        vertical-align: middle;\n",
       "    }\n",
       "\n",
       "    .dataframe tbody tr th {\n",
       "        vertical-align: top;\n",
       "    }\n",
       "\n",
       "    .dataframe thead th {\n",
       "        text-align: right;\n",
       "    }\n",
       "</style>\n",
       "<table border=\"1\" class=\"dataframe\">\n",
       "  <thead>\n",
       "    <tr style=\"text-align: right;\">\n",
       "      <th></th>\n",
       "      <th>sex_Female</th>\n",
       "      <th>sex_Male</th>\n",
       "      <th>smoker_No</th>\n",
       "      <th>smoker_Yes</th>\n",
       "    </tr>\n",
       "  </thead>\n",
       "  <tbody>\n",
       "    <tr>\n",
       "      <th>0</th>\n",
       "      <td>1.0</td>\n",
       "      <td>0.0</td>\n",
       "      <td>1.0</td>\n",
       "      <td>0.0</td>\n",
       "    </tr>\n",
       "    <tr>\n",
       "      <th>1</th>\n",
       "      <td>0.0</td>\n",
       "      <td>1.0</td>\n",
       "      <td>1.0</td>\n",
       "      <td>0.0</td>\n",
       "    </tr>\n",
       "    <tr>\n",
       "      <th>2</th>\n",
       "      <td>0.0</td>\n",
       "      <td>1.0</td>\n",
       "      <td>1.0</td>\n",
       "      <td>0.0</td>\n",
       "    </tr>\n",
       "    <tr>\n",
       "      <th>3</th>\n",
       "      <td>0.0</td>\n",
       "      <td>1.0</td>\n",
       "      <td>1.0</td>\n",
       "      <td>0.0</td>\n",
       "    </tr>\n",
       "    <tr>\n",
       "      <th>4</th>\n",
       "      <td>1.0</td>\n",
       "      <td>0.0</td>\n",
       "      <td>1.0</td>\n",
       "      <td>0.0</td>\n",
       "    </tr>\n",
       "    <tr>\n",
       "      <th>...</th>\n",
       "      <td>...</td>\n",
       "      <td>...</td>\n",
       "      <td>...</td>\n",
       "      <td>...</td>\n",
       "    </tr>\n",
       "    <tr>\n",
       "      <th>239</th>\n",
       "      <td>0.0</td>\n",
       "      <td>1.0</td>\n",
       "      <td>1.0</td>\n",
       "      <td>0.0</td>\n",
       "    </tr>\n",
       "    <tr>\n",
       "      <th>240</th>\n",
       "      <td>1.0</td>\n",
       "      <td>0.0</td>\n",
       "      <td>0.0</td>\n",
       "      <td>1.0</td>\n",
       "    </tr>\n",
       "    <tr>\n",
       "      <th>241</th>\n",
       "      <td>0.0</td>\n",
       "      <td>1.0</td>\n",
       "      <td>0.0</td>\n",
       "      <td>1.0</td>\n",
       "    </tr>\n",
       "    <tr>\n",
       "      <th>242</th>\n",
       "      <td>0.0</td>\n",
       "      <td>1.0</td>\n",
       "      <td>1.0</td>\n",
       "      <td>0.0</td>\n",
       "    </tr>\n",
       "    <tr>\n",
       "      <th>243</th>\n",
       "      <td>1.0</td>\n",
       "      <td>0.0</td>\n",
       "      <td>1.0</td>\n",
       "      <td>0.0</td>\n",
       "    </tr>\n",
       "  </tbody>\n",
       "</table>\n",
       "<p>244 rows × 4 columns</p>\n",
       "</div>"
      ],
      "text/plain": [
       "     sex_Female  sex_Male  smoker_No  smoker_Yes\n",
       "0           1.0       0.0        1.0         0.0\n",
       "1           0.0       1.0        1.0         0.0\n",
       "2           0.0       1.0        1.0         0.0\n",
       "3           0.0       1.0        1.0         0.0\n",
       "4           1.0       0.0        1.0         0.0\n",
       "..          ...       ...        ...         ...\n",
       "239         0.0       1.0        1.0         0.0\n",
       "240         1.0       0.0        0.0         1.0\n",
       "241         0.0       1.0        0.0         1.0\n",
       "242         0.0       1.0        1.0         0.0\n",
       "243         1.0       0.0        1.0         0.0\n",
       "\n",
       "[244 rows x 4 columns]"
      ]
     },
     "execution_count": 13,
     "metadata": {},
     "output_type": "execute_result"
    }
   ],
   "source": [
    "encoded_df"
   ]
  },
  {
   "cell_type": "code",
   "execution_count": 14,
   "id": "96594aef",
   "metadata": {},
   "outputs": [],
   "source": [
    "new_df=pd.concat([df,encoded_df],axis=1)"
   ]
  },
  {
   "cell_type": "code",
   "execution_count": 15,
   "id": "977aa819",
   "metadata": {},
   "outputs": [
    {
     "data": {
      "text/html": [
       "<div>\n",
       "<style scoped>\n",
       "    .dataframe tbody tr th:only-of-type {\n",
       "        vertical-align: middle;\n",
       "    }\n",
       "\n",
       "    .dataframe tbody tr th {\n",
       "        vertical-align: top;\n",
       "    }\n",
       "\n",
       "    .dataframe thead th {\n",
       "        text-align: right;\n",
       "    }\n",
       "</style>\n",
       "<table border=\"1\" class=\"dataframe\">\n",
       "  <thead>\n",
       "    <tr style=\"text-align: right;\">\n",
       "      <th></th>\n",
       "      <th>total_bill</th>\n",
       "      <th>tip</th>\n",
       "      <th>sex</th>\n",
       "      <th>smoker</th>\n",
       "      <th>day</th>\n",
       "      <th>time</th>\n",
       "      <th>size</th>\n",
       "      <th>sex_Female</th>\n",
       "      <th>sex_Male</th>\n",
       "      <th>smoker_No</th>\n",
       "      <th>smoker_Yes</th>\n",
       "    </tr>\n",
       "  </thead>\n",
       "  <tbody>\n",
       "    <tr>\n",
       "      <th>0</th>\n",
       "      <td>16.99</td>\n",
       "      <td>1.01</td>\n",
       "      <td>Female</td>\n",
       "      <td>No</td>\n",
       "      <td>Sun</td>\n",
       "      <td>Dinner</td>\n",
       "      <td>2</td>\n",
       "      <td>1.0</td>\n",
       "      <td>0.0</td>\n",
       "      <td>1.0</td>\n",
       "      <td>0.0</td>\n",
       "    </tr>\n",
       "    <tr>\n",
       "      <th>1</th>\n",
       "      <td>10.34</td>\n",
       "      <td>1.66</td>\n",
       "      <td>Male</td>\n",
       "      <td>No</td>\n",
       "      <td>Sun</td>\n",
       "      <td>Dinner</td>\n",
       "      <td>3</td>\n",
       "      <td>0.0</td>\n",
       "      <td>1.0</td>\n",
       "      <td>1.0</td>\n",
       "      <td>0.0</td>\n",
       "    </tr>\n",
       "    <tr>\n",
       "      <th>2</th>\n",
       "      <td>21.01</td>\n",
       "      <td>3.50</td>\n",
       "      <td>Male</td>\n",
       "      <td>No</td>\n",
       "      <td>Sun</td>\n",
       "      <td>Dinner</td>\n",
       "      <td>3</td>\n",
       "      <td>0.0</td>\n",
       "      <td>1.0</td>\n",
       "      <td>1.0</td>\n",
       "      <td>0.0</td>\n",
       "    </tr>\n",
       "    <tr>\n",
       "      <th>3</th>\n",
       "      <td>23.68</td>\n",
       "      <td>3.31</td>\n",
       "      <td>Male</td>\n",
       "      <td>No</td>\n",
       "      <td>Sun</td>\n",
       "      <td>Dinner</td>\n",
       "      <td>2</td>\n",
       "      <td>0.0</td>\n",
       "      <td>1.0</td>\n",
       "      <td>1.0</td>\n",
       "      <td>0.0</td>\n",
       "    </tr>\n",
       "    <tr>\n",
       "      <th>4</th>\n",
       "      <td>24.59</td>\n",
       "      <td>3.61</td>\n",
       "      <td>Female</td>\n",
       "      <td>No</td>\n",
       "      <td>Sun</td>\n",
       "      <td>Dinner</td>\n",
       "      <td>4</td>\n",
       "      <td>1.0</td>\n",
       "      <td>0.0</td>\n",
       "      <td>1.0</td>\n",
       "      <td>0.0</td>\n",
       "    </tr>\n",
       "  </tbody>\n",
       "</table>\n",
       "</div>"
      ],
      "text/plain": [
       "   total_bill   tip     sex smoker  day    time  size  sex_Female  sex_Male  \\\n",
       "0       16.99  1.01  Female     No  Sun  Dinner     2         1.0       0.0   \n",
       "1       10.34  1.66    Male     No  Sun  Dinner     3         0.0       1.0   \n",
       "2       21.01  3.50    Male     No  Sun  Dinner     3         0.0       1.0   \n",
       "3       23.68  3.31    Male     No  Sun  Dinner     2         0.0       1.0   \n",
       "4       24.59  3.61  Female     No  Sun  Dinner     4         1.0       0.0   \n",
       "\n",
       "   smoker_No  smoker_Yes  \n",
       "0        1.0         0.0  \n",
       "1        1.0         0.0  \n",
       "2        1.0         0.0  \n",
       "3        1.0         0.0  \n",
       "4        1.0         0.0  "
      ]
     },
     "execution_count": 15,
     "metadata": {},
     "output_type": "execute_result"
    }
   ],
   "source": [
    "new_df.head()"
   ]
  },
  {
   "cell_type": "markdown",
   "id": "95246805",
   "metadata": {},
   "source": [
    "#### Q3. In what situations is nominal encoding preferred over one-hot encoding? Provide a practical example."
   ]
  },
  {
   "cell_type": "markdown",
   "id": "466a7f22",
   "metadata": {},
   "source": [
    "Nominal encoding and one-hot encoding are both techniques used in data preprocessing, specifically when dealing with categorical variables. They serve different purposes based on the characteristics of the data and the goals of the analysis. Let's delve into the situations where nominal encoding is preferred over one-hot encoding and provide a practical example to illustrate the difference.\n",
    "\n",
    "**Nominal Encoding**:\n",
    "Nominal encoding involves assigning unique integers to each category or label in a categorical variable. This encoding is useful when there is an inherent ordinal relationship among the categories, meaning that some categories can be ranked or ordered based on their characteristics.\n",
    "\n",
    "**When to Use Nominal Encoding**:\n",
    "1. **Ordinality**: When the categorical variable has an inherent order that should be captured, nominal encoding can represent this ordinal relationship more effectively than one-hot encoding.\n",
    "2. **Reduction of Dimensionality**: Nominal encoding reduces the dimensionality of the data compared to one-hot encoding, which can be beneficial when dealing with large datasets or limited computational resources.\n",
    "3. **Retaining Information**: If the original categorical variable carries information about the order of categories and that information is relevant to the analysis, nominal encoding preserves this information.\n",
    "\n",
    "**Practical Example of Nominal Encoding**:\n",
    "Let's consider a dataset of educational qualifications where the variable \"Education_Level\" has categories like \"High School,\" \"Associate's Degree,\" \"Bachelor's Degree,\" \"Master's Degree,\" and \"Doctorate.\" These categories exhibit an ordinal relationship based on the increasing level of education. Nominal encoding can be used here to assign unique integers (e.g., 1 to 5) to these categories, capturing their ordinal nature.\n",
    "\n",
    "**One-Hot Encoding**:\n",
    "One-hot encoding creates binary columns for each category in a categorical variable. It is commonly used when there is no inherent order among the categories and each category is distinct.\n",
    "\n",
    "**When to Use One-Hot Encoding**:\n",
    "1. **Lack of Ordinality**: When there is no meaningful order among the categories, one-hot encoding ensures that no incorrect ordinal relationship is implied.\n",
    "2. **Model Compatibility**: Many machine learning algorithms, like decision trees and random forests, work well with one-hot encoded data.\n",
    "3. **Avoiding Bias**: In situations where assigning ordinal values might introduce unintended bias or assumptions, one-hot encoding can maintain neutrality.\n",
    "\n",
    "**Practical Example of One-Hot Encoding**:\n",
    "Consider a dataset of customer reviews where the variable \"Sentiment\" represents the sentiment of the review as \"Positive,\" \"Neutral,\" or \"Negative.\" These categories do not have an inherent order, and using one-hot encoding would create separate binary columns for each sentiment category, ensuring that no unintended ordinality is implied.\n",
    "\n",
    "In summary, nominal encoding is preferred over one-hot encoding when there's an inherent ordinal relationship among the categories and preserving that order is relevant for analysis. One-hot encoding is used when there's no meaningful order among the categories or when maintaining the distinctiveness of categories is crucial. The choice between these encoding methods depends on the nature of the categorical variable and the goals of the analysis."
   ]
  },
  {
   "cell_type": "markdown",
   "id": "a724494c",
   "metadata": {},
   "source": [
    "#### Q4. Suppose you have a dataset containing categorical data with 5 unique values. Which encoding technique would you use to transform this data into a format suitable for machine learning algorithms? Explain why you made this choice."
   ]
  },
  {
   "cell_type": "markdown",
   "id": "0ee097ab",
   "metadata": {},
   "source": [
    "In this case, since it's mentioned that there are 5 unique values, and assuming that these values are not inherently ordered, one-hot encoding would likely be the preferred choice. One-hot encoding ensures that each category is treated independently and doesn't introduce any unintended ordinality. It also makes the data suitable for various machine learning algorithms that work well with binary-encoded categorical variables, such as decision trees, random forests, and many types of neural networks."
   ]
  },
  {
   "cell_type": "markdown",
   "id": "103691dc",
   "metadata": {},
   "source": [
    "#### Q5. In a machine learning project, you have a dataset with 1000 rows and 5 columns. Two of the columns are categorical, and the remaining three columns are numerical. If you were to use nominal encoding to transform the categorical data, how many new columns would be created? Show your calculations."
   ]
  },
  {
   "cell_type": "markdown",
   "id": "ebc1d0fc",
   "metadata": {},
   "source": [
    "If you're using nominal encoding to transform categorical data, you would create new columns equal to the number of unique categories in each categorical column. Since you have two categorical columns, you will need to calculate the number of new columns created for each of them and then sum up those numbers.\n",
    "\n",
    "Let's say the first categorical column has 7 unique categories, and the second categorical column has 4 unique categories.\n",
    "\n",
    "For the first categorical column: 7 unique categories\n",
    "For the second categorical column: 4 unique categories\n",
    "\n",
    "Number of new columns created for the first categorical column = 7\n",
    "Number of new columns created for the second categorical column = 4\n",
    "\n",
    "Total number of new columns created = 7 + 4 = 11\n",
    "\n",
    "So, if you were to use nominal encoding to transform the categorical data in this machine learning project, you would create a total of 11 new columns."
   ]
  },
  {
   "cell_type": "markdown",
   "id": "465abbdc",
   "metadata": {},
   "source": [
    "#### Q6. You are working with a dataset containing information about different types of animals, including their species, habitat, and diet. Which encoding technique would you use to transform the categorical data into a format suitable for machine learning algorithms? Justify your answer."
   ]
  },
  {
   "cell_type": "markdown",
   "id": "c05583ca",
   "metadata": {},
   "source": [
    "One-hot encoding is suitable for these categorical variables because it preserves the independence and distinctiveness of each category without introducing any unintended ordinal relationships. It ensures that the machine learning algorithm treats each category as a separate entity, which is particularly important when dealing with categorical variables where the order or relationship among categories is not meaningful for the task at hand."
   ]
  },
  {
   "cell_type": "markdown",
   "id": "57cd97af",
   "metadata": {},
   "source": [
    "#### Q7.You are working on a project that involves predicting customer churn for a telecommunications company. You have a dataset with 5 features, including the customer's gender, age, contract type, monthly charges, and tenure. Which encoding technique(s) would you use to transform the categorical data into numerical data? Provide a step-by-step explanation of how you would implement the encoding."
   ]
  },
  {
   "cell_type": "markdown",
   "id": "271957bb",
   "metadata": {},
   "source": [
    "In this project, we have a dataset with a mix of categorical and numerical features, and we want to predict customer churn for a telecommunications company. Let's go through the steps of how we could transform the categorical data into numerical data using appropriate encoding techniques.\n",
    "\n",
    "**Features in the Dataset**:\n",
    "1. Gender (Categorical)\n",
    "2. Age (Numerical)\n",
    "3. Contract Type (Categorical)\n",
    "4. Monthly Charges (Numerical)\n",
    "5. Tenure (Numerical)\n",
    "\n",
    "**Step-by-Step Explanation**:\n",
    "\n",
    "1. **Handling Gender (Categorical)**:\n",
    "   Since \"Gender\" is a categorical feature with two distinct values (male/female), you can use **binary encoding** or **label encoding**:\n",
    "   - **Binary Encoding**: Encode \"male\" as 0 and \"female\" as 1.\n",
    "   - **Label Encoding**: Assign 0 to one gender and 1 to the other gender.\n",
    "\n",
    "2. **Handling Contract Type (Categorical)**:\n",
    "   \"Contract Type\" is a categorical feature with multiple distinct values. we can use **one-hot encoding** to transform it into numerical format:\n",
    "   - **One-Hot Encoding**: Create separate binary columns for each contract type (e.g., \"Month-to-month,\" \"One year,\" \"Two year\"). A value of 1 in a column indicates that the customer has that contract type, while other columns have values of 0.\n",
    "\n",
    "3. **Leaving Numerical Features (Age, Monthly Charges, Tenure)**:\n",
    "   Since \"Age,\" \"Monthly Charges,\" and \"Tenure\" are already numerical features, they don't require any further encoding. These features can be used as they are in the analysis.\n",
    "\n",
    "4. **Finalizing the Transformed Dataset**:\n",
    "   After applying the appropriate encoding techniques, you will have a transformed dataset where the categorical features are represented in numerical format. The dataset will now consist of both numerical and encoded categorical features.\n",
    "\n",
    "Remember that the choice of encoding technique may vary based on the machine learning algorithm you plan to use. Some algorithms can handle categorical data directly (e.g., decision trees), while others might require encoded features (e.g., linear regression).\n",
    "\n",
    "Additionally, when using one-hot encoding, be mindful of potential multicollinearity, where highly correlated one-hot encoded features can affect the model's performance. In such cases, techniques like feature scaling or dimensionality reduction might be considered.\n",
    "\n",
    "Lastly, evaluate the impact of the chosen encoding techniques on the model's performance using techniques like cross-validation and performance metrics to ensure that the transformations improve the predictive power of the model for customer churn prediction."
   ]
  },
  {
   "cell_type": "code",
   "execution_count": null,
   "id": "f0063b04",
   "metadata": {},
   "outputs": [],
   "source": []
  }
 ],
 "metadata": {
  "kernelspec": {
   "display_name": "Python 3 (ipykernel)",
   "language": "python",
   "name": "python3"
  },
  "language_info": {
   "codemirror_mode": {
    "name": "ipython",
    "version": 3
   },
   "file_extension": ".py",
   "mimetype": "text/x-python",
   "name": "python",
   "nbconvert_exporter": "python",
   "pygments_lexer": "ipython3",
   "version": "3.10.5"
  }
 },
 "nbformat": 4,
 "nbformat_minor": 5
}
