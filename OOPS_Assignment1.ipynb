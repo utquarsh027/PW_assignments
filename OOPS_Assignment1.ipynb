{
 "cells": [
  {
   "cell_type": "markdown",
   "id": "f03a4e20",
   "metadata": {},
   "source": [
    "#### Q1. Explain Class and Object with respect to Object-Oriented Programming. Give a suitable example."
   ]
  },
  {
   "cell_type": "markdown",
   "id": "44518023",
   "metadata": {},
   "source": [
    "Class can be defined as the blueprint of an object.It describes the behaviour and properties of an object.\n",
    "Object is an instance of a class."
   ]
  },
  {
   "cell_type": "code",
   "execution_count": 2,
   "id": "f3e4717b",
   "metadata": {},
   "outputs": [
    {
     "name": "stdout",
     "output_type": "stream",
     "text": [
      "Good Morning\n"
     ]
    }
   ],
   "source": [
    "#Example\n",
    "class test:\n",
    "    def msg(self):\n",
    "        print(\"Good Morning\")\n",
    "        \n",
    "utkarsh=test()\n",
    "utkarsh.msg()"
   ]
  },
  {
   "cell_type": "markdown",
   "id": "da4d5857",
   "metadata": {},
   "source": [
    "In the above example we made a class 'test' and created a object utkarsh or instance of 'test' class."
   ]
  },
  {
   "cell_type": "markdown",
   "id": "811bc3dd",
   "metadata": {},
   "source": [
    "#### Q2. Name the four pillars of OOPs."
   ]
  },
  {
   "cell_type": "markdown",
   "id": "dd27e79a",
   "metadata": {},
   "source": [
    "1. Polymorphism\n",
    "2. Inheritance\n",
    "3. Abstraction\n",
    "4. Encapsulation"
   ]
  },
  {
   "cell_type": "markdown",
   "id": "96389c84",
   "metadata": {},
   "source": [
    "#### Q3. Explain why the __init__() function is used. Give a suitable example."
   ]
  },
  {
   "cell_type": "markdown",
   "id": "b5654094",
   "metadata": {},
   "source": [
    "init() or constructor function is a type of function that is used to initialize the object. It can be used to set initial values for object attributes "
   ]
  },
  {
   "cell_type": "code",
   "execution_count": 3,
   "id": "25f814e1",
   "metadata": {},
   "outputs": [],
   "source": [
    "class animal:\n",
    "    def __init__(self,name,age):\n",
    "        self.name=name\n",
    "        self.age=age\n",
    "    def return_val(self):\n",
    "        return self.name,self.age\n",
    " \n",
    "dog=animal(\"dog\",7)"
   ]
  },
  {
   "cell_type": "code",
   "execution_count": 5,
   "id": "f7cfbd94",
   "metadata": {},
   "outputs": [
    {
     "data": {
      "text/plain": [
       "'dog'"
      ]
     },
     "execution_count": 5,
     "metadata": {},
     "output_type": "execute_result"
    }
   ],
   "source": [
    "dog.name"
   ]
  },
  {
   "cell_type": "code",
   "execution_count": 6,
   "id": "26576096",
   "metadata": {},
   "outputs": [
    {
     "data": {
      "text/plain": [
       "7"
      ]
     },
     "execution_count": 6,
     "metadata": {},
     "output_type": "execute_result"
    }
   ],
   "source": [
    "dog.age"
   ]
  },
  {
   "cell_type": "markdown",
   "id": "aff4dee7",
   "metadata": {},
   "source": [
    "#### Q4. Why self is used in OOPs?"
   ]
  },
  {
   "cell_type": "markdown",
   "id": "ef1de891",
   "metadata": {},
   "source": [
    "self keyword is used in oops to bind the attributes to the created class.It is used to refer to the current instance of the class."
   ]
  },
  {
   "cell_type": "markdown",
   "id": "c67a12c2",
   "metadata": {},
   "source": [
    "#### Q5. What is inheritance? Give an example for each type of inheritance."
   ]
  },
  {
   "cell_type": "markdown",
   "id": "e552b45f",
   "metadata": {},
   "source": [
    "Inheritance is a mechanism that allows a class (known as the derived class or subclass) to inherit properties and behavior from another class (known as the base class or superclass)."
   ]
  },
  {
   "cell_type": "markdown",
   "id": "cb0484da",
   "metadata": {},
   "source": [
    "#### Single Inheritance"
   ]
  },
  {
   "cell_type": "code",
   "execution_count": 11,
   "id": "a5c76514",
   "metadata": {},
   "outputs": [],
   "source": [
    "#1.Single Inheritance\n",
    "\n",
    "class class1:\n",
    "    def print_cla1(self):\n",
    "        return \"this is from class1\"\n",
    "\n",
    "class class2(class1):\n",
    "    pass\n",
    "\n"
   ]
  },
  {
   "cell_type": "code",
   "execution_count": 12,
   "id": "498a0ac0",
   "metadata": {},
   "outputs": [],
   "source": [
    "obj_class2=class2()"
   ]
  },
  {
   "cell_type": "code",
   "execution_count": 13,
   "id": "1cbcb87b",
   "metadata": {},
   "outputs": [
    {
     "data": {
      "text/plain": [
       "'this is from class1'"
      ]
     },
     "execution_count": 13,
     "metadata": {},
     "output_type": "execute_result"
    }
   ],
   "source": [
    "obj_class2.print_cla1()"
   ]
  },
  {
   "cell_type": "markdown",
   "id": "867d628a",
   "metadata": {},
   "source": [
    "#### Multilevel inheritance "
   ]
  },
  {
   "cell_type": "code",
   "execution_count": 14,
   "id": "b646a207",
   "metadata": {},
   "outputs": [],
   "source": [
    "#Multilevel inheritance \n",
    "class class1:\n",
    "    def print_cla1(self):\n",
    "        return \"this is from class1\"\n",
    "\n",
    "class class2(class1):\n",
    "    def print_cla2(self):\n",
    "        return \"this is from class2\"\n",
    "\n",
    "class class3(class2):\n",
    "    pass"
   ]
  },
  {
   "cell_type": "code",
   "execution_count": 15,
   "id": "40dfd155",
   "metadata": {},
   "outputs": [],
   "source": [
    "obj_class3=class3()"
   ]
  },
  {
   "cell_type": "code",
   "execution_count": 16,
   "id": "6fe062af",
   "metadata": {},
   "outputs": [
    {
     "data": {
      "text/plain": [
       "'this is from class1'"
      ]
     },
     "execution_count": 16,
     "metadata": {},
     "output_type": "execute_result"
    }
   ],
   "source": [
    "obj_class3.print_cla1()"
   ]
  },
  {
   "cell_type": "code",
   "execution_count": 17,
   "id": "f3527dfd",
   "metadata": {},
   "outputs": [
    {
     "data": {
      "text/plain": [
       "'this is from class2'"
      ]
     },
     "execution_count": 17,
     "metadata": {},
     "output_type": "execute_result"
    }
   ],
   "source": [
    "obj_class3.print_cla2()"
   ]
  },
  {
   "cell_type": "markdown",
   "id": "8a3598df",
   "metadata": {},
   "source": [
    "#### Multiple inheritance "
   ]
  },
  {
   "cell_type": "code",
   "execution_count": 25,
   "id": "291ed049",
   "metadata": {},
   "outputs": [],
   "source": [
    "#Multiple inheritance\n",
    "class class1:\n",
    "    def print_cla1(self):\n",
    "        return \"this is from class1\"\n",
    "\n",
    "class class2:\n",
    "    def print_cla2(self):\n",
    "        return \"this is from class2\"\n",
    "class class4(class1,class2):\n",
    "    pass"
   ]
  },
  {
   "cell_type": "code",
   "execution_count": 26,
   "id": "b3d44f88",
   "metadata": {},
   "outputs": [],
   "source": [
    "obj_class4=class4()"
   ]
  },
  {
   "cell_type": "code",
   "execution_count": 27,
   "id": "0da79bb9",
   "metadata": {},
   "outputs": [
    {
     "data": {
      "text/plain": [
       "'this is from class1'"
      ]
     },
     "execution_count": 27,
     "metadata": {},
     "output_type": "execute_result"
    }
   ],
   "source": [
    "obj_class4.print_cla1()"
   ]
  },
  {
   "cell_type": "code",
   "execution_count": 28,
   "id": "53de8e16",
   "metadata": {},
   "outputs": [
    {
     "data": {
      "text/plain": [
       "'this is from class2'"
      ]
     },
     "execution_count": 28,
     "metadata": {},
     "output_type": "execute_result"
    }
   ],
   "source": [
    "obj_class4.print_cla2()"
   ]
  },
  {
   "cell_type": "code",
   "execution_count": null,
   "id": "096f9277",
   "metadata": {},
   "outputs": [],
   "source": []
  }
 ],
 "metadata": {
  "kernelspec": {
   "display_name": "Python 3 (ipykernel)",
   "language": "python",
   "name": "python3"
  },
  "language_info": {
   "codemirror_mode": {
    "name": "ipython",
    "version": 3
   },
   "file_extension": ".py",
   "mimetype": "text/x-python",
   "name": "python",
   "nbconvert_exporter": "python",
   "pygments_lexer": "ipython3",
   "version": "3.10.5"
  }
 },
 "nbformat": 4,
 "nbformat_minor": 5
}
