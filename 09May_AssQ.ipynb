{
 "cells": [
  {
   "cell_type": "code",
   "execution_count": 1,
   "id": "a4e83c8a",
   "metadata": {},
   "outputs": [
    {
     "name": "stdout",
     "output_type": "stream",
     "text": [
      "<class 'str'>\n",
      "<class 'list'>\n",
      "<class 'float'>\n",
      "<class 'tuple'>\n"
     ]
    }
   ],
   "source": [
    "#Q1. Create one variable containing following type of data:\n",
    "#1.string\n",
    "str1=\"myname\"\n",
    "#2.list\n",
    "lst=[1,2,3,4]\n",
    "#3.float\n",
    "var3=32.34\n",
    "#4.tuple\n",
    "mytuple=(\"vik\",\"bits\",\"app\")\n",
    "print(type(str1))\n",
    "print(type(lst))\n",
    "print(type(var3))\n",
    "print(type(mytuple))"
   ]
  },
  {
   "cell_type": "code",
   "execution_count": 2,
   "id": "852404e0",
   "metadata": {},
   "outputs": [
    {
     "name": "stdout",
     "output_type": "stream",
     "text": [
      "<class 'str'>\n",
      "<class 'str'>\n",
      "<class 'list'>\n",
      "<class 'int'>\n"
     ]
    }
   ],
   "source": [
    "#Q2. Given are some following variables containing data:\n",
    "var1 = ' '\n",
    "print(type(var1))\n",
    "var2 = '[ DS , ML , Python]'\n",
    "print(type(var2))\n",
    "var3= [ 'DS', 'ML' , 'Python' ]\n",
    "print(type(var3))\n",
    "var4=1\n",
    "print(type(var4))"
   ]
  },
  {
   "cell_type": "markdown",
   "id": "8bb1a779",
   "metadata": {},
   "source": [
    " #### Q3. Explain the use of the following operators using an example:"
   ]
  },
  {
   "cell_type": "markdown",
   "id": "d3f104b5",
   "metadata": {},
   "source": [
    "#### (i) /\n",
    "Above operator is used to divide two numbers\n"
   ]
  },
  {
   "cell_type": "code",
   "execution_count": 3,
   "id": "f9fd5e8b",
   "metadata": {},
   "outputs": [
    {
     "data": {
      "text/plain": [
       "5.0"
      ]
     },
     "execution_count": 3,
     "metadata": {},
     "output_type": "execute_result"
    }
   ],
   "source": [
    "#Example\n",
    "10/2"
   ]
  },
  {
   "cell_type": "markdown",
   "id": "423c5fc7",
   "metadata": {},
   "source": [
    "#### (ii) %\n",
    "Above operator is used to get the remainder of the divison of two numbers.\n"
   ]
  },
  {
   "cell_type": "code",
   "execution_count": 4,
   "id": "db86fc14",
   "metadata": {},
   "outputs": [
    {
     "data": {
      "text/plain": [
       "1"
      ]
     },
     "execution_count": 4,
     "metadata": {},
     "output_type": "execute_result"
    }
   ],
   "source": [
    "#Example\n",
    "a=10%3\n",
    "a"
   ]
  },
  {
   "cell_type": "markdown",
   "id": "24579cfd",
   "metadata": {},
   "source": [
    "#### (iii) //\n",
    "Above operator is used to divide two numbers but only return th integer part."
   ]
  },
  {
   "cell_type": "code",
   "execution_count": 5,
   "id": "3a8c50fa",
   "metadata": {},
   "outputs": [
    {
     "data": {
      "text/plain": [
       "3"
      ]
     },
     "execution_count": 5,
     "metadata": {},
     "output_type": "execute_result"
    }
   ],
   "source": [
    "#example\n",
    "a=10//3\n",
    "a"
   ]
  },
  {
   "cell_type": "markdown",
   "id": "18dfc5ab",
   "metadata": {},
   "source": [
    "#### (iv) **\n",
    "Above operator is used to perform exponential function of two numbers"
   ]
  },
  {
   "cell_type": "code",
   "execution_count": 6,
   "id": "cf21fed6",
   "metadata": {},
   "outputs": [
    {
     "data": {
      "text/plain": [
       "8"
      ]
     },
     "execution_count": 6,
     "metadata": {},
     "output_type": "execute_result"
    }
   ],
   "source": [
    "#Example\n",
    "a=2\n",
    "b=3\n",
    "a**b\n",
    "#which is same as 2*2*2"
   ]
  },
  {
   "cell_type": "markdown",
   "id": "38e499f6",
   "metadata": {},
   "source": [
    "#### Q4. Create a list of length 10 of your choice containing multiple types of data. Using for loop print the element and its data type."
   ]
  },
  {
   "cell_type": "code",
   "execution_count": 7,
   "id": "ea87347c",
   "metadata": {},
   "outputs": [
    {
     "name": "stdout",
     "output_type": "stream",
     "text": [
      "apple <class 'str'>\n",
      "mobile <class 'str'>\n",
      "4 <class 'int'>\n",
      "5 <class 'int'>\n",
      "7 <class 'int'>\n",
      "24.56 <class 'float'>\n",
      "(3+3j) <class 'complex'>\n",
      "utkarsh <class 'str'>\n",
      "34.2 <class 'float'>\n",
      "(3, 2, 4) <class 'tuple'>\n"
     ]
    }
   ],
   "source": [
    "lst1=[\"apple\",\"mobile\",4,5,7,24.56,3+3j,\"utkarsh\",34.2,(3,2,4)]\n",
    "for i in lst1:\n",
    "    print(i,type(i))"
   ]
  },
  {
   "cell_type": "markdown",
   "id": "c67438ee",
   "metadata": {},
   "source": [
    "#### Q5. Using a while loop, verify if the number A is purely divisible by number B and if so then how many times it can be divisible."
   ]
  },
  {
   "cell_type": "code",
   "execution_count": 8,
   "id": "20a0f024",
   "metadata": {},
   "outputs": [
    {
     "name": "stdout",
     "output_type": "stream",
     "text": [
      "100\n",
      "5\n",
      "a can purely divide b 2 times.\n"
     ]
    }
   ],
   "source": [
    "a=int(input())\n",
    "b=int(input())\n",
    "count=0\n",
    "while(a%b==0):\n",
    "    count+=1\n",
    "    a//=b\n",
    "print(f\"a can purely divide b {count} times.\")   "
   ]
  },
  {
   "cell_type": "markdown",
   "id": "18d9756b",
   "metadata": {},
   "source": [
    "#### Q6. Create a list containing 25 int type data. Using for loop and if-else condition print if the element is divisible by 3 or not."
   ]
  },
  {
   "cell_type": "code",
   "execution_count": 9,
   "id": "5288b9b8",
   "metadata": {},
   "outputs": [
    {
     "name": "stdout",
     "output_type": "stream",
     "text": [
      "32 is not divisible by 3\n",
      "10 is not divisible by 3\n",
      "4 is not divisible by 3\n",
      "5 is not divisible by 3\n",
      "25 is not divisible by 3\n",
      "42 is divisible by 3\n",
      "100 is not divisible by 3\n",
      "50 is not divisible by 3\n",
      "20 is not divisible by 3\n",
      "27 is divisible by 3\n",
      "9 is divisible by 3\n",
      "30 is divisible by 3\n",
      "45 is divisible by 3\n",
      "12 is divisible by 3\n",
      "33 is divisible by 3\n",
      "2000 is not divisible by 3\n",
      "250 is not divisible by 3\n",
      "48 is divisible by 3\n",
      "90 is divisible by 3\n",
      "69 is divisible by 3\n",
      "11 is not divisible by 3\n",
      "67 is not divisible by 3\n",
      "72 is divisible by 3\n",
      "49 is not divisible by 3\n",
      "88 is not divisible by 3\n"
     ]
    }
   ],
   "source": [
    "lst2=[32,10,4,5,25,42,100,50,20,27,9,30,45,12,33,2000,250,48,90,69,11,67,72,49,88]\n",
    "for i in lst2:\n",
    "    if i%3==0:\n",
    "        print(f\"{i} is divisible by 3\")\n",
    "    else:\n",
    "        print(f\"{i} is not divisible by 3\")"
   ]
  },
  {
   "cell_type": "markdown",
   "id": "4c872f36",
   "metadata": {},
   "source": [
    "#### Q7. What do you understand about mutable and immutable data types? Give examples for both showing this property."
   ]
  },
  {
   "cell_type": "markdown",
   "id": "271f48a5",
   "metadata": {},
   "source": [
    "Immutable data types are those data types in which we cannot make changes to it values after creation.On the other hand, mutable data types are those whose values can be changed after they are created. String is a immutable type of data type and list is a mutable data type."
   ]
  },
  {
   "cell_type": "code",
   "execution_count": 10,
   "id": "4cdcef04",
   "metadata": {},
   "outputs": [
    {
     "ename": "TypeError",
     "evalue": "'str' object does not support item assignment",
     "output_type": "error",
     "traceback": [
      "\u001b[1;31m---------------------------------------------------------------------------\u001b[0m",
      "\u001b[1;31mTypeError\u001b[0m                                 Traceback (most recent call last)",
      "Input \u001b[1;32mIn [10]\u001b[0m, in \u001b[0;36m<cell line: 3>\u001b[1;34m()\u001b[0m\n\u001b[0;32m      1\u001b[0m \u001b[38;5;66;03m#Example\u001b[39;00m\n\u001b[0;32m      2\u001b[0m string1\u001b[38;5;241m=\u001b[39m\u001b[38;5;124m\"\u001b[39m\u001b[38;5;124mutkarsh\u001b[39m\u001b[38;5;124m\"\u001b[39m\n\u001b[1;32m----> 3\u001b[0m string1[\u001b[38;5;241m0\u001b[39m]\u001b[38;5;241m=\u001b[39m\u001b[38;5;124m\"\u001b[39m\u001b[38;5;124mj\u001b[39m\u001b[38;5;124m\"\u001b[39m\n",
      "\u001b[1;31mTypeError\u001b[0m: 'str' object does not support item assignment"
     ]
    }
   ],
   "source": [
    "#Example\n",
    "string1=\"utkarsh\"\n",
    "string1[0]=\"j\"\n",
    "#It will give error on running as we cannot change its value"
   ]
  },
  {
   "cell_type": "code",
   "execution_count": 11,
   "id": "6e049bb7",
   "metadata": {},
   "outputs": [
    {
     "data": {
      "text/plain": [
       "[2, 7, 6]"
      ]
     },
     "execution_count": 11,
     "metadata": {},
     "output_type": "execute_result"
    }
   ],
   "source": [
    "#\n",
    "lst3=[3,7,6]\n",
    "lst3[0]=2\n",
    "lst3\n",
    "#Value at index 0 will be changed as list is a mutable data type "
   ]
  },
  {
   "cell_type": "code",
   "execution_count": null,
   "id": "43e10daf",
   "metadata": {},
   "outputs": [],
   "source": []
  }
 ],
 "metadata": {
  "kernelspec": {
   "display_name": "Python 3 (ipykernel)",
   "language": "python",
   "name": "python3"
  },
  "language_info": {
   "codemirror_mode": {
    "name": "ipython",
    "version": 3
   },
   "file_extension": ".py",
   "mimetype": "text/x-python",
   "name": "python",
   "nbconvert_exporter": "python",
   "pygments_lexer": "ipython3",
   "version": "3.10.5"
  }
 },
 "nbformat": 4,
 "nbformat_minor": 5
}
