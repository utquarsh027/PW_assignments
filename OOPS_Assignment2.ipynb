{
 "cells": [
  {
   "cell_type": "markdown",
   "id": "36c8589f",
   "metadata": {},
   "source": [
    "#### Q1. What is Abstraction in OOps? Explain with an example."
   ]
  },
  {
   "cell_type": "markdown",
   "id": "013b0f9d",
   "metadata": {},
   "source": [
    "Abstraction is the property of oops that hides the unnecessary details but shows only the essential features of an object or class."
   ]
  },
  {
   "cell_type": "code",
   "execution_count": 1,
   "id": "162b8ada",
   "metadata": {},
   "outputs": [],
   "source": [
    "import abc\n",
    "class pwskills:\n",
    "    @abc.abstractclassmethod\n",
    "    def students_details(self):\n",
    "        pass\n",
    "    \n",
    "    @abc.abstractclassmethod\n",
    "    def student_assignment(self):\n",
    "        pass\n",
    "\n",
    "    @abc.abstractclassmethod\n",
    "    def student_marks(self):\n",
    "        pass"
   ]
  },
  {
   "cell_type": "code",
   "execution_count": 2,
   "id": "f765c97f",
   "metadata": {},
   "outputs": [],
   "source": [
    "class data_science(pwskills):\n",
    "    def students_details(self):\n",
    "        return \"this is a math for taking student details\"\n",
    "    \n",
    "    def student_assignment(self):\n",
    "        return \"this is a math for taking student assignment\"\n",
    "    \n",
    "    def student_marks(self):\n",
    "        return \"this is a math for taking student marks\"\n",
    "    "
   ]
  },
  {
   "cell_type": "code",
   "execution_count": 5,
   "id": "1e2b45e5",
   "metadata": {},
   "outputs": [],
   "source": [
    "ds=data_science()"
   ]
  },
  {
   "cell_type": "code",
   "execution_count": 7,
   "id": "261641c2",
   "metadata": {},
   "outputs": [
    {
     "data": {
      "text/plain": [
       "'this is a math for taking student details'"
      ]
     },
     "execution_count": 7,
     "metadata": {},
     "output_type": "execute_result"
    }
   ],
   "source": [
    "ds.students_details()"
   ]
  },
  {
   "cell_type": "markdown",
   "id": "bb000558",
   "metadata": {},
   "source": [
    "In the above example, we made a function pwskills that serves as a abstraction class and have three abstract methods which are common for any student of any course of skills but does not have an implementation.Further we made a datascience class that inherit the properties of the pwskills class and provides implementation to each respective function."
   ]
  },
  {
   "cell_type": "markdown",
   "id": "ed13f9b0",
   "metadata": {},
   "source": [
    "#### Q2. Differentiate between Abstraction and Encapsulation. Explain with an example."
   ]
  },
  {
   "cell_type": "markdown",
   "id": "04ecd315",
   "metadata": {},
   "source": [
    "\"\"\"Abstraction and Encapsulation are two important concepts in object-oriented programming (OOP) but they serve different purposes.\n",
    "\n",
    "Abstraction focuses on hiding the unnecessary details and exposing only the essential features of an object or class. It allows us to create abstract classes and abstract methods that provide a blueprint for other classes to follow. Abstract methods don't have an implementation in the abstract class, and they must be implemented in the derived classes. The main goal of abstraction is to provide a clear and simplified interface for interacting with objects.\n",
    "\n",
    "Encapsulation, on the other hand, is about bundling the data and methods that operate on that data together into a single unit called a class. It ensures that the internal state of an object is accessible only through well-defined methods, providing data protection and preventing direct access from outside the class. Encapsulation allows us to control the access to the internal details of an object, providing better security, maintainability, and flexibility.\n",
    "\"\"\""
   ]
  },
  {
   "cell_type": "code",
   "execution_count": 9,
   "id": "13d64194",
   "metadata": {},
   "outputs": [
    {
     "name": "stdout",
     "output_type": "stream",
     "text": [
      "Starting the Toyota car.\n",
      "Starting the Honda bike.\n"
     ]
    }
   ],
   "source": [
    "\n",
    "#Here's an example to illustrate the difference between abstraction and encapsulation:\n",
    "import abc\n",
    "\n",
    "class Vehicle():\n",
    "    def __init__(self, brand):\n",
    "        self.brand = brand\n",
    "\n",
    "    @abc.abstractmethod\n",
    "    def start(self):\n",
    "        pass\n",
    "\n",
    "class Car(Vehicle):\n",
    "    def start(self):\n",
    "        return f\"Starting the {self.brand} car.\"\n",
    "\n",
    "class Bike(Vehicle):\n",
    "    def start(self):\n",
    "        return f\"Starting the {self.brand} bike.\"\n",
    "\n",
    "# Abstraction: Vehicle is an abstract class that defines the start() method as an abstract method.\n",
    "# Car and Bike are concrete classes that inherit from Vehicle and provide the implementation for the start() method.\n",
    "\n",
    "car = Car(\"Toyota\")\n",
    "print(car.start())  # Output: Starting the Toyota car.\n",
    "\n",
    "bike = Bike(\"Honda\")\n",
    "print(bike.start())  # Output: Starting the Honda bike.\n"
   ]
  },
  {
   "cell_type": "code",
   "execution_count": 10,
   "id": "34a68c29",
   "metadata": {},
   "outputs": [
    {
     "name": "stdout",
     "output_type": "stream",
     "text": [
      "1300\n"
     ]
    }
   ],
   "source": [
    "class BankAccount:\n",
    "    def __init__(self, account_number, balance):\n",
    "        self._account_number = account_number  # Encapsulated data (protected access)\n",
    "        self._balance = balance  # Encapsulated data (protected access)\n",
    "\n",
    "    def deposit(self, amount):\n",
    "        self._balance += amount\n",
    "\n",
    "    def withdraw(self, amount):\n",
    "        if amount <= self._balance:\n",
    "            self._balance -= amount\n",
    "        else:\n",
    "            print(\"Insufficient balance!\")\n",
    "\n",
    "    def get_balance(self):\n",
    "        return self._balance\n",
    "\n",
    "account = BankAccount(\"1234567890\", 1000)\n",
    "account.deposit(500)\n",
    "account.withdraw(200)\n",
    "print(account.get_balance())"
   ]
  },
  {
   "cell_type": "markdown",
   "id": "438e9daa",
   "metadata": {},
   "source": [
    "#### Q3. What is abc module in python? Why is it used?"
   ]
  },
  {
   "cell_type": "markdown",
   "id": "b0b118b1",
   "metadata": {},
   "source": [
    "abc module stands for 'Abstract Base Classes'.It is used to provide infrastructure for defining abstract classes.It allows us to define abstract methods that must be implemented by subclasses, ensuring that the subclasses provide specific functionality."
   ]
  },
  {
   "cell_type": "markdown",
   "id": "cf8c26ae",
   "metadata": {},
   "source": [
    "#### Q4. How can we achieve data abstraction?"
   ]
  },
  {
   "cell_type": "markdown",
   "id": "54581866",
   "metadata": {},
   "source": [
    "We can achieve abstraction by using abc module that will help us to create abstract classes and methods ,which are declared but does not have any implementation in it.Abstract methods must be implemented by the subclasses."
   ]
  },
  {
   "cell_type": "markdown",
   "id": "8841e8ad",
   "metadata": {},
   "source": [
    "#### Q5. Can we create an instance of an abstract class? Explain your answer."
   ]
  },
  {
   "cell_type": "markdown",
   "id": "a1da2533",
   "metadata": {},
   "source": [
    "No, we cannot create an instance of an abstract class in Python.\n",
    "An abstract class is a class that is meant to be inherited from and serves as a blueprint for its subclasses. It is designed to define a common interface and behavior that its subclasses should implement. Abstract classes cannot be instantiated directly because they typically contain one or more abstract methods, which are methods without any implementation."
   ]
  },
  {
   "cell_type": "code",
   "execution_count": 26,
   "id": "ef25e324",
   "metadata": {},
   "outputs": [],
   "source": [
    "#Example\n",
    "import abc\n",
    "class MyAbstractClass(abc.ABC):\n",
    "    @abc.abstractclassmethod\n",
    "    def my_abstract_method(self):\n",
    "        pass"
   ]
  },
  {
   "cell_type": "code",
   "execution_count": 27,
   "id": "2fd1665c",
   "metadata": {},
   "outputs": [
    {
     "ename": "TypeError",
     "evalue": "Can't instantiate abstract class MyAbstractClass with abstract method my_abstract_method",
     "output_type": "error",
     "traceback": [
      "\u001b[1;31m---------------------------------------------------------------------------\u001b[0m",
      "\u001b[1;31mTypeError\u001b[0m                                 Traceback (most recent call last)",
      "Input \u001b[1;32mIn [27]\u001b[0m, in \u001b[0;36m<cell line: 1>\u001b[1;34m()\u001b[0m\n\u001b[1;32m----> 1\u001b[0m instance\u001b[38;5;241m=\u001b[39m\u001b[43mMyAbstractClass\u001b[49m\u001b[43m(\u001b[49m\u001b[43m)\u001b[49m\n",
      "\u001b[1;31mTypeError\u001b[0m: Can't instantiate abstract class MyAbstractClass with abstract method my_abstract_method"
     ]
    }
   ],
   "source": [
    "instance=MyAbstractClass()"
   ]
  }
 ],
 "metadata": {
  "kernelspec": {
   "display_name": "Python 3 (ipykernel)",
   "language": "python",
   "name": "python3"
  },
  "language_info": {
   "codemirror_mode": {
    "name": "ipython",
    "version": 3
   },
   "file_extension": ".py",
   "mimetype": "text/x-python",
   "name": "python",
   "nbconvert_exporter": "python",
   "pygments_lexer": "ipython3",
   "version": "3.10.5"
  }
 },
 "nbformat": 4,
 "nbformat_minor": 5
}
