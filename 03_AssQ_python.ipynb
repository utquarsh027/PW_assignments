{
 "cells": [
  {
   "cell_type": "markdown",
   "id": "77a34c51",
   "metadata": {},
   "source": [
    "#### Q1. Which keyword is used to create a function? Create a function to return a list of odd numbers in the range of 1 to 25."
   ]
  },
  {
   "cell_type": "markdown",
   "id": "ffe69753",
   "metadata": {},
   "source": [
    "def keyword is used to create a function in Python."
   ]
  },
  {
   "cell_type": "code",
   "execution_count": 1,
   "id": "7dbd78ec",
   "metadata": {},
   "outputs": [
    {
     "name": "stdout",
     "output_type": "stream",
     "text": [
      "[1, 3, 5, 7, 9, 11, 13, 15, 17, 19, 21, 23, 25]\n"
     ]
    }
   ],
   "source": [
    "def odd():\n",
    "    ls=[]\n",
    "    for i in range(1,26):\n",
    "         if i%2!=0:\n",
    "                ls.append(i)\n",
    "    print(ls)            \n",
    "odd()                "
   ]
  },
  {
   "cell_type": "markdown",
   "id": "926b4904",
   "metadata": {},
   "source": [
    "#### Q2. Why **args and ***kwargs is used in some functions? Create a function each for *args and **kwargs to demonstrate their use."
   ]
  },
  {
   "cell_type": "raw",
   "id": "c00c44ed",
   "metadata": {},
   "source": [
    "*args and **kwargs is used in some functions when we're not aware of the number of input a function takes."
   ]
  },
  {
   "cell_type": "code",
   "execution_count": 2,
   "id": "b20465f9",
   "metadata": {},
   "outputs": [
    {
     "name": "stdout",
     "output_type": "stream",
     "text": [
      "60\n",
      "61\n"
     ]
    }
   ],
   "source": [
    "# Example of *args\n",
    "def addition(*args):\n",
    "    ttl=0\n",
    "    for i in args:\n",
    "        ttl+=i\n",
    "    return ttl\n",
    "\n",
    "print(addition(24,36))\n",
    "print(addition(12,24,25))"
   ]
  },
  {
   "cell_type": "code",
   "execution_count": 3,
   "id": "6023a1ff",
   "metadata": {},
   "outputs": [
    {
     "name": "stdout",
     "output_type": "stream",
     "text": [
      "Name:Utkarsh\n",
      "Age:21\n",
      "Sex:M\n",
      "MobileNo:4572147\n"
     ]
    }
   ],
   "source": [
    "# Example of **kwargs\n",
    "def temp(**kwargs):\n",
    "    for i, j in kwargs.items():\n",
    "        print(f\"{i}:{j}\")\n",
    "\n",
    "temp(Name=\"Utkarsh\",Age=21,Sex=\"M\")\n",
    "temp(MobileNo=4572147)"
   ]
  },
  {
   "cell_type": "markdown",
   "id": "ac4e9058",
   "metadata": {},
   "source": [
    "#### Q3. What is an iterator in python? Name the method used to initialise the iterator object and the method used for iteration. Use these methods to print the first five elements of the given list [2, 4, 6, 8, 10, 12, 14, 16, 18, 20]."
   ]
  },
  {
   "cell_type": "markdown",
   "id": "5ce6777b",
   "metadata": {},
   "source": [
    "Iterator in python is an object that can traverse through all the present values.\n",
    "iter() method is used to initialise the iterator object.\n",
    "next() method used for iteration."
   ]
  },
  {
   "cell_type": "code",
   "execution_count": 4,
   "id": "d6e58306",
   "metadata": {},
   "outputs": [
    {
     "name": "stdout",
     "output_type": "stream",
     "text": [
      "2\n",
      "4\n",
      "6\n",
      "8\n",
      "10\n"
     ]
    }
   ],
   "source": [
    "ls=[2, 4, 6, 8, 10, 12, 14, 16, 18, 20]\n",
    "ls1=iter(ls)\n",
    "\n",
    "for _ in range(5):\n",
    "    print(next(ls1))"
   ]
  },
  {
   "cell_type": "markdown",
   "id": "69bec9d5",
   "metadata": {},
   "source": [
    "#### Q4. What is a generator function in python? Why yield keyword is used? Give an example of a generator function."
   ]
  },
  {
   "cell_type": "markdown",
   "id": "0a0a54ee",
   "metadata": {},
   "source": [
    "Generator function is used to generate an iterator object that enables us to traverse over values dynamically. 'yield' keyword is used to return the value of iterator object.\n"
   ]
  },
  {
   "cell_type": "code",
   "execution_count": 5,
   "id": "a5a12908",
   "metadata": {},
   "outputs": [],
   "source": [
    "def test_fib(n):\n",
    "    a,b = 0,1\n",
    "    for i in range(n):\n",
    "        yield a \n",
    "        a,b = b , a+b"
   ]
  },
  {
   "cell_type": "code",
   "execution_count": 6,
   "id": "b978ead2",
   "metadata": {},
   "outputs": [
    {
     "name": "stdout",
     "output_type": "stream",
     "text": [
      "0\n",
      "1\n",
      "1\n",
      "2\n",
      "3\n",
      "5\n",
      "8\n",
      "13\n",
      "21\n",
      "34\n"
     ]
    }
   ],
   "source": [
    "for i in test_fib(10):\n",
    "    print(i)"
   ]
  },
  {
   "cell_type": "markdown",
   "id": "3561f79f",
   "metadata": {},
   "source": [
    "#### Q5. Create a generator function for prime numbers less than 1000. Use the next() method to print the first 20 prime numbers."
   ]
  },
  {
   "cell_type": "code",
   "execution_count": 7,
   "id": "0233cedc",
   "metadata": {},
   "outputs": [
    {
     "name": "stdout",
     "output_type": "stream",
     "text": [
      "2\n",
      "3\n",
      "5\n",
      "7\n",
      "11\n",
      "13\n",
      "17\n",
      "19\n",
      "23\n",
      "29\n",
      "31\n",
      "37\n",
      "41\n",
      "43\n",
      "47\n",
      "53\n",
      "59\n",
      "61\n",
      "67\n",
      "71\n"
     ]
    }
   ],
   "source": [
    "def is_prime(num):\n",
    "    if num < 2:\n",
    "        return False\n",
    "    for i in range(2, int(num ** 0.5) + 1):\n",
    "        if num % i == 0:\n",
    "            return False\n",
    "    return True\n",
    "\n",
    "def print_prime():\n",
    "    num=2\n",
    "    while num<1000:\n",
    "        if is_prime(num):\n",
    "            yield num\n",
    "        num+=1    \n",
    "gen=print_prime()\n",
    "\n",
    "for _ in range(20):\n",
    "    print(next(gen))"
   ]
  },
  {
   "cell_type": "markdown",
   "id": "0ca3c71f",
   "metadata": {},
   "source": [
    "#### Q6. Write a python program to print the first 10 Fibonacci numbers using a while loop."
   ]
  },
  {
   "cell_type": "code",
   "execution_count": 8,
   "id": "a7f204f6",
   "metadata": {},
   "outputs": [
    {
     "name": "stdout",
     "output_type": "stream",
     "text": [
      "0\n",
      "1\n",
      "1\n",
      "2\n",
      "3\n",
      "5\n",
      "8\n",
      "13\n",
      "21\n",
      "34\n"
     ]
    }
   ],
   "source": [
    "def fib():\n",
    "    a,b=0,1\n",
    "    while True:\n",
    "        yield a\n",
    "        a,b=b,a+b\n",
    "fib_gen=fib()        \n",
    "for _ in range(10):\n",
    "    print(next(fib_gen))"
   ]
  },
  {
   "cell_type": "markdown",
   "id": "d20e4376",
   "metadata": {},
   "source": [
    "#### Q7. Write a List Comprehension to iterate through the given string: ‘pwskills’.Expected output: ['p', 'w', 's', 'k', 'i', 'l', 'l', 's']"
   ]
  },
  {
   "cell_type": "code",
   "execution_count": 10,
   "id": "31595693",
   "metadata": {},
   "outputs": [
    {
     "name": "stdout",
     "output_type": "stream",
     "text": [
      "['p', 'w', 's', 'k', 'i', 'l', 'l', 's']\n"
     ]
    }
   ],
   "source": [
    "sttr='pwskills'\n",
    "ls=[x for x in sttr]\n",
    "print(ls)"
   ]
  },
  {
   "cell_type": "markdown",
   "id": "8940fcf1",
   "metadata": {},
   "source": [
    "#### Q8. Write a python program to check whether a given number is Palindrome or not using a while loop."
   ]
  },
  {
   "cell_type": "code",
   "execution_count": 9,
   "id": "447746cc",
   "metadata": {},
   "outputs": [
    {
     "name": "stdout",
     "output_type": "stream",
     "text": [
      "It is a Palindrome\n",
      "Not a palindrome\n"
     ]
    }
   ],
   "source": [
    "def is_palindrome(n):\n",
    "    reverse=0\n",
    "    digit=0\n",
    "    temp=n\n",
    "    while(temp>0):\n",
    "        digit=temp%10\n",
    "        reverse=reverse*10+digit\n",
    "        temp=temp//10\n",
    "    if reverse==n:\n",
    "        print(\"It is a Palindrome\")\n",
    "    else:\n",
    "        print(\"Not a palindrome\")\n",
    "\n",
    "is_palindrome(22)\n",
    "is_palindrome(12)"
   ]
  },
  {
   "cell_type": "markdown",
   "id": "bc23bec6",
   "metadata": {},
   "source": [
    "#### Q9. Write a code to print odd numbers from 1 to 100 using list comprehension."
   ]
  },
  {
   "cell_type": "code",
   "execution_count": 11,
   "id": "2113f7d3",
   "metadata": {},
   "outputs": [
    {
     "name": "stdout",
     "output_type": "stream",
     "text": [
      "[1, 2, 3, 4, 5, 6, 7, 8, 9, 10, 11, 12, 13, 14, 15, 16, 17, 18, 19, 20, 21, 22, 23, 24, 25, 26, 27, 28, 29, 30, 31, 32, 33, 34, 35, 36, 37, 38, 39, 40, 41, 42, 43, 44, 45, 46, 47, 48, 49, 50, 51, 52, 53, 54, 55, 56, 57, 58, 59, 60, 61, 62, 63, 64, 65, 66, 67, 68, 69, 70, 71, 72, 73, 74, 75, 76, 77, 78, 79, 80, 81, 82, 83, 84, 85, 86, 87, 88, 89, 90, 91, 92, 93, 94, 95, 96, 97, 98, 99, 100]\n"
     ]
    }
   ],
   "source": [
    "ls1=[x for x in range(1,101)]\n",
    "print(ls1)"
   ]
  },
  {
   "cell_type": "code",
   "execution_count": 12,
   "id": "5ecb7e15",
   "metadata": {},
   "outputs": [
    {
     "name": "stdout",
     "output_type": "stream",
     "text": [
      "[1, 3, 5, 7, 9, 11, 13, 15, 17, 19, 21, 23, 25, 27, 29, 31, 33, 35, 37, 39, 41, 43, 45, 47, 49, 51, 53, 55, 57, 59, 61, 63, 65, 67, 69, 71, 73, 75, 77, 79, 81, 83, 85, 87, 89, 91, 93, 95, 97, 99]\n"
     ]
    }
   ],
   "source": [
    "ls2=[x for x in ls1 if x%2!=0]\n",
    "print(ls2)"
   ]
  },
  {
   "cell_type": "code",
   "execution_count": null,
   "id": "2f10e89b",
   "metadata": {},
   "outputs": [],
   "source": []
  }
 ],
 "metadata": {
  "kernelspec": {
   "display_name": "Python 3 (ipykernel)",
   "language": "python",
   "name": "python3"
  },
  "language_info": {
   "codemirror_mode": {
    "name": "ipython",
    "version": 3
   },
   "file_extension": ".py",
   "mimetype": "text/x-python",
   "name": "python",
   "nbconvert_exporter": "python",
   "pygments_lexer": "ipython3",
   "version": "3.10.5"
  }
 },
 "nbformat": 4,
 "nbformat_minor": 5
}
