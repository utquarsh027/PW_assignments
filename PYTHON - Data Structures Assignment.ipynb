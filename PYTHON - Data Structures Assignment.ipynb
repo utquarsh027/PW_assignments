{
 "cells": [
  {
   "cell_type": "markdown",
   "id": "c347e240",
   "metadata": {},
   "source": [
    "#### Q1. How do you comment code in Python? What are the different types of comments?"
   ]
  },
  {
   "cell_type": "markdown",
   "id": "ab349b02",
   "metadata": {},
   "source": [
    "Comments are done in Python to improve the readability of the code.\n",
    "There are two ways in which we can type comments in Python.\n",
    "1. Single Line - Single-line comments start with the hash symbol (#).Everything after the # on the same line is considered a comment and is ignored by the interpreter.\n",
    "2. Mutliline - Multi-line comments are enclosed between triple quotes (\"\"\" or ''')."
   ]
  },
  {
   "cell_type": "markdown",
   "id": "f8fcc0e2",
   "metadata": {},
   "source": [
    "#### Q2. What are variables in Python? How do you declare and assign values to variables?"
   ]
  },
  {
   "cell_type": "markdown",
   "id": "69f4209f",
   "metadata": {},
   "source": [
    "Variables are used to store data that can be referenced by the variable name. To declare and assign values to variables in Python, we simply use the assignment operator (=)."
   ]
  },
  {
   "cell_type": "code",
   "execution_count": 1,
   "id": "5beb9c15",
   "metadata": {},
   "outputs": [],
   "source": [
    "#Example\n",
    "name=\"Utkarsh\"\n",
    "age=\"21\""
   ]
  },
  {
   "cell_type": "markdown",
   "id": "9c10ea07",
   "metadata": {},
   "source": [
    "In the above example we declare two variables 'name' and 'age'.We assign the values \"Utkarsh\" and 27 in each variable ."
   ]
  },
  {
   "cell_type": "markdown",
   "id": "dc689f94",
   "metadata": {},
   "source": [
    "#### Q3. How do you convert one data type to another in Python?"
   ]
  },
  {
   "cell_type": "code",
   "execution_count": 2,
   "id": "b7904ae6",
   "metadata": {},
   "outputs": [
    {
     "name": "stdout",
     "output_type": "stream",
     "text": [
      "Before conversion <class 'str'>\n",
      "After conversion <class 'int'>\n"
     ]
    }
   ],
   "source": [
    "# We convert one data type to other using type conversion functions.\n",
    "#Example\n",
    "age=\"27\"\n",
    "print(f\"Before conversion {type(age)}\")\n",
    "age=int(age)\n",
    "print(f\"After conversion {type(age)}\")"
   ]
  },
  {
   "cell_type": "markdown",
   "id": "8d3729cc",
   "metadata": {},
   "source": [
    "#### Q4. How do you write and execute a Python script from the command line?"
   ]
  },
  {
   "cell_type": "markdown",
   "id": "f7bcac13",
   "metadata": {},
   "source": [
    "To write and execute a Python script from the command line, follow these steps:\n",
    "\n",
    "1. Open a text editor and create a new file. You can use any text editor of your choice (e.g., Notepad, Sublime Text, Visual Studio Code).\n",
    "2. Write your Python code in the file. For example, let's create a simple script that prints \"Hello, world!\" to the console:\n",
    "3. Save the file with a .py extension. For example, save the file as hello.py.\n",
    "4. Open the command prompt or terminal on your operating system.\n",
    "5. Navigate to the directory where you saved the Python script. You can use the cd command (change directory) to navigate to the desired directory.\n",
    "6. Once you're in the correct directory, you can run the Python script by typing python followed by the name of the script file. In this case, the command would be: python hello.py\n",
    "7. Press Enter to execute the script. The output, \"Hello, world!\", should be displayed in the command prompt or terminal."
   ]
  },
  {
   "cell_type": "markdown",
   "id": "ccb7f23f",
   "metadata": {},
   "source": [
    "#### Q5. Given a list my_list = [1, 2, 3, 4, 5], write the code to slice the list and obtain the sub-list [2, 3]."
   ]
  },
  {
   "cell_type": "code",
   "execution_count": 3,
   "id": "7684879d",
   "metadata": {},
   "outputs": [
    {
     "data": {
      "text/plain": [
       "[2, 3]"
      ]
     },
     "execution_count": 3,
     "metadata": {},
     "output_type": "execute_result"
    }
   ],
   "source": [
    "my_list=[1,2,3,4,5]\n",
    "sliced_list=my_list[1:3]\n",
    "sliced_list"
   ]
  },
  {
   "cell_type": "markdown",
   "id": "9a570f2b",
   "metadata": {},
   "source": [
    "#### Q6. What is a complex number in mathematics, and how is it represented in Python?"
   ]
  },
  {
   "cell_type": "markdown",
   "id": "9737762c",
   "metadata": {},
   "source": [
    "In mathematics complex number is a number that contains two parts in it that is real and imaginary part. It is denoted in the form of x+iy where x is the real number and y is the imaginary number.\n",
    "In Python it is represented in the form of x+yj. Example 3+4j"
   ]
  },
  {
   "cell_type": "code",
   "execution_count": 4,
   "id": "e8fc9ff6",
   "metadata": {},
   "outputs": [
    {
     "data": {
      "text/plain": [
       "complex"
      ]
     },
     "execution_count": 4,
     "metadata": {},
     "output_type": "execute_result"
    }
   ],
   "source": [
    "#Example\n",
    "comp=3+4j\n",
    "type(comp)"
   ]
  },
  {
   "cell_type": "markdown",
   "id": "1ada4c65",
   "metadata": {},
   "source": [
    "#### Q7. What is the correct way to declare a variable named age and assign the value 25 to it?"
   ]
  },
  {
   "cell_type": "code",
   "execution_count": 5,
   "id": "f9ce7fd4",
   "metadata": {},
   "outputs": [
    {
     "data": {
      "text/plain": [
       "25"
      ]
     },
     "execution_count": 5,
     "metadata": {},
     "output_type": "execute_result"
    }
   ],
   "source": [
    "'''To do this first we need to declare a variable named age and then assign the\n",
    "   value 25 in it either in the form of string or integer.'''\n",
    "age=25\n",
    "age"
   ]
  },
  {
   "cell_type": "markdown",
   "id": "c0133d5f",
   "metadata": {},
   "source": [
    "#### Q8. Declare a variable named price and assign the value 9.99 to it. What data type does this variable belong to?"
   ]
  },
  {
   "cell_type": "code",
   "execution_count": 6,
   "id": "092bc402",
   "metadata": {},
   "outputs": [
    {
     "data": {
      "text/plain": [
       "float"
      ]
     },
     "execution_count": 6,
     "metadata": {},
     "output_type": "execute_result"
    }
   ],
   "source": [
    "price=9.99\n",
    "type(price)"
   ]
  },
  {
   "cell_type": "markdown",
   "id": "aabe2064",
   "metadata": {},
   "source": [
    "#### Q9. Create a variable named name and assign your full name to it as a string. How would you print thevalue of this variable?"
   ]
  },
  {
   "cell_type": "code",
   "execution_count": 7,
   "id": "199f3291",
   "metadata": {},
   "outputs": [
    {
     "name": "stdout",
     "output_type": "stream",
     "text": [
      "Utkarsh Jhariya\n"
     ]
    }
   ],
   "source": [
    "name=\"Utkarsh Jhariya\"\n",
    "#We can use print function to print its value\n",
    "print(name)"
   ]
  },
  {
   "cell_type": "markdown",
   "id": "1a947651",
   "metadata": {},
   "source": [
    "#### Q10. Given the string \"Hello, World!\", extract the substring \"World\"."
   ]
  },
  {
   "cell_type": "code",
   "execution_count": 8,
   "id": "6c4e4afa",
   "metadata": {},
   "outputs": [
    {
     "name": "stdout",
     "output_type": "stream",
     "text": [
      "World\n"
     ]
    }
   ],
   "source": [
    "sting=\"Hello, World!\"\n",
    "substring = sting[7:12]\n",
    "print(substring)"
   ]
  },
  {
   "cell_type": "markdown",
   "id": "815e50e4",
   "metadata": {},
   "source": [
    "#### Q11. Create a variable named \"is_student\" and assign it a boolean value indicating whether you are currently a student or not."
   ]
  },
  {
   "cell_type": "code",
   "execution_count": 9,
   "id": "38694fe5",
   "metadata": {},
   "outputs": [
    {
     "name": "stdout",
     "output_type": "stream",
     "text": [
      "True\n"
     ]
    }
   ],
   "source": [
    "is_student=True\n",
    "print(is_student)"
   ]
  },
  {
   "cell_type": "code",
   "execution_count": null,
   "id": "3d6aca57",
   "metadata": {},
   "outputs": [],
   "source": []
  }
 ],
 "metadata": {
  "kernelspec": {
   "display_name": "Python 3 (ipykernel)",
   "language": "python",
   "name": "python3"
  },
  "language_info": {
   "codemirror_mode": {
    "name": "ipython",
    "version": 3
   },
   "file_extension": ".py",
   "mimetype": "text/x-python",
   "name": "python",
   "nbconvert_exporter": "python",
   "pygments_lexer": "ipython3",
   "version": "3.10.5"
  }
 },
 "nbformat": 4,
 "nbformat_minor": 5
}
