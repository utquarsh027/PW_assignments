{
 "cells": [
  {
   "cell_type": "markdown",
   "id": "8255c7ba",
   "metadata": {},
   "source": [
    "#### Q1. How do you comment code in Python? What are the different types of comments?"
   ]
  },
  {
   "cell_type": "markdown",
   "id": "4a3936c9",
   "metadata": {},
   "source": [
    "Comments are done in Python to improve the readability of the code.\n",
    "There are two ways in which we can type comments in Python.\n",
    "1. Single Line - Single-line comments start with the hash symbol (#).Everything after the # on the same line is considered a comment and is ignored by the interpreter.\n",
    "2. Mutliline - Multi-line comments are enclosed between triple quotes (\"\"\" or ''')."
   ]
  },
  {
   "cell_type": "markdown",
   "id": "f82c2162",
   "metadata": {},
   "source": [
    "#### Q2. What are variables in Python? How do you declare and assign values to variables?"
   ]
  },
  {
   "cell_type": "markdown",
   "id": "c2622f2a",
   "metadata": {},
   "source": [
    "Variables are used to store data that can be referenced by the variable name. To declare and assign values to variables in Python, we simply use the assignment operator (=)."
   ]
  },
  {
   "cell_type": "code",
   "execution_count": 1,
   "id": "8a7b7743",
   "metadata": {},
   "outputs": [],
   "source": [
    "#Example\n",
    "name=\"Utkarsh\"\n",
    "age=\"21\""
   ]
  },
  {
   "cell_type": "markdown",
   "id": "f995ff11",
   "metadata": {},
   "source": [
    "In the above example we declare two variables 'name' and 'age'.We assign the values \"Utkarsh\" and 27 in each variable ."
   ]
  },
  {
   "cell_type": "markdown",
   "id": "b2a0a664",
   "metadata": {},
   "source": [
    "#### Q3. How do you convert one data type to another in Python?"
   ]
  },
  {
   "cell_type": "code",
   "execution_count": 2,
   "id": "b3e8c9be",
   "metadata": {},
   "outputs": [
    {
     "name": "stdout",
     "output_type": "stream",
     "text": [
      "Before conversion <class 'str'>\n",
      "After conversion <class 'int'>\n"
     ]
    }
   ],
   "source": [
    "# We convert one data type to other using type conversion functions.\n",
    "#Example\n",
    "age=\"27\"\n",
    "print(f\"Before conversion {type(age)}\")\n",
    "age=int(age)\n",
    "print(f\"After conversion {type(age)}\")"
   ]
  },
  {
   "cell_type": "markdown",
   "id": "9776ab2b",
   "metadata": {},
   "source": [
    "#### Q4. How do you write and execute a Python script from the command line?"
   ]
  },
  {
   "cell_type": "markdown",
   "id": "b071746b",
   "metadata": {},
   "source": [
    "To write and execute a Python script from the command line, follow these steps:\n",
    "\n",
    "1. Open a text editor and create a new file. You can use any text editor of your choice (e.g., Notepad, Sublime Text, Visual Studio Code).\n",
    "2. Write your Python code in the file. For example, let's create a simple script that prints \"Hello, world!\" to the console:\n",
    "3. Save the file with a .py extension. For example, save the file as hello.py.\n",
    "4. Open the command prompt or terminal on your operating system.\n",
    "5. Navigate to the directory where you saved the Python script. You can use the cd command (change directory) to navigate to the desired directory.\n",
    "6. Once you're in the correct directory, you can run the Python script by typing python followed by the name of the script file. In this case, the command would be: python hello.py\n",
    "7. Press Enter to execute the script. The output, \"Hello, world!\", should be displayed in the command prompt or terminal."
   ]
  },
  {
   "cell_type": "markdown",
   "id": "5d76c9ec",
   "metadata": {},
   "source": [
    "#### Q5. Given a list my_list = [1, 2, 3, 4, 5], write the code to slice the list and obtain the sub-list [2, 3]."
   ]
  },
  {
   "cell_type": "code",
   "execution_count": 4,
   "id": "2bf916e5",
   "metadata": {},
   "outputs": [
    {
     "data": {
      "text/plain": [
       "[2, 3]"
      ]
     },
     "execution_count": 4,
     "metadata": {},
     "output_type": "execute_result"
    }
   ],
   "source": [
    "my_list=[1,2,3,4,5]\n",
    "sliced_list=my_list[1:3]\n",
    "sliced_list"
   ]
  },
  {
   "cell_type": "markdown",
   "id": "b0bd9876",
   "metadata": {},
   "source": [
    "#### Q6. What is a complex number in mathematics, and how is it represented in Python?"
   ]
  },
  {
   "cell_type": "markdown",
   "id": "091fb8d6",
   "metadata": {},
   "source": [
    "In mathematics complex number is a number that contains two parts in it that is real and imaginary part. It is denoted in the form of x+iy where x is the real number and y is the imaginary number.\n",
    "In Python it is represented in the form of x+yj. Example 3+4j"
   ]
  },
  {
   "cell_type": "code",
   "execution_count": 5,
   "id": "10f3bc6d",
   "metadata": {},
   "outputs": [
    {
     "data": {
      "text/plain": [
       "complex"
      ]
     },
     "execution_count": 5,
     "metadata": {},
     "output_type": "execute_result"
    }
   ],
   "source": [
    "#Example\n",
    "comp=3+4j\n",
    "type(comp)"
   ]
  },
  {
   "cell_type": "markdown",
   "id": "a537f912",
   "metadata": {},
   "source": [
    "#### Q7. What is the correct way to declare a variable named age and assign the value 25 to it?"
   ]
  },
  {
   "cell_type": "code",
   "execution_count": 6,
   "id": "04242293",
   "metadata": {},
   "outputs": [
    {
     "data": {
      "text/plain": [
       "25"
      ]
     },
     "execution_count": 6,
     "metadata": {},
     "output_type": "execute_result"
    }
   ],
   "source": [
    "'''To do this first we need to declare a variable named age and then assign the\n",
    "   value 25 in it either in the form of string or integer.'''\n",
    "age=25\n",
    "age"
   ]
  },
  {
   "cell_type": "markdown",
   "id": "82ad3beb",
   "metadata": {},
   "source": [
    "#### Q8. Declare a variable named price and assign the value 9.99 to it. What data type does this variable belong to?"
   ]
  },
  {
   "cell_type": "code",
   "execution_count": 7,
   "id": "31147d4a",
   "metadata": {},
   "outputs": [
    {
     "data": {
      "text/plain": [
       "float"
      ]
     },
     "execution_count": 7,
     "metadata": {},
     "output_type": "execute_result"
    }
   ],
   "source": [
    "price=9.99\n",
    "type(price)"
   ]
  },
  {
   "cell_type": "markdown",
   "id": "69a260ef",
   "metadata": {},
   "source": [
    "#### Q9. Create a variable named name and assign your full name to it as a string. How would you print thevalue of this variable?"
   ]
  },
  {
   "cell_type": "code",
   "execution_count": 8,
   "id": "da889327",
   "metadata": {},
   "outputs": [
    {
     "name": "stdout",
     "output_type": "stream",
     "text": [
      "Utkarsh Jhariya\n"
     ]
    }
   ],
   "source": [
    "name=\"Utkarsh Jhariya\"\n",
    "#We can use print function to print its value\n",
    "print(name)"
   ]
  },
  {
   "cell_type": "markdown",
   "id": "d2fc3a39",
   "metadata": {},
   "source": [
    "#### Q10. Given the string \"Hello, World!\", extract the substring \"World\"."
   ]
  },
  {
   "cell_type": "code",
   "execution_count": 10,
   "id": "8c785f9e",
   "metadata": {},
   "outputs": [
    {
     "name": "stdout",
     "output_type": "stream",
     "text": [
      "World\n"
     ]
    }
   ],
   "source": [
    "sting=\"Hello, World!\"\n",
    "substring = sting[7:12]\n",
    "print(substring)"
   ]
  },
  {
   "cell_type": "markdown",
   "id": "bd32b7d4",
   "metadata": {},
   "source": [
    "#### Q11. Create a variable named \"is_student\" and assign it a boolean value indicating whether you are currently a student or not."
   ]
  },
  {
   "cell_type": "code",
   "execution_count": null,
   "id": "d611413d",
   "metadata": {},
   "outputs": [],
   "source": [
    "is"
   ]
  }
 ],
 "metadata": {
  "kernelspec": {
   "display_name": "Python 3 (ipykernel)",
   "language": "python",
   "name": "python3"
  },
  "language_info": {
   "codemirror_mode": {
    "name": "ipython",
    "version": 3
   },
   "file_extension": ".py",
   "mimetype": "text/x-python",
   "name": "python",
   "nbconvert_exporter": "python",
   "pygments_lexer": "ipython3",
   "version": "3.10.5"
  }
 },
 "nbformat": 4,
 "nbformat_minor": 5
}
